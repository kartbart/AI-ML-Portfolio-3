{
 "cells": [
  {
   "cell_type": "markdown",
   "metadata": {},
   "source": [
    "# Imports"
   ]
  },
  {
   "cell_type": "code",
   "execution_count": 48,
   "metadata": {},
   "outputs": [],
   "source": [
    "import pandas as pd\n",
    "import numpy as np \n",
    "import matplotlib.pyplot as plt \n",
    "import xgboost as xgb\n",
    "import warnings\n",
    "warnings.simplefilter(\"ignore\", UserWarning)\n",
    "import seaborn as sns\n",
    "from sklearn.metrics import mean_squared_error, mean_absolute_percentage_error"
   ]
  },
  {
   "cell_type": "markdown",
   "metadata": {},
   "source": [
    "# Read the dataframe"
   ]
  },
  {
   "cell_type": "code",
   "execution_count": 49,
   "metadata": {},
   "outputs": [],
   "source": [
    "file_path = r\"C:\\Users\\karth\\Downloads\\operational_demand.csv\"\n",
    "df = pd.read_csv(file_path)"
   ]
  },
  {
   "cell_type": "markdown",
   "metadata": {},
   "source": [
    "# Data Cleaning & Manipulation"
   ]
  },
  {
   "cell_type": "code",
   "execution_count": 50,
   "metadata": {},
   "outputs": [],
   "source": [
    "df = df.drop(['awbiMetadataKeyHash', 'awbiMetadataChangeHash','awbiMetadataCreateDateTime',\n",
    "                                'awbiMetadataLoadYear','awbiMetadataLoadMonth','awbiMetadataLoadDay',\n",
    "                                'awbiMetadataLoadHour','awbiMetadataLoadDateTime'], axis=1)\n",
    "df = df.reset_index(drop=True)"
   ]
  },
  {
   "cell_type": "code",
   "execution_count": 51,
   "metadata": {},
   "outputs": [
    {
     "name": "stdout",
     "output_type": "stream",
     "text": [
      "Unique values in operationalDemandWorkCentreGroup:  1\n",
      "Value counts in operationalDemandWorkCentreGroup:  operationalDemandWorkCentreGroup\n",
      "493    6035\n",
      "Name: count, dtype: int64\n"
     ]
    }
   ],
   "source": [
    "unique_value = df['operationalDemandWorkCentreGroup'].nunique()\n",
    "print(\"Unique values in operationalDemandWorkCentreGroup: \", unique_value)\n",
    "\n",
    "value_counts = df['operationalDemandWorkCentreGroup'].value_counts()\n",
    "print(\"Value counts in operationalDemandWorkCentreGroup: \", value_counts)"
   ]
  },
  {
   "cell_type": "code",
   "execution_count": 52,
   "metadata": {},
   "outputs": [
    {
     "data": {
      "text/plain": [
       "operationalDemandDate                  object\n",
       "operationalDemandOrderTypeGroup        object\n",
       "operationalDemandProcess               object\n",
       "operationalDemandWorkCentreGroup        int64\n",
       "operationalDemandOpHoursCount           int64\n",
       "operationalDemandOpHoursSum           float64\n",
       "operationalDemandDateSid                int64\n",
       "operationalDemandDateWeekBeginDate     object\n",
       "operationalDemandSumZeroedRe          float64\n",
       "operationalDemandOpTravelHours        float64\n",
       "dtype: object"
      ]
     },
     "execution_count": 52,
     "metadata": {},
     "output_type": "execute_result"
    }
   ],
   "source": [
    "df.dtypes"
   ]
  },
  {
   "cell_type": "code",
   "execution_count": 53,
   "metadata": {},
   "outputs": [],
   "source": [
    "# Changing the operationalDemandDate column to a date time format allowing us to grab features from the date when required\n",
    "df['operationalDemandDate'] = pd.to_datetime(df['operationalDemandDate'])\n",
    "\n",
    "#Changing the columns below to a string/flot data type respecriveely to allow for data manipulation\n",
    "df['operationalDemandWorkCentreGroup'] = df['operationalDemandWorkCentreGroup'].astype(str)\n",
    "df['operationalDemandDateSid'] = df['operationalDemandDateSid'].astype(str)\n",
    "df['operationalDemandOpTravelHours'] = df['operationalDemandOpTravelHours'].astype(float)"
   ]
  },
  {
   "cell_type": "code",
   "execution_count": 54,
   "metadata": {},
   "outputs": [],
   "source": [
    "#Sorting the dates in an ascending order\n",
    "df = df.sort_values(by=['operationalDemandDateWeekBeginDate','operationalDemandDate'], ascending= True)"
   ]
  },
  {
   "cell_type": "code",
   "execution_count": 55,
   "metadata": {},
   "outputs": [
    {
     "data": {
      "text/html": [
       "<div>\n",
       "<style scoped>\n",
       "    .dataframe tbody tr th:only-of-type {\n",
       "        vertical-align: middle;\n",
       "    }\n",
       "\n",
       "    .dataframe tbody tr th {\n",
       "        vertical-align: top;\n",
       "    }\n",
       "\n",
       "    .dataframe thead th {\n",
       "        text-align: right;\n",
       "    }\n",
       "</style>\n",
       "<table border=\"1\" class=\"dataframe\">\n",
       "  <thead>\n",
       "    <tr style=\"text-align: right;\">\n",
       "      <th></th>\n",
       "      <th>operationalDemandDate</th>\n",
       "      <th>operationalDemandOrderTypeGroup</th>\n",
       "      <th>operationalDemandProcess</th>\n",
       "      <th>operationalDemandWorkCentreGroup</th>\n",
       "      <th>operationalDemandOpHoursCount</th>\n",
       "      <th>operationalDemandOpHoursSum</th>\n",
       "      <th>operationalDemandDateSid</th>\n",
       "      <th>operationalDemandDateWeekBeginDate</th>\n",
       "      <th>operationalDemandSumZeroedRe</th>\n",
       "      <th>operationalDemandOpTravelHours</th>\n",
       "      <th>OperationalDemandYear</th>\n",
       "      <th>OperationalDemandMonth</th>\n",
       "      <th>OperationalDemandDayofweek</th>\n",
       "      <th>OperationalDemandQuarter</th>\n",
       "    </tr>\n",
       "  </thead>\n",
       "  <tbody>\n",
       "    <tr>\n",
       "      <th>1158</th>\n",
       "      <td>2019-04-01</td>\n",
       "      <td>PLANNED</td>\n",
       "      <td>COLLECTION</td>\n",
       "      <td>493</td>\n",
       "      <td>140</td>\n",
       "      <td>83.700000</td>\n",
       "      <td>20190401</td>\n",
       "      <td>2019-04-01T00:00:00.000+0000</td>\n",
       "      <td>47.266667</td>\n",
       "      <td>54.224462</td>\n",
       "      <td>2019</td>\n",
       "      <td>4</td>\n",
       "      <td>0</td>\n",
       "      <td>2</td>\n",
       "    </tr>\n",
       "    <tr>\n",
       "      <th>4735</th>\n",
       "      <td>2019-04-01</td>\n",
       "      <td>PLANNED</td>\n",
       "      <td>TREATMENT</td>\n",
       "      <td>493</td>\n",
       "      <td>30</td>\n",
       "      <td>80.800000</td>\n",
       "      <td>20190401</td>\n",
       "      <td>2019-04-01T00:00:00.000+0000</td>\n",
       "      <td>47.666667</td>\n",
       "      <td>13.086870</td>\n",
       "      <td>2019</td>\n",
       "      <td>4</td>\n",
       "      <td>0</td>\n",
       "      <td>2</td>\n",
       "    </tr>\n",
       "    <tr>\n",
       "      <th>5039</th>\n",
       "      <td>2019-04-01</td>\n",
       "      <td>REACTIVE</td>\n",
       "      <td>MAINTENANCE</td>\n",
       "      <td>493</td>\n",
       "      <td>39</td>\n",
       "      <td>87.066667</td>\n",
       "      <td>20190401</td>\n",
       "      <td>2019-04-01T00:00:00.000+0000</td>\n",
       "      <td>59.500000</td>\n",
       "      <td>21.249216</td>\n",
       "      <td>2019</td>\n",
       "      <td>4</td>\n",
       "      <td>0</td>\n",
       "      <td>2</td>\n",
       "    </tr>\n",
       "    <tr>\n",
       "      <th>2338</th>\n",
       "      <td>2019-04-02</td>\n",
       "      <td>PLANNED</td>\n",
       "      <td>COLLECTION</td>\n",
       "      <td>493</td>\n",
       "      <td>1</td>\n",
       "      <td>0.500000</td>\n",
       "      <td>20190402</td>\n",
       "      <td>2019-04-01T00:00:00.000+0000</td>\n",
       "      <td>0.416667</td>\n",
       "      <td>0.238611</td>\n",
       "      <td>2019</td>\n",
       "      <td>4</td>\n",
       "      <td>1</td>\n",
       "      <td>2</td>\n",
       "    </tr>\n",
       "    <tr>\n",
       "      <th>3217</th>\n",
       "      <td>2019-04-02</td>\n",
       "      <td>REACTIVE</td>\n",
       "      <td>COLLECTION</td>\n",
       "      <td>493</td>\n",
       "      <td>20</td>\n",
       "      <td>38.233333</td>\n",
       "      <td>20190402</td>\n",
       "      <td>2019-04-01T00:00:00.000+0000</td>\n",
       "      <td>26.333333</td>\n",
       "      <td>8.394569</td>\n",
       "      <td>2019</td>\n",
       "      <td>4</td>\n",
       "      <td>1</td>\n",
       "      <td>2</td>\n",
       "    </tr>\n",
       "    <tr>\n",
       "      <th>...</th>\n",
       "      <td>...</td>\n",
       "      <td>...</td>\n",
       "      <td>...</td>\n",
       "      <td>...</td>\n",
       "      <td>...</td>\n",
       "      <td>...</td>\n",
       "      <td>...</td>\n",
       "      <td>...</td>\n",
       "      <td>...</td>\n",
       "      <td>...</td>\n",
       "      <td>...</td>\n",
       "      <td>...</td>\n",
       "      <td>...</td>\n",
       "      <td>...</td>\n",
       "    </tr>\n",
       "    <tr>\n",
       "      <th>3400</th>\n",
       "      <td>2024-01-29</td>\n",
       "      <td>PLANNED</td>\n",
       "      <td>COLLECTION</td>\n",
       "      <td>493</td>\n",
       "      <td>1</td>\n",
       "      <td>2.000000</td>\n",
       "      <td>20240129</td>\n",
       "      <td>2024-01-29T00:00:00.000+0000</td>\n",
       "      <td>0.000000</td>\n",
       "      <td>0.587613</td>\n",
       "      <td>2024</td>\n",
       "      <td>1</td>\n",
       "      <td>0</td>\n",
       "      <td>1</td>\n",
       "    </tr>\n",
       "    <tr>\n",
       "      <th>6028</th>\n",
       "      <td>2024-01-29</td>\n",
       "      <td>PLANNED</td>\n",
       "      <td>MAINTENANCE</td>\n",
       "      <td>493</td>\n",
       "      <td>129</td>\n",
       "      <td>118.083333</td>\n",
       "      <td>20240129</td>\n",
       "      <td>2024-01-29T00:00:00.000+0000</td>\n",
       "      <td>0.000000</td>\n",
       "      <td>67.171177</td>\n",
       "      <td>2024</td>\n",
       "      <td>1</td>\n",
       "      <td>0</td>\n",
       "      <td>1</td>\n",
       "    </tr>\n",
       "    <tr>\n",
       "      <th>254</th>\n",
       "      <td>2024-02-01</td>\n",
       "      <td>PLANNED</td>\n",
       "      <td>COLLECTION</td>\n",
       "      <td>493</td>\n",
       "      <td>120</td>\n",
       "      <td>86.883333</td>\n",
       "      <td>20240201</td>\n",
       "      <td>2024-01-29T00:00:00.000+0000</td>\n",
       "      <td>0.000000</td>\n",
       "      <td>70.513571</td>\n",
       "      <td>2024</td>\n",
       "      <td>2</td>\n",
       "      <td>3</td>\n",
       "      <td>1</td>\n",
       "    </tr>\n",
       "    <tr>\n",
       "      <th>5305</th>\n",
       "      <td>2024-02-01</td>\n",
       "      <td>PLANNED</td>\n",
       "      <td>MAINTENANCE</td>\n",
       "      <td>493</td>\n",
       "      <td>11</td>\n",
       "      <td>11.000000</td>\n",
       "      <td>20240201</td>\n",
       "      <td>2024-01-29T00:00:00.000+0000</td>\n",
       "      <td>0.000000</td>\n",
       "      <td>5.727775</td>\n",
       "      <td>2024</td>\n",
       "      <td>2</td>\n",
       "      <td>3</td>\n",
       "      <td>1</td>\n",
       "    </tr>\n",
       "    <tr>\n",
       "      <th>5252</th>\n",
       "      <td>2024-02-04</td>\n",
       "      <td>PLANNED</td>\n",
       "      <td>MAINTENANCE</td>\n",
       "      <td>493</td>\n",
       "      <td>2</td>\n",
       "      <td>1.000000</td>\n",
       "      <td>20240204</td>\n",
       "      <td>2024-01-29T00:00:00.000+0000</td>\n",
       "      <td>0.000000</td>\n",
       "      <td>1.041414</td>\n",
       "      <td>2024</td>\n",
       "      <td>2</td>\n",
       "      <td>6</td>\n",
       "      <td>1</td>\n",
       "    </tr>\n",
       "  </tbody>\n",
       "</table>\n",
       "<p>6035 rows × 14 columns</p>\n",
       "</div>"
      ],
      "text/plain": [
       "     operationalDemandDate operationalDemandOrderTypeGroup  \\\n",
       "1158            2019-04-01                         PLANNED   \n",
       "4735            2019-04-01                         PLANNED   \n",
       "5039            2019-04-01                        REACTIVE   \n",
       "2338            2019-04-02                         PLANNED   \n",
       "3217            2019-04-02                        REACTIVE   \n",
       "...                    ...                             ...   \n",
       "3400            2024-01-29                         PLANNED   \n",
       "6028            2024-01-29                         PLANNED   \n",
       "254             2024-02-01                         PLANNED   \n",
       "5305            2024-02-01                         PLANNED   \n",
       "5252            2024-02-04                         PLANNED   \n",
       "\n",
       "     operationalDemandProcess operationalDemandWorkCentreGroup  \\\n",
       "1158               COLLECTION                              493   \n",
       "4735                TREATMENT                              493   \n",
       "5039              MAINTENANCE                              493   \n",
       "2338               COLLECTION                              493   \n",
       "3217               COLLECTION                              493   \n",
       "...                       ...                              ...   \n",
       "3400               COLLECTION                              493   \n",
       "6028              MAINTENANCE                              493   \n",
       "254                COLLECTION                              493   \n",
       "5305              MAINTENANCE                              493   \n",
       "5252              MAINTENANCE                              493   \n",
       "\n",
       "      operationalDemandOpHoursCount  operationalDemandOpHoursSum  \\\n",
       "1158                            140                    83.700000   \n",
       "4735                             30                    80.800000   \n",
       "5039                             39                    87.066667   \n",
       "2338                              1                     0.500000   \n",
       "3217                             20                    38.233333   \n",
       "...                             ...                          ...   \n",
       "3400                              1                     2.000000   \n",
       "6028                            129                   118.083333   \n",
       "254                             120                    86.883333   \n",
       "5305                             11                    11.000000   \n",
       "5252                              2                     1.000000   \n",
       "\n",
       "     operationalDemandDateSid operationalDemandDateWeekBeginDate  \\\n",
       "1158                 20190401       2019-04-01T00:00:00.000+0000   \n",
       "4735                 20190401       2019-04-01T00:00:00.000+0000   \n",
       "5039                 20190401       2019-04-01T00:00:00.000+0000   \n",
       "2338                 20190402       2019-04-01T00:00:00.000+0000   \n",
       "3217                 20190402       2019-04-01T00:00:00.000+0000   \n",
       "...                       ...                                ...   \n",
       "3400                 20240129       2024-01-29T00:00:00.000+0000   \n",
       "6028                 20240129       2024-01-29T00:00:00.000+0000   \n",
       "254                  20240201       2024-01-29T00:00:00.000+0000   \n",
       "5305                 20240201       2024-01-29T00:00:00.000+0000   \n",
       "5252                 20240204       2024-01-29T00:00:00.000+0000   \n",
       "\n",
       "      operationalDemandSumZeroedRe  operationalDemandOpTravelHours  \\\n",
       "1158                     47.266667                       54.224462   \n",
       "4735                     47.666667                       13.086870   \n",
       "5039                     59.500000                       21.249216   \n",
       "2338                      0.416667                        0.238611   \n",
       "3217                     26.333333                        8.394569   \n",
       "...                            ...                             ...   \n",
       "3400                      0.000000                        0.587613   \n",
       "6028                      0.000000                       67.171177   \n",
       "254                       0.000000                       70.513571   \n",
       "5305                      0.000000                        5.727775   \n",
       "5252                      0.000000                        1.041414   \n",
       "\n",
       "      OperationalDemandYear  OperationalDemandMonth  \\\n",
       "1158                   2019                       4   \n",
       "4735                   2019                       4   \n",
       "5039                   2019                       4   \n",
       "2338                   2019                       4   \n",
       "3217                   2019                       4   \n",
       "...                     ...                     ...   \n",
       "3400                   2024                       1   \n",
       "6028                   2024                       1   \n",
       "254                    2024                       2   \n",
       "5305                   2024                       2   \n",
       "5252                   2024                       2   \n",
       "\n",
       "      OperationalDemandDayofweek  OperationalDemandQuarter  \n",
       "1158                           0                         2  \n",
       "4735                           0                         2  \n",
       "5039                           0                         2  \n",
       "2338                           1                         2  \n",
       "3217                           1                         2  \n",
       "...                          ...                       ...  \n",
       "3400                           0                         1  \n",
       "6028                           0                         1  \n",
       "254                            3                         1  \n",
       "5305                           3                         1  \n",
       "5252                           6                         1  \n",
       "\n",
       "[6035 rows x 14 columns]"
      ]
     },
     "execution_count": 55,
     "metadata": {},
     "output_type": "execute_result"
    }
   ],
   "source": [
    "# Making use of the dt.year/month etc repectively to create a new column in the dataset which stores only the year/month of the operationalDemandDate\n",
    "df['OperationalDemandYear'] = df['operationalDemandDate'].dt.year\n",
    "df['OperationalDemandMonth'] = df['operationalDemandDate'].dt.month\n",
    "df['OperationalDemandDayofweek'] = df['operationalDemandDate'].dt.day_of_week\n",
    "df['OperationalDemandQuarter'] = df['operationalDemandDate'].dt.quarter\n",
    "df"
   ]
  },
  {
   "cell_type": "markdown",
   "metadata": {},
   "source": [
    "- **For OperationalDemandDayofweek**\n",
    "- Monday = 0\n",
    "- Tuesday = 1\n",
    "- Wednesday = 2\n",
    "- Thursday = 3\n",
    "- Friday = 4\n",
    "- Saturday = 5\n",
    "- Sunday = 6"
   ]
  },
  {
   "cell_type": "code",
   "execution_count": 56,
   "metadata": {},
   "outputs": [
    {
     "name": "stdout",
     "output_type": "stream",
     "text": [
      "The minimum date from when the forecasting data starts is:  2019-04-01 00:00:00\n",
      "The maximum date from when the forecasting data ends is:  2024-02-04 00:00:00\n"
     ]
    }
   ],
   "source": [
    "#Looking at the minimum date from when the forecasting data starts\n",
    "print(\"The minimum date from when the forecasting data starts is: \", df['operationalDemandDate'].min())\n",
    "\n",
    "#Looking at the minimum date from when the forecasting data ends\n",
    "print(\"The maximum date from when the forecasting data ends is: \", df['operationalDemandDate'].max())"
   ]
  },
  {
   "cell_type": "markdown",
   "metadata": {},
   "source": [
    "# Handling the outliers"
   ]
  },
  {
   "cell_type": "code",
   "execution_count": 57,
   "metadata": {},
   "outputs": [],
   "source": [
    "#USing standard anomaly detection of q1/q3 +- 1.5 * IQR to identify outliers and improve the predictability of models\n",
    "\n",
    "#Upper and Lower Quartiles for the flow data to identify IQR\n",
    "q1_hours = df['operationalDemandOpHoursSum'].quantile(0.25)\n",
    "q3_hours = df['operationalDemandOpHoursSum'].quantile(0.75)\n",
    "\n",
    "#IQR and Upper and lower bounds to catch outliers \n",
    "iqr_hours = q3_hours - q1_hours\n",
    "lower_bound_hours = q1_hours - 1.5 * iqr_hours\n",
    "upper_bound_hours = q3_hours + 1.5 * iqr_hours\n",
    "\n",
    "\n",
    "#Filtered Data frame to apply boundaries to values for each site and for the respective feature and response variables\n",
    "df = df[\n",
    "    (df['operationalDemandOpHoursSum'] >= lower_bound_hours) & (df['operationalDemandOpHoursSum'] <= upper_bound_hours)]"
   ]
  },
  {
   "cell_type": "markdown",
   "metadata": {},
   "source": [
    "# Differntiating Weekday/Weekened"
   ]
  },
  {
   "cell_type": "code",
   "execution_count": 58,
   "metadata": {},
   "outputs": [
    {
     "data": {
      "text/plain": [
       "array([0, 1, 2, 3, 4])"
      ]
     },
     "execution_count": 58,
     "metadata": {},
     "output_type": "execute_result"
    }
   ],
   "source": [
    "# Filtering a weekday df to only contain days from mon - fri\n",
    "weekday_df = df[df['OperationalDemandDayofweek'].isin([0, 1, 2, 3, 4])]\n",
    "weekday_df['OperationalDemandDayofweek'].unique()"
   ]
  },
  {
   "cell_type": "markdown",
   "metadata": {},
   "source": [
    "# Weekened Manipulation "
   ]
  },
  {
   "cell_type": "code",
   "execution_count": 59,
   "metadata": {},
   "outputs": [
    {
     "data": {
      "text/html": [
       "<div>\n",
       "<style scoped>\n",
       "    .dataframe tbody tr th:only-of-type {\n",
       "        vertical-align: middle;\n",
       "    }\n",
       "\n",
       "    .dataframe tbody tr th {\n",
       "        vertical-align: top;\n",
       "    }\n",
       "\n",
       "    .dataframe thead th {\n",
       "        text-align: right;\n",
       "    }\n",
       "</style>\n",
       "<table border=\"1\" class=\"dataframe\">\n",
       "  <thead>\n",
       "    <tr style=\"text-align: right;\">\n",
       "      <th></th>\n",
       "      <th>operationalDemandDate</th>\n",
       "      <th>operationalDemandOrderTypeGroup</th>\n",
       "      <th>operationalDemandProcess</th>\n",
       "      <th>operationalDemandWorkCentreGroup</th>\n",
       "      <th>operationalDemandOpHoursCount</th>\n",
       "      <th>operationalDemandOpHoursSum</th>\n",
       "      <th>operationalDemandDateSid</th>\n",
       "      <th>operationalDemandDateWeekBeginDate</th>\n",
       "      <th>operationalDemandSumZeroedRe</th>\n",
       "      <th>operationalDemandOpTravelHours</th>\n",
       "      <th>OperationalDemandYear</th>\n",
       "      <th>OperationalDemandMonth</th>\n",
       "      <th>OperationalDemandDayofweek</th>\n",
       "      <th>OperationalDemandQuarter</th>\n",
       "    </tr>\n",
       "  </thead>\n",
       "  <tbody>\n",
       "    <tr>\n",
       "      <th>1812</th>\n",
       "      <td>2019-04-06</td>\n",
       "      <td>REACTIVE</td>\n",
       "      <td>?</td>\n",
       "      <td>493</td>\n",
       "      <td>1</td>\n",
       "      <td>0.416667</td>\n",
       "      <td>20190406</td>\n",
       "      <td>2019-04-01T00:00:00.000+0000</td>\n",
       "      <td>1.416667</td>\n",
       "      <td>0.596775</td>\n",
       "      <td>2019</td>\n",
       "      <td>4</td>\n",
       "      <td>5</td>\n",
       "      <td>2</td>\n",
       "    </tr>\n",
       "    <tr>\n",
       "      <th>4362</th>\n",
       "      <td>2019-04-06</td>\n",
       "      <td>REACTIVE</td>\n",
       "      <td>TREATMENT</td>\n",
       "      <td>493</td>\n",
       "      <td>9</td>\n",
       "      <td>10.333333</td>\n",
       "      <td>20190406</td>\n",
       "      <td>2019-04-01T00:00:00.000+0000</td>\n",
       "      <td>4.916667</td>\n",
       "      <td>2.705398</td>\n",
       "      <td>2019</td>\n",
       "      <td>4</td>\n",
       "      <td>5</td>\n",
       "      <td>2</td>\n",
       "    </tr>\n",
       "    <tr>\n",
       "      <th>1299</th>\n",
       "      <td>2019-04-07</td>\n",
       "      <td>REACTIVE</td>\n",
       "      <td>?</td>\n",
       "      <td>493</td>\n",
       "      <td>5</td>\n",
       "      <td>5.166667</td>\n",
       "      <td>20190407</td>\n",
       "      <td>2019-04-01T00:00:00.000+0000</td>\n",
       "      <td>6.666667</td>\n",
       "      <td>2.983873</td>\n",
       "      <td>2019</td>\n",
       "      <td>4</td>\n",
       "      <td>6</td>\n",
       "      <td>2</td>\n",
       "    </tr>\n",
       "    <tr>\n",
       "      <th>2297</th>\n",
       "      <td>2019-04-07</td>\n",
       "      <td>PLANNED</td>\n",
       "      <td>MAINTENANCE</td>\n",
       "      <td>493</td>\n",
       "      <td>2</td>\n",
       "      <td>5.533333</td>\n",
       "      <td>20190407</td>\n",
       "      <td>2019-04-01T00:00:00.000+0000</td>\n",
       "      <td>2.000000</td>\n",
       "      <td>2.146389</td>\n",
       "      <td>2019</td>\n",
       "      <td>4</td>\n",
       "      <td>6</td>\n",
       "      <td>2</td>\n",
       "    </tr>\n",
       "    <tr>\n",
       "      <th>3402</th>\n",
       "      <td>2019-04-07</td>\n",
       "      <td>REACTIVE</td>\n",
       "      <td>COLLECTION</td>\n",
       "      <td>493</td>\n",
       "      <td>15</td>\n",
       "      <td>32.516667</td>\n",
       "      <td>20190407</td>\n",
       "      <td>2019-04-01T00:00:00.000+0000</td>\n",
       "      <td>16.500000</td>\n",
       "      <td>7.100452</td>\n",
       "      <td>2019</td>\n",
       "      <td>4</td>\n",
       "      <td>6</td>\n",
       "      <td>2</td>\n",
       "    </tr>\n",
       "    <tr>\n",
       "      <th>...</th>\n",
       "      <td>...</td>\n",
       "      <td>...</td>\n",
       "      <td>...</td>\n",
       "      <td>...</td>\n",
       "      <td>...</td>\n",
       "      <td>...</td>\n",
       "      <td>...</td>\n",
       "      <td>...</td>\n",
       "      <td>...</td>\n",
       "      <td>...</td>\n",
       "      <td>...</td>\n",
       "      <td>...</td>\n",
       "      <td>...</td>\n",
       "      <td>...</td>\n",
       "    </tr>\n",
       "    <tr>\n",
       "      <th>5924</th>\n",
       "      <td>2023-12-24</td>\n",
       "      <td>PLANNED</td>\n",
       "      <td>TREATMENT</td>\n",
       "      <td>493</td>\n",
       "      <td>18</td>\n",
       "      <td>9.000000</td>\n",
       "      <td>20231224</td>\n",
       "      <td>2023-12-18T00:00:00.000+0000</td>\n",
       "      <td>0.000000</td>\n",
       "      <td>17.457164</td>\n",
       "      <td>2023</td>\n",
       "      <td>12</td>\n",
       "      <td>6</td>\n",
       "      <td>4</td>\n",
       "    </tr>\n",
       "    <tr>\n",
       "      <th>625</th>\n",
       "      <td>2024-01-06</td>\n",
       "      <td>PLANNED</td>\n",
       "      <td>COLLECTION</td>\n",
       "      <td>493</td>\n",
       "      <td>1</td>\n",
       "      <td>1.000000</td>\n",
       "      <td>20240106</td>\n",
       "      <td>2024-01-01T00:00:00.000+0000</td>\n",
       "      <td>0.000000</td>\n",
       "      <td>0.587613</td>\n",
       "      <td>2024</td>\n",
       "      <td>1</td>\n",
       "      <td>5</td>\n",
       "      <td>1</td>\n",
       "    </tr>\n",
       "    <tr>\n",
       "      <th>5765</th>\n",
       "      <td>2024-01-14</td>\n",
       "      <td>PLANNED</td>\n",
       "      <td>COLLECTION</td>\n",
       "      <td>493</td>\n",
       "      <td>2</td>\n",
       "      <td>1.000000</td>\n",
       "      <td>20240114</td>\n",
       "      <td>2024-01-08T00:00:00.000+0000</td>\n",
       "      <td>0.000000</td>\n",
       "      <td>1.175226</td>\n",
       "      <td>2024</td>\n",
       "      <td>1</td>\n",
       "      <td>6</td>\n",
       "      <td>1</td>\n",
       "    </tr>\n",
       "    <tr>\n",
       "      <th>4363</th>\n",
       "      <td>2024-01-28</td>\n",
       "      <td>PLANNED</td>\n",
       "      <td>COLLECTION</td>\n",
       "      <td>493</td>\n",
       "      <td>1</td>\n",
       "      <td>4.000000</td>\n",
       "      <td>20240128</td>\n",
       "      <td>2024-01-22T00:00:00.000+0000</td>\n",
       "      <td>0.000000</td>\n",
       "      <td>0.587613</td>\n",
       "      <td>2024</td>\n",
       "      <td>1</td>\n",
       "      <td>6</td>\n",
       "      <td>1</td>\n",
       "    </tr>\n",
       "    <tr>\n",
       "      <th>5252</th>\n",
       "      <td>2024-02-04</td>\n",
       "      <td>PLANNED</td>\n",
       "      <td>MAINTENANCE</td>\n",
       "      <td>493</td>\n",
       "      <td>2</td>\n",
       "      <td>1.000000</td>\n",
       "      <td>20240204</td>\n",
       "      <td>2024-01-29T00:00:00.000+0000</td>\n",
       "      <td>0.000000</td>\n",
       "      <td>1.041414</td>\n",
       "      <td>2024</td>\n",
       "      <td>2</td>\n",
       "      <td>6</td>\n",
       "      <td>1</td>\n",
       "    </tr>\n",
       "  </tbody>\n",
       "</table>\n",
       "<p>1484 rows × 14 columns</p>\n",
       "</div>"
      ],
      "text/plain": [
       "     operationalDemandDate operationalDemandOrderTypeGroup  \\\n",
       "1812            2019-04-06                        REACTIVE   \n",
       "4362            2019-04-06                        REACTIVE   \n",
       "1299            2019-04-07                        REACTIVE   \n",
       "2297            2019-04-07                         PLANNED   \n",
       "3402            2019-04-07                        REACTIVE   \n",
       "...                    ...                             ...   \n",
       "5924            2023-12-24                         PLANNED   \n",
       "625             2024-01-06                         PLANNED   \n",
       "5765            2024-01-14                         PLANNED   \n",
       "4363            2024-01-28                         PLANNED   \n",
       "5252            2024-02-04                         PLANNED   \n",
       "\n",
       "     operationalDemandProcess operationalDemandWorkCentreGroup  \\\n",
       "1812                        ?                              493   \n",
       "4362                TREATMENT                              493   \n",
       "1299                        ?                              493   \n",
       "2297              MAINTENANCE                              493   \n",
       "3402               COLLECTION                              493   \n",
       "...                       ...                              ...   \n",
       "5924                TREATMENT                              493   \n",
       "625                COLLECTION                              493   \n",
       "5765               COLLECTION                              493   \n",
       "4363               COLLECTION                              493   \n",
       "5252              MAINTENANCE                              493   \n",
       "\n",
       "      operationalDemandOpHoursCount  operationalDemandOpHoursSum  \\\n",
       "1812                              1                     0.416667   \n",
       "4362                              9                    10.333333   \n",
       "1299                              5                     5.166667   \n",
       "2297                              2                     5.533333   \n",
       "3402                             15                    32.516667   \n",
       "...                             ...                          ...   \n",
       "5924                             18                     9.000000   \n",
       "625                               1                     1.000000   \n",
       "5765                              2                     1.000000   \n",
       "4363                              1                     4.000000   \n",
       "5252                              2                     1.000000   \n",
       "\n",
       "     operationalDemandDateSid operationalDemandDateWeekBeginDate  \\\n",
       "1812                 20190406       2019-04-01T00:00:00.000+0000   \n",
       "4362                 20190406       2019-04-01T00:00:00.000+0000   \n",
       "1299                 20190407       2019-04-01T00:00:00.000+0000   \n",
       "2297                 20190407       2019-04-01T00:00:00.000+0000   \n",
       "3402                 20190407       2019-04-01T00:00:00.000+0000   \n",
       "...                       ...                                ...   \n",
       "5924                 20231224       2023-12-18T00:00:00.000+0000   \n",
       "625                  20240106       2024-01-01T00:00:00.000+0000   \n",
       "5765                 20240114       2024-01-08T00:00:00.000+0000   \n",
       "4363                 20240128       2024-01-22T00:00:00.000+0000   \n",
       "5252                 20240204       2024-01-29T00:00:00.000+0000   \n",
       "\n",
       "      operationalDemandSumZeroedRe  operationalDemandOpTravelHours  \\\n",
       "1812                      1.416667                        0.596775   \n",
       "4362                      4.916667                        2.705398   \n",
       "1299                      6.666667                        2.983873   \n",
       "2297                      2.000000                        2.146389   \n",
       "3402                     16.500000                        7.100452   \n",
       "...                            ...                             ...   \n",
       "5924                      0.000000                       17.457164   \n",
       "625                       0.000000                        0.587613   \n",
       "5765                      0.000000                        1.175226   \n",
       "4363                      0.000000                        0.587613   \n",
       "5252                      0.000000                        1.041414   \n",
       "\n",
       "      OperationalDemandYear  OperationalDemandMonth  \\\n",
       "1812                   2019                       4   \n",
       "4362                   2019                       4   \n",
       "1299                   2019                       4   \n",
       "2297                   2019                       4   \n",
       "3402                   2019                       4   \n",
       "...                     ...                     ...   \n",
       "5924                   2023                      12   \n",
       "625                    2024                       1   \n",
       "5765                   2024                       1   \n",
       "4363                   2024                       1   \n",
       "5252                   2024                       2   \n",
       "\n",
       "      OperationalDemandDayofweek  OperationalDemandQuarter  \n",
       "1812                           5                         2  \n",
       "4362                           5                         2  \n",
       "1299                           6                         2  \n",
       "2297                           6                         2  \n",
       "3402                           6                         2  \n",
       "...                          ...                       ...  \n",
       "5924                           6                         4  \n",
       "625                            5                         1  \n",
       "5765                           6                         1  \n",
       "4363                           6                         1  \n",
       "5252                           6                         1  \n",
       "\n",
       "[1484 rows x 14 columns]"
      ]
     },
     "execution_count": 59,
     "metadata": {},
     "output_type": "execute_result"
    }
   ],
   "source": [
    "# Weeknd data set to only include sat - sun\n",
    "weekend_df = df[df['OperationalDemandDayofweek'].isin([5, 6])]\n",
    "weekend_df"
   ]
  },
  {
   "cell_type": "code",
   "execution_count": 60,
   "metadata": {},
   "outputs": [
    {
     "data": {
      "text/html": [
       "<div>\n",
       "<style scoped>\n",
       "    .dataframe tbody tr th:only-of-type {\n",
       "        vertical-align: middle;\n",
       "    }\n",
       "\n",
       "    .dataframe tbody tr th {\n",
       "        vertical-align: top;\n",
       "    }\n",
       "\n",
       "    .dataframe thead th {\n",
       "        text-align: right;\n",
       "    }\n",
       "</style>\n",
       "<table border=\"1\" class=\"dataframe\">\n",
       "  <thead>\n",
       "    <tr style=\"text-align: right;\">\n",
       "      <th></th>\n",
       "      <th>operationalDemandDateWeekBeginDate</th>\n",
       "      <th>operationalDemandOpHoursSum</th>\n",
       "    </tr>\n",
       "  </thead>\n",
       "  <tbody>\n",
       "    <tr>\n",
       "      <th>0</th>\n",
       "      <td>2019-04-01T00:00:00.000+0000</td>\n",
       "      <td>90.816667</td>\n",
       "    </tr>\n",
       "    <tr>\n",
       "      <th>1</th>\n",
       "      <td>2019-04-08T00:00:00.000+0000</td>\n",
       "      <td>79.333333</td>\n",
       "    </tr>\n",
       "    <tr>\n",
       "      <th>2</th>\n",
       "      <td>2019-04-15T00:00:00.000+0000</td>\n",
       "      <td>113.766667</td>\n",
       "    </tr>\n",
       "    <tr>\n",
       "      <th>3</th>\n",
       "      <td>2019-04-22T00:00:00.000+0000</td>\n",
       "      <td>38.583333</td>\n",
       "    </tr>\n",
       "    <tr>\n",
       "      <th>4</th>\n",
       "      <td>2019-04-29T00:00:00.000+0000</td>\n",
       "      <td>57.300000</td>\n",
       "    </tr>\n",
       "    <tr>\n",
       "      <th>...</th>\n",
       "      <td>...</td>\n",
       "      <td>...</td>\n",
       "    </tr>\n",
       "    <tr>\n",
       "      <th>245</th>\n",
       "      <td>2023-12-18T00:00:00.000+0000</td>\n",
       "      <td>11.250000</td>\n",
       "    </tr>\n",
       "    <tr>\n",
       "      <th>246</th>\n",
       "      <td>2024-01-01T00:00:00.000+0000</td>\n",
       "      <td>1.000000</td>\n",
       "    </tr>\n",
       "    <tr>\n",
       "      <th>247</th>\n",
       "      <td>2024-01-08T00:00:00.000+0000</td>\n",
       "      <td>1.000000</td>\n",
       "    </tr>\n",
       "    <tr>\n",
       "      <th>248</th>\n",
       "      <td>2024-01-22T00:00:00.000+0000</td>\n",
       "      <td>4.000000</td>\n",
       "    </tr>\n",
       "    <tr>\n",
       "      <th>249</th>\n",
       "      <td>2024-01-29T00:00:00.000+0000</td>\n",
       "      <td>1.000000</td>\n",
       "    </tr>\n",
       "  </tbody>\n",
       "</table>\n",
       "<p>250 rows × 2 columns</p>\n",
       "</div>"
      ],
      "text/plain": [
       "    operationalDemandDateWeekBeginDate  operationalDemandOpHoursSum\n",
       "0         2019-04-01T00:00:00.000+0000                    90.816667\n",
       "1         2019-04-08T00:00:00.000+0000                    79.333333\n",
       "2         2019-04-15T00:00:00.000+0000                   113.766667\n",
       "3         2019-04-22T00:00:00.000+0000                    38.583333\n",
       "4         2019-04-29T00:00:00.000+0000                    57.300000\n",
       "..                                 ...                          ...\n",
       "245       2023-12-18T00:00:00.000+0000                    11.250000\n",
       "246       2024-01-01T00:00:00.000+0000                     1.000000\n",
       "247       2024-01-08T00:00:00.000+0000                     1.000000\n",
       "248       2024-01-22T00:00:00.000+0000                     4.000000\n",
       "249       2024-01-29T00:00:00.000+0000                     1.000000\n",
       "\n",
       "[250 rows x 2 columns]"
      ]
     },
     "execution_count": 60,
     "metadata": {},
     "output_type": "execute_result"
    }
   ],
   "source": [
    "# Weekend groupby in which we get a sum of hours for the weekend\n",
    "weekend_groupby = weekend_df.groupby('operationalDemandDateWeekBeginDate')['operationalDemandOpHoursSum'].sum().reset_index()\n",
    "weekend_groupby"
   ]
  },
  {
   "cell_type": "code",
   "execution_count": 61,
   "metadata": {},
   "outputs": [],
   "source": [
    "# Shift function to create date time features in which we can utlise previous weeks data as covariates to predict workload \n",
    "def shift_function(df,new_column_name,shift):\n",
    "  df[new_column_name] = df['operationalDemandOpHoursSum'].shift(shift)\n",
    "  \n",
    "# Shift function to create previous week's features for the weekend \n",
    "shift_1_weekend = shift_function(weekend_groupby, 'prev_week_1', 1)\n",
    "shift_2_weekend = shift_function(weekend_groupby, 'prev_week_2', 2)\n",
    "shift_3_weekend = shift_function(weekend_groupby, 'prev_week_3', 3)\n",
    "shift_4_weekend = shift_function(weekend_groupby, 'prev_week_4', 4)"
   ]
  },
  {
   "cell_type": "code",
   "execution_count": 62,
   "metadata": {},
   "outputs": [],
   "source": [
    "# dropping na's as a result of the shift function\n",
    "weekend_groupby = weekend_groupby.dropna(axis=0)"
   ]
  },
  {
   "cell_type": "code",
   "execution_count": 63,
   "metadata": {},
   "outputs": [
    {
     "name": "stderr",
     "output_type": "stream",
     "text": [
      "C:\\Users\\karth\\AppData\\Local\\Temp\\ipykernel_30400\\2529061735.py:3: SettingWithCopyWarning:\n",
      "\n",
      "\n",
      "A value is trying to be set on a copy of a slice from a DataFrame.\n",
      "Try using .loc[row_indexer,col_indexer] = value instead\n",
      "\n",
      "See the caveats in the documentation: https://pandas.pydata.org/pandas-docs/stable/user_guide/indexing.html#returning-a-view-versus-a-copy\n",
      "\n",
      "C:\\Users\\karth\\AppData\\Local\\Temp\\ipykernel_30400\\2529061735.py:4: SettingWithCopyWarning:\n",
      "\n",
      "\n",
      "A value is trying to be set on a copy of a slice from a DataFrame.\n",
      "Try using .loc[row_indexer,col_indexer] = value instead\n",
      "\n",
      "See the caveats in the documentation: https://pandas.pydata.org/pandas-docs/stable/user_guide/indexing.html#returning-a-view-versus-a-copy\n",
      "\n",
      "C:\\Users\\karth\\AppData\\Local\\Temp\\ipykernel_30400\\2529061735.py:5: SettingWithCopyWarning:\n",
      "\n",
      "\n",
      "A value is trying to be set on a copy of a slice from a DataFrame.\n",
      "Try using .loc[row_indexer,col_indexer] = value instead\n",
      "\n",
      "See the caveats in the documentation: https://pandas.pydata.org/pandas-docs/stable/user_guide/indexing.html#returning-a-view-versus-a-copy\n",
      "\n",
      "C:\\Users\\karth\\AppData\\Local\\Temp\\ipykernel_30400\\2529061735.py:6: SettingWithCopyWarning:\n",
      "\n",
      "\n",
      "A value is trying to be set on a copy of a slice from a DataFrame.\n",
      "Try using .loc[row_indexer,col_indexer] = value instead\n",
      "\n",
      "See the caveats in the documentation: https://pandas.pydata.org/pandas-docs/stable/user_guide/indexing.html#returning-a-view-versus-a-copy\n",
      "\n"
     ]
    }
   ],
   "source": [
    "# extracting date time featuresfor covariates within the prediction\n",
    "\n",
    "weekend_groupby['operationalDemandDateWeekBeginDate'] = pd.to_datetime(weekend_groupby['operationalDemandDateWeekBeginDate'])\n",
    "weekend_groupby['OperationalDemandYear'] = weekend_groupby['operationalDemandDateWeekBeginDate'].dt.year\n",
    "weekend_groupby['OperationalDemandMonth'] = weekend_groupby['operationalDemandDateWeekBeginDate'].dt.month\n",
    "weekend_groupby['OperationalDemandWeek'] = weekend_groupby['operationalDemandDateWeekBeginDate'].dt.isocalendar().week"
   ]
  },
  {
   "cell_type": "markdown",
   "metadata": {},
   "source": [
    "# Weekday Manipulation"
   ]
  },
  {
   "cell_type": "code",
   "execution_count": 64,
   "metadata": {},
   "outputs": [
    {
     "data": {
      "text/html": [
       "<div>\n",
       "<style scoped>\n",
       "    .dataframe tbody tr th:only-of-type {\n",
       "        vertical-align: middle;\n",
       "    }\n",
       "\n",
       "    .dataframe tbody tr th {\n",
       "        vertical-align: top;\n",
       "    }\n",
       "\n",
       "    .dataframe thead th {\n",
       "        text-align: right;\n",
       "    }\n",
       "</style>\n",
       "<table border=\"1\" class=\"dataframe\">\n",
       "  <thead>\n",
       "    <tr style=\"text-align: right;\">\n",
       "      <th></th>\n",
       "      <th>operationalDemandDateWeekBeginDate</th>\n",
       "      <th>operationalDemandOpHoursSum</th>\n",
       "    </tr>\n",
       "  </thead>\n",
       "  <tbody>\n",
       "    <tr>\n",
       "      <th>0</th>\n",
       "      <td>2019-04-01T00:00:00.000+0000</td>\n",
       "      <td>680.300000</td>\n",
       "    </tr>\n",
       "    <tr>\n",
       "      <th>1</th>\n",
       "      <td>2019-04-08T00:00:00.000+0000</td>\n",
       "      <td>501.683333</td>\n",
       "    </tr>\n",
       "    <tr>\n",
       "      <th>2</th>\n",
       "      <td>2019-04-15T00:00:00.000+0000</td>\n",
       "      <td>583.566667</td>\n",
       "    </tr>\n",
       "    <tr>\n",
       "      <th>3</th>\n",
       "      <td>2019-04-22T00:00:00.000+0000</td>\n",
       "      <td>346.100000</td>\n",
       "    </tr>\n",
       "    <tr>\n",
       "      <th>4</th>\n",
       "      <td>2019-04-29T00:00:00.000+0000</td>\n",
       "      <td>648.450000</td>\n",
       "    </tr>\n",
       "    <tr>\n",
       "      <th>...</th>\n",
       "      <td>...</td>\n",
       "      <td>...</td>\n",
       "    </tr>\n",
       "    <tr>\n",
       "      <th>247</th>\n",
       "      <td>2024-01-01T00:00:00.000+0000</td>\n",
       "      <td>2.000000</td>\n",
       "    </tr>\n",
       "    <tr>\n",
       "      <th>248</th>\n",
       "      <td>2024-01-08T00:00:00.000+0000</td>\n",
       "      <td>0.500000</td>\n",
       "    </tr>\n",
       "    <tr>\n",
       "      <th>249</th>\n",
       "      <td>2024-01-15T00:00:00.000+0000</td>\n",
       "      <td>87.250000</td>\n",
       "    </tr>\n",
       "    <tr>\n",
       "      <th>250</th>\n",
       "      <td>2024-01-22T00:00:00.000+0000</td>\n",
       "      <td>5.633333</td>\n",
       "    </tr>\n",
       "    <tr>\n",
       "      <th>251</th>\n",
       "      <td>2024-01-29T00:00:00.000+0000</td>\n",
       "      <td>99.883333</td>\n",
       "    </tr>\n",
       "  </tbody>\n",
       "</table>\n",
       "<p>251 rows × 2 columns</p>\n",
       "</div>"
      ],
      "text/plain": [
       "    operationalDemandDateWeekBeginDate  operationalDemandOpHoursSum\n",
       "0         2019-04-01T00:00:00.000+0000                   680.300000\n",
       "1         2019-04-08T00:00:00.000+0000                   501.683333\n",
       "2         2019-04-15T00:00:00.000+0000                   583.566667\n",
       "3         2019-04-22T00:00:00.000+0000                   346.100000\n",
       "4         2019-04-29T00:00:00.000+0000                   648.450000\n",
       "..                                 ...                          ...\n",
       "247       2024-01-01T00:00:00.000+0000                     2.000000\n",
       "248       2024-01-08T00:00:00.000+0000                     0.500000\n",
       "249       2024-01-15T00:00:00.000+0000                    87.250000\n",
       "250       2024-01-22T00:00:00.000+0000                     5.633333\n",
       "251       2024-01-29T00:00:00.000+0000                    99.883333\n",
       "\n",
       "[251 rows x 2 columns]"
      ]
     },
     "execution_count": 64,
     "metadata": {},
     "output_type": "execute_result"
    }
   ],
   "source": [
    "# grouping by the week and the operational demand sum to get a sum for the week\n",
    "week_groupby = weekday_df.groupby('operationalDemandDateWeekBeginDate')['operationalDemandOpHoursSum'].sum().reset_index()\n",
    "\n",
    "# Alligning the dates for both week and weekend to ensure both df's have the same date time frame\n",
    "week_groupby = week_groupby.drop(index=236, axis=1)\n",
    "week_groupby"
   ]
  },
  {
   "cell_type": "markdown",
   "metadata": {},
   "source": [
    "# Shift Function for Week"
   ]
  },
  {
   "cell_type": "code",
   "execution_count": 65,
   "metadata": {},
   "outputs": [],
   "source": [
    "\n",
    "\n",
    "# previous week's data ranging from week 1 - 4\n",
    "shift_1_week = shift_function(week_groupby, 'prev_week_1', 1)\n",
    "shift_2_week = shift_function(week_groupby, 'prev_week_2', 2)\n",
    "shift_3_week = shift_function(week_groupby, 'prev_week_3', 3)\n",
    "shift_4_week = shift_function(week_groupby, 'prev_week_4', 4)"
   ]
  },
  {
   "cell_type": "code",
   "execution_count": 66,
   "metadata": {},
   "outputs": [],
   "source": [
    "# The shift function creates na within the df in which need to be dropped\n",
    "week_groupby = week_groupby.dropna(axis=0)"
   ]
  },
  {
   "cell_type": "code",
   "execution_count": 67,
   "metadata": {},
   "outputs": [
    {
     "name": "stderr",
     "output_type": "stream",
     "text": [
      "C:\\Users\\karth\\AppData\\Local\\Temp\\ipykernel_30400\\1355344860.py:1: SettingWithCopyWarning:\n",
      "\n",
      "\n",
      "A value is trying to be set on a copy of a slice from a DataFrame.\n",
      "Try using .loc[row_indexer,col_indexer] = value instead\n",
      "\n",
      "See the caveats in the documentation: https://pandas.pydata.org/pandas-docs/stable/user_guide/indexing.html#returning-a-view-versus-a-copy\n",
      "\n",
      "C:\\Users\\karth\\AppData\\Local\\Temp\\ipykernel_30400\\1355344860.py:2: SettingWithCopyWarning:\n",
      "\n",
      "\n",
      "A value is trying to be set on a copy of a slice from a DataFrame.\n",
      "Try using .loc[row_indexer,col_indexer] = value instead\n",
      "\n",
      "See the caveats in the documentation: https://pandas.pydata.org/pandas-docs/stable/user_guide/indexing.html#returning-a-view-versus-a-copy\n",
      "\n",
      "C:\\Users\\karth\\AppData\\Local\\Temp\\ipykernel_30400\\1355344860.py:3: SettingWithCopyWarning:\n",
      "\n",
      "\n",
      "A value is trying to be set on a copy of a slice from a DataFrame.\n",
      "Try using .loc[row_indexer,col_indexer] = value instead\n",
      "\n",
      "See the caveats in the documentation: https://pandas.pydata.org/pandas-docs/stable/user_guide/indexing.html#returning-a-view-versus-a-copy\n",
      "\n",
      "C:\\Users\\karth\\AppData\\Local\\Temp\\ipykernel_30400\\1355344860.py:4: SettingWithCopyWarning:\n",
      "\n",
      "\n",
      "A value is trying to be set on a copy of a slice from a DataFrame.\n",
      "Try using .loc[row_indexer,col_indexer] = value instead\n",
      "\n",
      "See the caveats in the documentation: https://pandas.pydata.org/pandas-docs/stable/user_guide/indexing.html#returning-a-view-versus-a-copy\n",
      "\n"
     ]
    }
   ],
   "source": [
    "week_groupby['operationalDemandDateWeekBeginDate'] = pd.to_datetime(week_groupby['operationalDemandDateWeekBeginDate'])\n",
    "week_groupby['OperationalDemandYear'] = week_groupby['operationalDemandDateWeekBeginDate'].dt.year\n",
    "week_groupby['OperationalDemandMonth'] = week_groupby['operationalDemandDateWeekBeginDate'].dt.month\n",
    "week_groupby['OperationalDemandWeek'] = week_groupby['operationalDemandDateWeekBeginDate'].dt.isocalendar().week"
   ]
  },
  {
   "cell_type": "markdown",
   "metadata": {},
   "source": [
    "# EDA"
   ]
  },
  {
   "cell_type": "code",
   "execution_count": 68,
   "metadata": {},
   "outputs": [
    {
     "data": {
      "text/plain": [
       "[Text(0.5, 1.0, 'Operational demand time series plot')]"
      ]
     },
     "execution_count": 68,
     "metadata": {},
     "output_type": "execute_result"
    },
    {
     "data": {
      "image/png": "[encoded data removed]",
      "text/plain": [
       "<Figure size 1500x600 with 1 Axes>"
      ]
     },
     "metadata": {},
     "output_type": "display_data"
    }
   ],
   "source": [
    "#time series plot for operational hours from start to end\n",
    "\n",
    "#Week commencing on the x-axis\n",
    "x = df['operationalDemandDateWeekBeginDate']\n",
    "\n",
    "#total hours for the week\n",
    "y = df['operationalDemandOpHoursSum']\n",
    "\n",
    "#Seaborn timeseries plot\n",
    "\n",
    "#Seaborn timeseries plot\n",
    "sns.set(rc={\"figure.figsize\":(15, 6)})\n",
    "sns.lineplot(x='operationalDemandDateWeekBeginDate', y='operationalDemandOpHoursSum', data=df, linewidth=3, color='purple',\n",
    "             linestyle='solid').set(title='Operational demand time series plot')"
   ]
  },
  {
   "cell_type": "code",
   "execution_count": 69,
   "metadata": {},
   "outputs": [
    {
     "data": {
      "image/png": "[encoded data removed]",
      "text/plain": [
       "<Figure size 1500x500 with 1 Axes>"
      ]
     },
     "metadata": {},
     "output_type": "display_data"
    }
   ],
   "source": [
    "#Filtered data set of train and test split everything before 1st October 2021 trained & everything after tested\n",
    "train = df.loc[df['operationalDemandDateWeekBeginDate'] < '2021-10-01']\n",
    "test = df.loc[df['operationalDemandDateWeekBeginDate'] >= '2021-10-01']\n",
    "\n",
    "#Creation of a new filtered dataframe for train and test splits creates and index for the new df, if not accounted for the plot will include the index \n",
    "train.reset_index(drop=True, inplace=True)\n",
    "test.reset_index(drop=True, inplace=True)\n",
    "\n",
    "#Creation of plots and subplots to plot train and test sets on different axis \n",
    "fig, ax = plt.subplots(figsize=(15, 5))\n",
    "train.plot(x='operationalDemandDateWeekBeginDate', y='operationalDemandOpHoursSum', ax=ax, label='Training Set', title='Data Train/Test Split')\n",
    "test.plot(x='operationalDemandDateWeekBeginDate', y='operationalDemandOpHoursSum', ax=ax, label='Test Set')\n",
    "ax.axvline('2021-10-01', color='black', ls='--')\n",
    "ax.legend(['Training Set', 'Test Set'])\n",
    "plt.show()\n"
   ]
  },
  {
   "cell_type": "code",
   "execution_count": 70,
   "metadata": {},
   "outputs": [
    {
     "data": {
      "text/plain": [
       "operationalDemandDate                          2019-04-01 00:00:00\n",
       "operationalDemandOrderTypeGroup                                  ?\n",
       "operationalDemandProcess                                         ?\n",
       "operationalDemandWorkCentreGroup                               493\n",
       "operationalDemandOpHoursCount                                    1\n",
       "operationalDemandOpHoursSum                                    0.0\n",
       "operationalDemandDateSid                                  20190401\n",
       "operationalDemandDateWeekBeginDate    2019-04-01T00:00:00.000+0000\n",
       "operationalDemandSumZeroedRe                                   0.0\n",
       "operationalDemandOpTravelHours                            0.000278\n",
       "OperationalDemandYear                                         2019\n",
       "OperationalDemandMonth                                           1\n",
       "OperationalDemandDayofweek                                       0\n",
       "OperationalDemandQuarter                                         1\n",
       "dtype: object"
      ]
     },
     "execution_count": 70,
     "metadata": {},
     "output_type": "execute_result"
    }
   ],
   "source": [
    "#Looking at the minimum date from when the forecasting data starts\n",
    "train.min()"
   ]
  },
  {
   "cell_type": "markdown",
   "metadata": {},
   "source": [
    "# Time Series split for a month of data"
   ]
  },
  {
   "cell_type": "code",
   "execution_count": 71,
   "metadata": {},
   "outputs": [],
   "source": [
    "#Applying time series eda to assess behaviour within a week on data\n",
    "month1_df = df.loc[(df['operationalDemandDateWeekBeginDate'] >= '2023-04-01') & \n",
    "                              (df['operationalDemandDateWeekBeginDate'] < '2023-05-01') &\n",
    "                              (df['operationalDemandDate'] >=  '2023-04-01') & \n",
    "                              (df['operationalDemandDate'] <= '2023-05-01')]"
   ]
  },
  {
   "cell_type": "code",
   "execution_count": 72,
   "metadata": {},
   "outputs": [],
   "source": [
    "# Sorting the values in the df by the columns in ascending order \n",
    "month1_df = month1_df.sort_values(by=['operationalDemandDateWeekBeginDate', 'operationalDemandDate'], ascending=True)"
   ]
  },
  {
   "cell_type": "code",
   "execution_count": 73,
   "metadata": {},
   "outputs": [
    {
     "data": {
      "text/html": [
       "<div>\n",
       "<style scoped>\n",
       "    .dataframe tbody tr th:only-of-type {\n",
       "        vertical-align: middle;\n",
       "    }\n",
       "\n",
       "    .dataframe tbody tr th {\n",
       "        vertical-align: top;\n",
       "    }\n",
       "\n",
       "    .dataframe thead th {\n",
       "        text-align: right;\n",
       "    }\n",
       "</style>\n",
       "<table border=\"1\" class=\"dataframe\">\n",
       "  <thead>\n",
       "    <tr style=\"text-align: right;\">\n",
       "      <th></th>\n",
       "      <th>operationalDemandDate</th>\n",
       "      <th>operationalDemandOrderTypeGroup</th>\n",
       "      <th>operationalDemandProcess</th>\n",
       "      <th>operationalDemandWorkCentreGroup</th>\n",
       "      <th>operationalDemandOpHoursCount</th>\n",
       "      <th>operationalDemandOpHoursSum</th>\n",
       "      <th>operationalDemandDateSid</th>\n",
       "      <th>operationalDemandDateWeekBeginDate</th>\n",
       "      <th>operationalDemandSumZeroedRe</th>\n",
       "      <th>operationalDemandOpTravelHours</th>\n",
       "      <th>OperationalDemandYear</th>\n",
       "      <th>OperationalDemandMonth</th>\n",
       "      <th>OperationalDemandDayofweek</th>\n",
       "      <th>OperationalDemandQuarter</th>\n",
       "    </tr>\n",
       "  </thead>\n",
       "  <tbody>\n",
       "    <tr>\n",
       "      <th>411</th>\n",
       "      <td>2023-04-03</td>\n",
       "      <td>PLANNED</td>\n",
       "      <td>COLLECTION</td>\n",
       "      <td>493</td>\n",
       "      <td>4</td>\n",
       "      <td>0.200000</td>\n",
       "      <td>20230403</td>\n",
       "      <td>2023-04-03T00:00:00.000+0000</td>\n",
       "      <td>0.166667</td>\n",
       "      <td>2.350452</td>\n",
       "      <td>2023</td>\n",
       "      <td>4</td>\n",
       "      <td>0</td>\n",
       "      <td>2</td>\n",
       "    </tr>\n",
       "    <tr>\n",
       "      <th>507</th>\n",
       "      <td>2023-04-03</td>\n",
       "      <td>PLANNED</td>\n",
       "      <td>MAINTENANCE</td>\n",
       "      <td>493</td>\n",
       "      <td>44</td>\n",
       "      <td>88.530000</td>\n",
       "      <td>20230403</td>\n",
       "      <td>2023-04-03T00:00:00.000+0000</td>\n",
       "      <td>40.833333</td>\n",
       "      <td>20.340621</td>\n",
       "      <td>2023</td>\n",
       "      <td>4</td>\n",
       "      <td>0</td>\n",
       "      <td>2</td>\n",
       "    </tr>\n",
       "    <tr>\n",
       "      <th>1844</th>\n",
       "      <td>2023-04-03</td>\n",
       "      <td>REACTIVE</td>\n",
       "      <td>?</td>\n",
       "      <td>493</td>\n",
       "      <td>7</td>\n",
       "      <td>1.750000</td>\n",
       "      <td>20230403</td>\n",
       "      <td>2023-04-03T00:00:00.000+0000</td>\n",
       "      <td>1.083333</td>\n",
       "      <td>2.363769</td>\n",
       "      <td>2023</td>\n",
       "      <td>4</td>\n",
       "      <td>0</td>\n",
       "      <td>2</td>\n",
       "    </tr>\n",
       "    <tr>\n",
       "      <th>3483</th>\n",
       "      <td>2023-04-03</td>\n",
       "      <td>REACTIVE</td>\n",
       "      <td>TREATMENT</td>\n",
       "      <td>493</td>\n",
       "      <td>23</td>\n",
       "      <td>33.333333</td>\n",
       "      <td>20230403</td>\n",
       "      <td>2023-04-03T00:00:00.000+0000</td>\n",
       "      <td>13.000000</td>\n",
       "      <td>28.193479</td>\n",
       "      <td>2023</td>\n",
       "      <td>4</td>\n",
       "      <td>0</td>\n",
       "      <td>2</td>\n",
       "    </tr>\n",
       "    <tr>\n",
       "      <th>5938</th>\n",
       "      <td>2023-04-03</td>\n",
       "      <td>PLANNED</td>\n",
       "      <td>TREATMENT</td>\n",
       "      <td>493</td>\n",
       "      <td>32</td>\n",
       "      <td>52.716667</td>\n",
       "      <td>20230403</td>\n",
       "      <td>2023-04-03T00:00:00.000+0000</td>\n",
       "      <td>48.666667</td>\n",
       "      <td>18.802442</td>\n",
       "      <td>2023</td>\n",
       "      <td>4</td>\n",
       "      <td>0</td>\n",
       "      <td>2</td>\n",
       "    </tr>\n",
       "    <tr>\n",
       "      <th>...</th>\n",
       "      <td>...</td>\n",
       "      <td>...</td>\n",
       "      <td>...</td>\n",
       "      <td>...</td>\n",
       "      <td>...</td>\n",
       "      <td>...</td>\n",
       "      <td>...</td>\n",
       "      <td>...</td>\n",
       "      <td>...</td>\n",
       "      <td>...</td>\n",
       "      <td>...</td>\n",
       "      <td>...</td>\n",
       "      <td>...</td>\n",
       "      <td>...</td>\n",
       "    </tr>\n",
       "    <tr>\n",
       "      <th>2894</th>\n",
       "      <td>2023-04-28</td>\n",
       "      <td>REACTIVE</td>\n",
       "      <td>?</td>\n",
       "      <td>493</td>\n",
       "      <td>4</td>\n",
       "      <td>2.033333</td>\n",
       "      <td>20230428</td>\n",
       "      <td>2023-04-24T00:00:00.000+0000</td>\n",
       "      <td>4.333333</td>\n",
       "      <td>0.573444</td>\n",
       "      <td>2023</td>\n",
       "      <td>4</td>\n",
       "      <td>4</td>\n",
       "      <td>2</td>\n",
       "    </tr>\n",
       "    <tr>\n",
       "      <th>3403</th>\n",
       "      <td>2023-04-28</td>\n",
       "      <td>PLANNED</td>\n",
       "      <td>COLLECTION</td>\n",
       "      <td>493</td>\n",
       "      <td>4</td>\n",
       "      <td>1.866667</td>\n",
       "      <td>20230428</td>\n",
       "      <td>2023-04-24T00:00:00.000+0000</td>\n",
       "      <td>5.200000</td>\n",
       "      <td>1.178282</td>\n",
       "      <td>2023</td>\n",
       "      <td>4</td>\n",
       "      <td>4</td>\n",
       "      <td>2</td>\n",
       "    </tr>\n",
       "    <tr>\n",
       "      <th>335</th>\n",
       "      <td>2023-04-29</td>\n",
       "      <td>PLANNED</td>\n",
       "      <td>TREATMENT</td>\n",
       "      <td>493</td>\n",
       "      <td>16</td>\n",
       "      <td>22.846667</td>\n",
       "      <td>20230429</td>\n",
       "      <td>2023-04-24T00:00:00.000+0000</td>\n",
       "      <td>15.500000</td>\n",
       "      <td>11.655332</td>\n",
       "      <td>2023</td>\n",
       "      <td>4</td>\n",
       "      <td>5</td>\n",
       "      <td>2</td>\n",
       "    </tr>\n",
       "    <tr>\n",
       "      <th>5324</th>\n",
       "      <td>2023-04-29</td>\n",
       "      <td>REACTIVE</td>\n",
       "      <td>TREATMENT</td>\n",
       "      <td>493</td>\n",
       "      <td>7</td>\n",
       "      <td>15.450000</td>\n",
       "      <td>20230429</td>\n",
       "      <td>2023-04-24T00:00:00.000+0000</td>\n",
       "      <td>4.000000</td>\n",
       "      <td>3.897425</td>\n",
       "      <td>2023</td>\n",
       "      <td>4</td>\n",
       "      <td>5</td>\n",
       "      <td>2</td>\n",
       "    </tr>\n",
       "    <tr>\n",
       "      <th>340</th>\n",
       "      <td>2023-04-30</td>\n",
       "      <td>PLANNED</td>\n",
       "      <td>TREATMENT</td>\n",
       "      <td>493</td>\n",
       "      <td>3</td>\n",
       "      <td>1.166667</td>\n",
       "      <td>20230430</td>\n",
       "      <td>2023-04-24T00:00:00.000+0000</td>\n",
       "      <td>1.750000</td>\n",
       "      <td>1.940518</td>\n",
       "      <td>2023</td>\n",
       "      <td>4</td>\n",
       "      <td>6</td>\n",
       "      <td>2</td>\n",
       "    </tr>\n",
       "  </tbody>\n",
       "</table>\n",
       "<p>99 rows × 14 columns</p>\n",
       "</div>"
      ],
      "text/plain": [
       "     operationalDemandDate operationalDemandOrderTypeGroup  \\\n",
       "411             2023-04-03                         PLANNED   \n",
       "507             2023-04-03                         PLANNED   \n",
       "1844            2023-04-03                        REACTIVE   \n",
       "3483            2023-04-03                        REACTIVE   \n",
       "5938            2023-04-03                         PLANNED   \n",
       "...                    ...                             ...   \n",
       "2894            2023-04-28                        REACTIVE   \n",
       "3403            2023-04-28                         PLANNED   \n",
       "335             2023-04-29                         PLANNED   \n",
       "5324            2023-04-29                        REACTIVE   \n",
       "340             2023-04-30                         PLANNED   \n",
       "\n",
       "     operationalDemandProcess operationalDemandWorkCentreGroup  \\\n",
       "411                COLLECTION                              493   \n",
       "507               MAINTENANCE                              493   \n",
       "1844                        ?                              493   \n",
       "3483                TREATMENT                              493   \n",
       "5938                TREATMENT                              493   \n",
       "...                       ...                              ...   \n",
       "2894                        ?                              493   \n",
       "3403               COLLECTION                              493   \n",
       "335                 TREATMENT                              493   \n",
       "5324                TREATMENT                              493   \n",
       "340                 TREATMENT                              493   \n",
       "\n",
       "      operationalDemandOpHoursCount  operationalDemandOpHoursSum  \\\n",
       "411                               4                     0.200000   \n",
       "507                              44                    88.530000   \n",
       "1844                              7                     1.750000   \n",
       "3483                             23                    33.333333   \n",
       "5938                             32                    52.716667   \n",
       "...                             ...                          ...   \n",
       "2894                              4                     2.033333   \n",
       "3403                              4                     1.866667   \n",
       "335                              16                    22.846667   \n",
       "5324                              7                    15.450000   \n",
       "340                               3                     1.166667   \n",
       "\n",
       "     operationalDemandDateSid operationalDemandDateWeekBeginDate  \\\n",
       "411                  20230403       2023-04-03T00:00:00.000+0000   \n",
       "507                  20230403       2023-04-03T00:00:00.000+0000   \n",
       "1844                 20230403       2023-04-03T00:00:00.000+0000   \n",
       "3483                 20230403       2023-04-03T00:00:00.000+0000   \n",
       "5938                 20230403       2023-04-03T00:00:00.000+0000   \n",
       "...                       ...                                ...   \n",
       "2894                 20230428       2023-04-24T00:00:00.000+0000   \n",
       "3403                 20230428       2023-04-24T00:00:00.000+0000   \n",
       "335                  20230429       2023-04-24T00:00:00.000+0000   \n",
       "5324                 20230429       2023-04-24T00:00:00.000+0000   \n",
       "340                  20230430       2023-04-24T00:00:00.000+0000   \n",
       "\n",
       "      operationalDemandSumZeroedRe  operationalDemandOpTravelHours  \\\n",
       "411                       0.166667                        2.350452   \n",
       "507                      40.833333                       20.340621   \n",
       "1844                      1.083333                        2.363769   \n",
       "3483                     13.000000                       28.193479   \n",
       "5938                     48.666667                       18.802442   \n",
       "...                            ...                             ...   \n",
       "2894                      4.333333                        0.573444   \n",
       "3403                      5.200000                        1.178282   \n",
       "335                      15.500000                       11.655332   \n",
       "5324                      4.000000                        3.897425   \n",
       "340                       1.750000                        1.940518   \n",
       "\n",
       "      OperationalDemandYear  OperationalDemandMonth  \\\n",
       "411                    2023                       4   \n",
       "507                    2023                       4   \n",
       "1844                   2023                       4   \n",
       "3483                   2023                       4   \n",
       "5938                   2023                       4   \n",
       "...                     ...                     ...   \n",
       "2894                   2023                       4   \n",
       "3403                   2023                       4   \n",
       "335                    2023                       4   \n",
       "5324                   2023                       4   \n",
       "340                    2023                       4   \n",
       "\n",
       "      OperationalDemandDayofweek  OperationalDemandQuarter  \n",
       "411                            0                         2  \n",
       "507                            0                         2  \n",
       "1844                           0                         2  \n",
       "3483                           0                         2  \n",
       "5938                           0                         2  \n",
       "...                          ...                       ...  \n",
       "2894                           4                         2  \n",
       "3403                           4                         2  \n",
       "335                            5                         2  \n",
       "5324                           5                         2  \n",
       "340                            6                         2  \n",
       "\n",
       "[99 rows x 14 columns]"
      ]
     },
     "execution_count": 73,
     "metadata": {},
     "output_type": "execute_result"
    }
   ],
   "source": [
    "month1_df"
   ]
  },
  {
   "cell_type": "code",
   "execution_count": 74,
   "metadata": {},
   "outputs": [
    {
     "data": {
      "application/vnd.plotly.v1+json": {
       "config": {
        "plotlyServerURL": "https://plot.ly"
       },
       "data": [
        {
         "hovertemplate": "operationalDemandDate=%{x}<br>operationalDemandOpHoursSum=%{y}<extra></extra>",
         "legendgroup": "",
         "line": {
          "color": "#636efa",
          "dash": "solid"
         },
         "marker": {
          "symbol": "circle"
         },
         "mode": "lines",
         "name": "",
         "orientation": "v",
         "showlegend": false,
         "type": "scatter",
         "x": [
          "2023-04-03T00:00:00",
          "2023-04-03T00:00:00",
          "2023-04-03T00:00:00",
          "2023-04-03T00:00:00",
          "2023-04-03T00:00:00",
          "2023-04-03T00:00:00",
          "2023-04-04T00:00:00",
          "2023-04-04T00:00:00",
          "2023-04-04T00:00:00",
          "2023-04-04T00:00:00",
          "2023-04-05T00:00:00",
          "2023-04-05T00:00:00",
          "2023-04-05T00:00:00",
          "2023-04-05T00:00:00",
          "2023-04-05T00:00:00",
          "2023-04-05T00:00:00",
          "2023-04-06T00:00:00",
          "2023-04-06T00:00:00",
          "2023-04-07T00:00:00",
          "2023-04-07T00:00:00",
          "2023-04-07T00:00:00",
          "2023-04-07T00:00:00",
          "2023-04-07T00:00:00",
          "2023-04-08T00:00:00",
          "2023-04-09T00:00:00",
          "2023-04-09T00:00:00",
          "2023-04-09T00:00:00",
          "2023-04-09T00:00:00",
          "2023-04-10T00:00:00",
          "2023-04-10T00:00:00",
          "2023-04-11T00:00:00",
          "2023-04-11T00:00:00",
          "2023-04-11T00:00:00",
          "2023-04-11T00:00:00",
          "2023-04-11T00:00:00",
          "2023-04-12T00:00:00",
          "2023-04-12T00:00:00",
          "2023-04-12T00:00:00",
          "2023-04-12T00:00:00",
          "2023-04-13T00:00:00",
          "2023-04-13T00:00:00",
          "2023-04-13T00:00:00",
          "2023-04-13T00:00:00",
          "2023-04-13T00:00:00",
          "2023-04-14T00:00:00",
          "2023-04-14T00:00:00",
          "2023-04-16T00:00:00",
          "2023-04-17T00:00:00",
          "2023-04-17T00:00:00",
          "2023-04-17T00:00:00",
          "2023-04-17T00:00:00",
          "2023-04-17T00:00:00",
          "2023-04-18T00:00:00",
          "2023-04-18T00:00:00",
          "2023-04-18T00:00:00",
          "2023-04-18T00:00:00",
          "2023-04-19T00:00:00",
          "2023-04-19T00:00:00",
          "2023-04-19T00:00:00",
          "2023-04-19T00:00:00",
          "2023-04-19T00:00:00",
          "2023-04-19T00:00:00",
          "2023-04-19T00:00:00",
          "2023-04-20T00:00:00",
          "2023-04-20T00:00:00",
          "2023-04-20T00:00:00",
          "2023-04-20T00:00:00",
          "2023-04-20T00:00:00",
          "2023-04-21T00:00:00",
          "2023-04-21T00:00:00",
          "2023-04-21T00:00:00",
          "2023-04-21T00:00:00",
          "2023-04-22T00:00:00",
          "2023-04-22T00:00:00",
          "2023-04-22T00:00:00",
          "2023-04-22T00:00:00",
          "2023-04-22T00:00:00",
          "2023-04-23T00:00:00",
          "2023-04-24T00:00:00",
          "2023-04-24T00:00:00",
          "2023-04-24T00:00:00",
          "2023-04-24T00:00:00",
          "2023-04-24T00:00:00",
          "2023-04-25T00:00:00",
          "2023-04-25T00:00:00",
          "2023-04-25T00:00:00",
          "2023-04-25T00:00:00",
          "2023-04-26T00:00:00",
          "2023-04-26T00:00:00",
          "2023-04-26T00:00:00",
          "2023-04-26T00:00:00",
          "2023-04-27T00:00:00",
          "2023-04-27T00:00:00",
          "2023-04-28T00:00:00",
          "2023-04-28T00:00:00",
          "2023-04-28T00:00:00",
          "2023-04-29T00:00:00",
          "2023-04-29T00:00:00",
          "2023-04-30T00:00:00"
         ],
         "xaxis": "x",
         "y": [
          0.2,
          88.53,
          1.75,
          33.333333333333336,
          52.71666666666666,
          61.93333333333333,
          50.781666666666666,
          5.38,
          58.28833333333333,
          46.43166666666667,
          5.785,
          0,
          66.62333333333333,
          0.1,
          58.05333333333332,
          46.59666666666665,
          88.50833333333334,
          4.208333333333333,
          1.05,
          0,
          0.5,
          53.60833333333334,
          13.27,
          21.62,
          19.41333333333333,
          15.883333333333333,
          5.183333333333334,
          18.883333333333336,
          3.1833333333333336,
          28.8,
          8.733333333333334,
          0,
          50.09166666666667,
          30.73333333333333,
          54.806666666666665,
          2.5666666666666664,
          72.695,
          0.1183333333333333,
          12.316666666666668,
          53.888333333333335,
          1.4833333333333334,
          0,
          25.4,
          69.05333333333333,
          0,
          10.516666666666666,
          32.225,
          76.85499999999999,
          6.766666666666667,
          4.416666666666667,
          48.585,
          64.01833333333333,
          11.983333333333334,
          0,
          61.85,
          12.96833333333333,
          16.483333333333334,
          35.684999999999995,
          58.34333333333331,
          4.15,
          3.7666666666666666,
          0,
          50.81,
          55.89833333333334,
          0,
          3.033333333333333,
          98.01833333333332,
          19.7,
          49.655,
          8.45,
          2.033333333333333,
          5.95,
          42.120000000000005,
          0,
          23.62,
          9.883333333333333,
          9.283333333333331,
          0.6333333333333333,
          92.035,
          1.05,
          5.866666666666666,
          53.44,
          24.6,
          55.33833333333333,
          1.1166666666666667,
          2.5,
          69.77333333333334,
          0,
          84.70833333333334,
          0,
          0,
          57.27,
          48.95333333333333,
          0,
          2.033333333333333,
          1.8666666666666667,
          22.846666666666664,
          15.45,
          1.1666666666666663
         ],
         "yaxis": "y"
        }
       ],
       "layout": {
        "legend": {
         "tracegroupgap": 0
        },
        "margin": {
         "t": 60
        },
        "template": {
         "data": {
          "bar": [
           {
            "error_x": {
             "color": "#2a3f5f"
            },
            "error_y": {
             "color": "#2a3f5f"
            },
            "marker": {
             "line": {
              "color": "#E5ECF6",
              "width": 0.5
             },
             "pattern": {
              "fillmode": "overlay",
              "size": 10,
              "solidity": 0.2
             }
            },
            "type": "bar"
           }
          ],
          "barpolar": [
           {
            "marker": {
             "line": {
              "color": "#E5ECF6",
              "width": 0.5
             },
             "pattern": {
              "fillmode": "overlay",
              "size": 10,
              "solidity": 0.2
             }
            },
            "type": "barpolar"
           }
          ],
          "carpet": [
           {
            "aaxis": {
             "endlinecolor": "#2a3f5f",
             "gridcolor": "white",
             "linecolor": "white",
             "minorgridcolor": "white",
             "startlinecolor": "#2a3f5f"
            },
            "baxis": {
             "endlinecolor": "#2a3f5f",
             "gridcolor": "white",
             "linecolor": "white",
             "minorgridcolor": "white",
             "startlinecolor": "#2a3f5f"
            },
            "type": "carpet"
           }
          ],
          "choropleth": [
           {
            "colorbar": {
             "outlinewidth": 0,
             "ticks": ""
            },
            "type": "choropleth"
           }
          ],
          "contour": [
           {
            "colorbar": {
             "outlinewidth": 0,
             "ticks": ""
            },
            "colorscale": [
             [
              0,
              "#0d0887"
             ],
             [
              0.1111111111111111,
              "#46039f"
             ],
             [
              0.2222222222222222,
              "#7201a8"
             ],
             [
              0.3333333333333333,
              "#9c179e"
             ],
             [
              0.4444444444444444,
              "#bd3786"
             ],
             [
              0.5555555555555556,
              "#d8576b"
             ],
             [
              0.6666666666666666,
              "#ed7953"
             ],
             [
              0.7777777777777778,
              "#fb9f3a"
             ],
             [
              0.8888888888888888,
              "#fdca26"
             ],
             [
              1,
              "#f0f921"
             ]
            ],
            "type": "contour"
           }
          ],
          "contourcarpet": [
           {
            "colorbar": {
             "outlinewidth": 0,
             "ticks": ""
            },
            "type": "contourcarpet"
           }
          ],
          "heatmap": [
           {
            "colorbar": {
             "outlinewidth": 0,
             "ticks": ""
            },
            "colorscale": [
             [
              0,
              "#0d0887"
             ],
             [
              0.1111111111111111,
              "#46039f"
             ],
             [
              0.2222222222222222,
              "#7201a8"
             ],
             [
              0.3333333333333333,
              "#9c179e"
             ],
             [
              0.4444444444444444,
              "#bd3786"
             ],
             [
              0.5555555555555556,
              "#d8576b"
             ],
             [
              0.6666666666666666,
              "#ed7953"
             ],
             [
              0.7777777777777778,
              "#fb9f3a"
             ],
             [
              0.8888888888888888,
              "#fdca26"
             ],
             [
              1,
              "#f0f921"
             ]
            ],
            "type": "heatmap"
           }
          ],
          "heatmapgl": [
           {
            "colorbar": {
             "outlinewidth": 0,
             "ticks": ""
            },
            "colorscale": [
             [
              0,
              "#0d0887"
             ],
             [
              0.1111111111111111,
              "#46039f"
             ],
             [
              0.2222222222222222,
              "#7201a8"
             ],
             [
              0.3333333333333333,
              "#9c179e"
             ],
             [
              0.4444444444444444,
              "#bd3786"
             ],
             [
              0.5555555555555556,
              "#d8576b"
             ],
             [
              0.6666666666666666,
              "#ed7953"
             ],
             [
              0.7777777777777778,
              "#fb9f3a"
             ],
             [
              0.8888888888888888,
              "#fdca26"
             ],
             [
              1,
              "#f0f921"
             ]
            ],
            "type": "heatmapgl"
           }
          ],
          "histogram": [
           {
            "marker": {
             "pattern": {
              "fillmode": "overlay",
              "size": 10,
              "solidity": 0.2
             }
            },
            "type": "histogram"
           }
          ],
          "histogram2d": [
           {
            "colorbar": {
             "outlinewidth": 0,
             "ticks": ""
            },
            "colorscale": [
             [
              0,
              "#0d0887"
             ],
             [
              0.1111111111111111,
              "#46039f"
             ],
             [
              0.2222222222222222,
              "#7201a8"
             ],
             [
              0.3333333333333333,
              "#9c179e"
             ],
             [
              0.4444444444444444,
              "#bd3786"
             ],
             [
              0.5555555555555556,
              "#d8576b"
             ],
             [
              0.6666666666666666,
              "#ed7953"
             ],
             [
              0.7777777777777778,
              "#fb9f3a"
             ],
             [
              0.8888888888888888,
              "#fdca26"
             ],
             [
              1,
              "#f0f921"
             ]
            ],
            "type": "histogram2d"
           }
          ],
          "histogram2dcontour": [
           {
            "colorbar": {
             "outlinewidth": 0,
             "ticks": ""
            },
            "colorscale": [
             [
              0,
              "#0d0887"
             ],
             [
              0.1111111111111111,
              "#46039f"
             ],
             [
              0.2222222222222222,
              "#7201a8"
             ],
             [
              0.3333333333333333,
              "#9c179e"
             ],
             [
              0.4444444444444444,
              "#bd3786"
             ],
             [
              0.5555555555555556,
              "#d8576b"
             ],
             [
              0.6666666666666666,
              "#ed7953"
             ],
             [
              0.7777777777777778,
              "#fb9f3a"
             ],
             [
              0.8888888888888888,
              "#fdca26"
             ],
             [
              1,
              "#f0f921"
             ]
            ],
            "type": "histogram2dcontour"
           }
          ],
          "mesh3d": [
           {
            "colorbar": {
             "outlinewidth": 0,
             "ticks": ""
            },
            "type": "mesh3d"
           }
          ],
          "parcoords": [
           {
            "line": {
             "colorbar": {
              "outlinewidth": 0,
              "ticks": ""
             }
            },
            "type": "parcoords"
           }
          ],
          "pie": [
           {
            "automargin": true,
            "type": "pie"
           }
          ],
          "scatter": [
           {
            "fillpattern": {
             "fillmode": "overlay",
             "size": 10,
             "solidity": 0.2
            },
            "type": "scatter"
           }
          ],
          "scatter3d": [
           {
            "line": {
             "colorbar": {
              "outlinewidth": 0,
              "ticks": ""
             }
            },
            "marker": {
             "colorbar": {
              "outlinewidth": 0,
              "ticks": ""
             }
            },
            "type": "scatter3d"
           }
          ],
          "scattercarpet": [
           {
            "marker": {
             "colorbar": {
              "outlinewidth": 0,
              "ticks": ""
             }
            },
            "type": "scattercarpet"
           }
          ],
          "scattergeo": [
           {
            "marker": {
             "colorbar": {
              "outlinewidth": 0,
              "ticks": ""
             }
            },
            "type": "scattergeo"
           }
          ],
          "scattergl": [
           {
            "marker": {
             "colorbar": {
              "outlinewidth": 0,
              "ticks": ""
             }
            },
            "type": "scattergl"
           }
          ],
          "scattermapbox": [
           {
            "marker": {
             "colorbar": {
              "outlinewidth": 0,
              "ticks": ""
             }
            },
            "type": "scattermapbox"
           }
          ],
          "scatterpolar": [
           {
            "marker": {
             "colorbar": {
              "outlinewidth": 0,
              "ticks": ""
             }
            },
            "type": "scatterpolar"
           }
          ],
          "scatterpolargl": [
           {
            "marker": {
             "colorbar": {
              "outlinewidth": 0,
              "ticks": ""
             }
            },
            "type": "scatterpolargl"
           }
          ],
          "scatterternary": [
           {
            "marker": {
             "colorbar": {
              "outlinewidth": 0,
              "ticks": ""
             }
            },
            "type": "scatterternary"
           }
          ],
          "surface": [
           {
            "colorbar": {
             "outlinewidth": 0,
             "ticks": ""
            },
            "colorscale": [
             [
              0,
              "#0d0887"
             ],
             [
              0.1111111111111111,
              "#46039f"
             ],
             [
              0.2222222222222222,
              "#7201a8"
             ],
             [
              0.3333333333333333,
              "#9c179e"
             ],
             [
              0.4444444444444444,
              "#bd3786"
             ],
             [
              0.5555555555555556,
              "#d8576b"
             ],
             [
              0.6666666666666666,
              "#ed7953"
             ],
             [
              0.7777777777777778,
              "#fb9f3a"
             ],
             [
              0.8888888888888888,
              "#fdca26"
             ],
             [
              1,
              "#f0f921"
             ]
            ],
            "type": "surface"
           }
          ],
          "table": [
           {
            "cells": {
             "fill": {
              "color": "#EBF0F8"
             },
             "line": {
              "color": "white"
             }
            },
            "header": {
             "fill": {
              "color": "#C8D4E3"
             },
             "line": {
              "color": "white"
             }
            },
            "type": "table"
           }
          ]
         },
         "layout": {
          "annotationdefaults": {
           "arrowcolor": "#2a3f5f",
           "arrowhead": 0,
           "arrowwidth": 1
          },
          "autotypenumbers": "strict",
          "coloraxis": {
           "colorbar": {
            "outlinewidth": 0,
            "ticks": ""
           }
          },
          "colorscale": {
           "diverging": [
            [
             0,
             "#8e0152"
            ],
            [
             0.1,
             "#c51b7d"
            ],
            [
             0.2,
             "#de77ae"
            ],
            [
             0.3,
             "#f1b6da"
            ],
            [
             0.4,
             "#fde0ef"
            ],
            [
             0.5,
             "#f7f7f7"
            ],
            [
             0.6,
             "#e6f5d0"
            ],
            [
             0.7,
             "#b8e186"
            ],
            [
             0.8,
             "#7fbc41"
            ],
            [
             0.9,
             "#4d9221"
            ],
            [
             1,
             "#276419"
            ]
           ],
           "sequential": [
            [
             0,
             "#0d0887"
            ],
            [
             0.1111111111111111,
             "#46039f"
            ],
            [
             0.2222222222222222,
             "#7201a8"
            ],
            [
             0.3333333333333333,
             "#9c179e"
            ],
            [
             0.4444444444444444,
             "#bd3786"
            ],
            [
             0.5555555555555556,
             "#d8576b"
            ],
            [
             0.6666666666666666,
             "#ed7953"
            ],
            [
             0.7777777777777778,
             "#fb9f3a"
            ],
            [
             0.8888888888888888,
             "#fdca26"
            ],
            [
             1,
             "#f0f921"
            ]
           ],
           "sequentialminus": [
            [
             0,
             "#0d0887"
            ],
            [
             0.1111111111111111,
             "#46039f"
            ],
            [
             0.2222222222222222,
             "#7201a8"
            ],
            [
             0.3333333333333333,
             "#9c179e"
            ],
            [
             0.4444444444444444,
             "#bd3786"
            ],
            [
             0.5555555555555556,
             "#d8576b"
            ],
            [
             0.6666666666666666,
             "#ed7953"
            ],
            [
             0.7777777777777778,
             "#fb9f3a"
            ],
            [
             0.8888888888888888,
             "#fdca26"
            ],
            [
             1,
             "#f0f921"
            ]
           ]
          },
          "colorway": [
           "#636efa",
           "#EF553B",
           "#00cc96",
           "#ab63fa",
           "#FFA15A",
           "#19d3f3",
           "#FF6692",
           "#B6E880",
           "#FF97FF",
           "#FECB52"
          ],
          "font": {
           "color": "#2a3f5f"
          },
          "geo": {
           "bgcolor": "white",
           "lakecolor": "white",
           "landcolor": "#E5ECF6",
           "showlakes": true,
           "showland": true,
           "subunitcolor": "white"
          },
          "hoverlabel": {
           "align": "left"
          },
          "hovermode": "closest",
          "mapbox": {
           "style": "light"
          },
          "paper_bgcolor": "white",
          "plot_bgcolor": "#E5ECF6",
          "polar": {
           "angularaxis": {
            "gridcolor": "white",
            "linecolor": "white",
            "ticks": ""
           },
           "bgcolor": "#E5ECF6",
           "radialaxis": {
            "gridcolor": "white",
            "linecolor": "white",
            "ticks": ""
           }
          },
          "scene": {
           "xaxis": {
            "backgroundcolor": "#E5ECF6",
            "gridcolor": "white",
            "gridwidth": 2,
            "linecolor": "white",
            "showbackground": true,
            "ticks": "",
            "zerolinecolor": "white"
           },
           "yaxis": {
            "backgroundcolor": "#E5ECF6",
            "gridcolor": "white",
            "gridwidth": 2,
            "linecolor": "white",
            "showbackground": true,
            "ticks": "",
            "zerolinecolor": "white"
           },
           "zaxis": {
            "backgroundcolor": "#E5ECF6",
            "gridcolor": "white",
            "gridwidth": 2,
            "linecolor": "white",
            "showbackground": true,
            "ticks": "",
            "zerolinecolor": "white"
           }
          },
          "shapedefaults": {
           "line": {
            "color": "#2a3f5f"
           }
          },
          "ternary": {
           "aaxis": {
            "gridcolor": "white",
            "linecolor": "white",
            "ticks": ""
           },
           "baxis": {
            "gridcolor": "white",
            "linecolor": "white",
            "ticks": ""
           },
           "bgcolor": "#E5ECF6",
           "caxis": {
            "gridcolor": "white",
            "linecolor": "white",
            "ticks": ""
           }
          },
          "title": {
           "x": 0.05
          },
          "xaxis": {
           "automargin": true,
           "gridcolor": "white",
           "linecolor": "white",
           "ticks": "",
           "title": {
            "standoff": 15
           },
           "zerolinecolor": "white",
           "zerolinewidth": 2
          },
          "yaxis": {
           "automargin": true,
           "gridcolor": "white",
           "linecolor": "white",
           "ticks": "",
           "title": {
            "standoff": 15
           },
           "zerolinecolor": "white",
           "zerolinewidth": 2
          }
         }
        },
        "title": {
         "text": "Time Series Plot for the January 2023"
        },
        "xaxis": {
         "anchor": "y",
         "domain": [
          0,
          1
         ],
         "title": {
          "text": "Date"
         }
        },
        "yaxis": {
         "anchor": "x",
         "domain": [
          0,
          1
         ],
         "title": {
          "text": "operationalDemandOpHoursSum"
         }
        }
       }
      }
     },
     "metadata": {},
     "output_type": "display_data"
    }
   ],
   "source": [
    "import plotly.express as px\n",
    "\n",
    "#Line graphs to assess typical trend of operational hours within a week\n",
    "fig = px.line(month1_df, x='operationalDemandDate', y='operationalDemandOpHoursSum')\n",
    "\n",
    "#Appropiate axis labelling\n",
    "fig.update_xaxes(title_text='Date')\n",
    "fig.update_yaxes(title_text='operationalDemandOpHoursSum')\n",
    "\n",
    "#title labelling\n",
    "fig.update_layout(title='Time Series Plot for the January 2023')\n",
    "\n",
    "fig.show()\n"
   ]
  },
  {
   "cell_type": "markdown",
   "metadata": {},
   "source": [
    "# Time series split for a week of data"
   ]
  },
  {
   "cell_type": "code",
   "execution_count": 75,
   "metadata": {},
   "outputs": [],
   "source": [
    "#Applying time series eda to assess behaviour within a week on data\n",
    "week1_df = df.loc[(df['operationalDemandDateWeekBeginDate'] >= '2023-04-01') & \n",
    "                              (df['operationalDemandDateWeekBeginDate'] < '2023-05-01') &\n",
    "                              (df['operationalDemandDate'] >=  '2023-04-01') & \n",
    "                              (df['operationalDemandDate'] <= '2023-05-01')]"
   ]
  },
  {
   "cell_type": "code",
   "execution_count": 76,
   "metadata": {},
   "outputs": [],
   "source": [
    "# Sorting the values in the df by the columns in ascending order \n",
    "week1_df = week1_df.sort_values(by=['operationalDemandDateWeekBeginDate', 'operationalDemandDate'], ascending=True)"
   ]
  },
  {
   "cell_type": "code",
   "execution_count": 77,
   "metadata": {},
   "outputs": [
    {
     "data": {
      "text/html": [
       "<div>\n",
       "<style scoped>\n",
       "    .dataframe tbody tr th:only-of-type {\n",
       "        vertical-align: middle;\n",
       "    }\n",
       "\n",
       "    .dataframe tbody tr th {\n",
       "        vertical-align: top;\n",
       "    }\n",
       "\n",
       "    .dataframe thead th {\n",
       "        text-align: right;\n",
       "    }\n",
       "</style>\n",
       "<table border=\"1\" class=\"dataframe\">\n",
       "  <thead>\n",
       "    <tr style=\"text-align: right;\">\n",
       "      <th></th>\n",
       "      <th>operationalDemandDate</th>\n",
       "      <th>operationalDemandOrderTypeGroup</th>\n",
       "      <th>operationalDemandProcess</th>\n",
       "      <th>operationalDemandWorkCentreGroup</th>\n",
       "      <th>operationalDemandOpHoursCount</th>\n",
       "      <th>operationalDemandOpHoursSum</th>\n",
       "      <th>operationalDemandDateSid</th>\n",
       "      <th>operationalDemandDateWeekBeginDate</th>\n",
       "      <th>operationalDemandSumZeroedRe</th>\n",
       "      <th>operationalDemandOpTravelHours</th>\n",
       "      <th>OperationalDemandYear</th>\n",
       "      <th>OperationalDemandMonth</th>\n",
       "      <th>OperationalDemandDayofweek</th>\n",
       "      <th>OperationalDemandQuarter</th>\n",
       "    </tr>\n",
       "  </thead>\n",
       "  <tbody>\n",
       "    <tr>\n",
       "      <th>411</th>\n",
       "      <td>2023-04-03</td>\n",
       "      <td>PLANNED</td>\n",
       "      <td>COLLECTION</td>\n",
       "      <td>493</td>\n",
       "      <td>4</td>\n",
       "      <td>0.200000</td>\n",
       "      <td>20230403</td>\n",
       "      <td>2023-04-03T00:00:00.000+0000</td>\n",
       "      <td>0.166667</td>\n",
       "      <td>2.350452</td>\n",
       "      <td>2023</td>\n",
       "      <td>4</td>\n",
       "      <td>0</td>\n",
       "      <td>2</td>\n",
       "    </tr>\n",
       "    <tr>\n",
       "      <th>507</th>\n",
       "      <td>2023-04-03</td>\n",
       "      <td>PLANNED</td>\n",
       "      <td>MAINTENANCE</td>\n",
       "      <td>493</td>\n",
       "      <td>44</td>\n",
       "      <td>88.530000</td>\n",
       "      <td>20230403</td>\n",
       "      <td>2023-04-03T00:00:00.000+0000</td>\n",
       "      <td>40.833333</td>\n",
       "      <td>20.340621</td>\n",
       "      <td>2023</td>\n",
       "      <td>4</td>\n",
       "      <td>0</td>\n",
       "      <td>2</td>\n",
       "    </tr>\n",
       "    <tr>\n",
       "      <th>1844</th>\n",
       "      <td>2023-04-03</td>\n",
       "      <td>REACTIVE</td>\n",
       "      <td>?</td>\n",
       "      <td>493</td>\n",
       "      <td>7</td>\n",
       "      <td>1.750000</td>\n",
       "      <td>20230403</td>\n",
       "      <td>2023-04-03T00:00:00.000+0000</td>\n",
       "      <td>1.083333</td>\n",
       "      <td>2.363769</td>\n",
       "      <td>2023</td>\n",
       "      <td>4</td>\n",
       "      <td>0</td>\n",
       "      <td>2</td>\n",
       "    </tr>\n",
       "    <tr>\n",
       "      <th>3483</th>\n",
       "      <td>2023-04-03</td>\n",
       "      <td>REACTIVE</td>\n",
       "      <td>TREATMENT</td>\n",
       "      <td>493</td>\n",
       "      <td>23</td>\n",
       "      <td>33.333333</td>\n",
       "      <td>20230403</td>\n",
       "      <td>2023-04-03T00:00:00.000+0000</td>\n",
       "      <td>13.000000</td>\n",
       "      <td>28.193479</td>\n",
       "      <td>2023</td>\n",
       "      <td>4</td>\n",
       "      <td>0</td>\n",
       "      <td>2</td>\n",
       "    </tr>\n",
       "    <tr>\n",
       "      <th>5938</th>\n",
       "      <td>2023-04-03</td>\n",
       "      <td>PLANNED</td>\n",
       "      <td>TREATMENT</td>\n",
       "      <td>493</td>\n",
       "      <td>32</td>\n",
       "      <td>52.716667</td>\n",
       "      <td>20230403</td>\n",
       "      <td>2023-04-03T00:00:00.000+0000</td>\n",
       "      <td>48.666667</td>\n",
       "      <td>18.802442</td>\n",
       "      <td>2023</td>\n",
       "      <td>4</td>\n",
       "      <td>0</td>\n",
       "      <td>2</td>\n",
       "    </tr>\n",
       "    <tr>\n",
       "      <th>...</th>\n",
       "      <td>...</td>\n",
       "      <td>...</td>\n",
       "      <td>...</td>\n",
       "      <td>...</td>\n",
       "      <td>...</td>\n",
       "      <td>...</td>\n",
       "      <td>...</td>\n",
       "      <td>...</td>\n",
       "      <td>...</td>\n",
       "      <td>...</td>\n",
       "      <td>...</td>\n",
       "      <td>...</td>\n",
       "      <td>...</td>\n",
       "      <td>...</td>\n",
       "    </tr>\n",
       "    <tr>\n",
       "      <th>2894</th>\n",
       "      <td>2023-04-28</td>\n",
       "      <td>REACTIVE</td>\n",
       "      <td>?</td>\n",
       "      <td>493</td>\n",
       "      <td>4</td>\n",
       "      <td>2.033333</td>\n",
       "      <td>20230428</td>\n",
       "      <td>2023-04-24T00:00:00.000+0000</td>\n",
       "      <td>4.333333</td>\n",
       "      <td>0.573444</td>\n",
       "      <td>2023</td>\n",
       "      <td>4</td>\n",
       "      <td>4</td>\n",
       "      <td>2</td>\n",
       "    </tr>\n",
       "    <tr>\n",
       "      <th>3403</th>\n",
       "      <td>2023-04-28</td>\n",
       "      <td>PLANNED</td>\n",
       "      <td>COLLECTION</td>\n",
       "      <td>493</td>\n",
       "      <td>4</td>\n",
       "      <td>1.866667</td>\n",
       "      <td>20230428</td>\n",
       "      <td>2023-04-24T00:00:00.000+0000</td>\n",
       "      <td>5.200000</td>\n",
       "      <td>1.178282</td>\n",
       "      <td>2023</td>\n",
       "      <td>4</td>\n",
       "      <td>4</td>\n",
       "      <td>2</td>\n",
       "    </tr>\n",
       "    <tr>\n",
       "      <th>335</th>\n",
       "      <td>2023-04-29</td>\n",
       "      <td>PLANNED</td>\n",
       "      <td>TREATMENT</td>\n",
       "      <td>493</td>\n",
       "      <td>16</td>\n",
       "      <td>22.846667</td>\n",
       "      <td>20230429</td>\n",
       "      <td>2023-04-24T00:00:00.000+0000</td>\n",
       "      <td>15.500000</td>\n",
       "      <td>11.655332</td>\n",
       "      <td>2023</td>\n",
       "      <td>4</td>\n",
       "      <td>5</td>\n",
       "      <td>2</td>\n",
       "    </tr>\n",
       "    <tr>\n",
       "      <th>5324</th>\n",
       "      <td>2023-04-29</td>\n",
       "      <td>REACTIVE</td>\n",
       "      <td>TREATMENT</td>\n",
       "      <td>493</td>\n",
       "      <td>7</td>\n",
       "      <td>15.450000</td>\n",
       "      <td>20230429</td>\n",
       "      <td>2023-04-24T00:00:00.000+0000</td>\n",
       "      <td>4.000000</td>\n",
       "      <td>3.897425</td>\n",
       "      <td>2023</td>\n",
       "      <td>4</td>\n",
       "      <td>5</td>\n",
       "      <td>2</td>\n",
       "    </tr>\n",
       "    <tr>\n",
       "      <th>340</th>\n",
       "      <td>2023-04-30</td>\n",
       "      <td>PLANNED</td>\n",
       "      <td>TREATMENT</td>\n",
       "      <td>493</td>\n",
       "      <td>3</td>\n",
       "      <td>1.166667</td>\n",
       "      <td>20230430</td>\n",
       "      <td>2023-04-24T00:00:00.000+0000</td>\n",
       "      <td>1.750000</td>\n",
       "      <td>1.940518</td>\n",
       "      <td>2023</td>\n",
       "      <td>4</td>\n",
       "      <td>6</td>\n",
       "      <td>2</td>\n",
       "    </tr>\n",
       "  </tbody>\n",
       "</table>\n",
       "<p>99 rows × 14 columns</p>\n",
       "</div>"
      ],
      "text/plain": [
       "     operationalDemandDate operationalDemandOrderTypeGroup  \\\n",
       "411             2023-04-03                         PLANNED   \n",
       "507             2023-04-03                         PLANNED   \n",
       "1844            2023-04-03                        REACTIVE   \n",
       "3483            2023-04-03                        REACTIVE   \n",
       "5938            2023-04-03                         PLANNED   \n",
       "...                    ...                             ...   \n",
       "2894            2023-04-28                        REACTIVE   \n",
       "3403            2023-04-28                         PLANNED   \n",
       "335             2023-04-29                         PLANNED   \n",
       "5324            2023-04-29                        REACTIVE   \n",
       "340             2023-04-30                         PLANNED   \n",
       "\n",
       "     operationalDemandProcess operationalDemandWorkCentreGroup  \\\n",
       "411                COLLECTION                              493   \n",
       "507               MAINTENANCE                              493   \n",
       "1844                        ?                              493   \n",
       "3483                TREATMENT                              493   \n",
       "5938                TREATMENT                              493   \n",
       "...                       ...                              ...   \n",
       "2894                        ?                              493   \n",
       "3403               COLLECTION                              493   \n",
       "335                 TREATMENT                              493   \n",
       "5324                TREATMENT                              493   \n",
       "340                 TREATMENT                              493   \n",
       "\n",
       "      operationalDemandOpHoursCount  operationalDemandOpHoursSum  \\\n",
       "411                               4                     0.200000   \n",
       "507                              44                    88.530000   \n",
       "1844                              7                     1.750000   \n",
       "3483                             23                    33.333333   \n",
       "5938                             32                    52.716667   \n",
       "...                             ...                          ...   \n",
       "2894                              4                     2.033333   \n",
       "3403                              4                     1.866667   \n",
       "335                              16                    22.846667   \n",
       "5324                              7                    15.450000   \n",
       "340                               3                     1.166667   \n",
       "\n",
       "     operationalDemandDateSid operationalDemandDateWeekBeginDate  \\\n",
       "411                  20230403       2023-04-03T00:00:00.000+0000   \n",
       "507                  20230403       2023-04-03T00:00:00.000+0000   \n",
       "1844                 20230403       2023-04-03T00:00:00.000+0000   \n",
       "3483                 20230403       2023-04-03T00:00:00.000+0000   \n",
       "5938                 20230403       2023-04-03T00:00:00.000+0000   \n",
       "...                       ...                                ...   \n",
       "2894                 20230428       2023-04-24T00:00:00.000+0000   \n",
       "3403                 20230428       2023-04-24T00:00:00.000+0000   \n",
       "335                  20230429       2023-04-24T00:00:00.000+0000   \n",
       "5324                 20230429       2023-04-24T00:00:00.000+0000   \n",
       "340                  20230430       2023-04-24T00:00:00.000+0000   \n",
       "\n",
       "      operationalDemandSumZeroedRe  operationalDemandOpTravelHours  \\\n",
       "411                       0.166667                        2.350452   \n",
       "507                      40.833333                       20.340621   \n",
       "1844                      1.083333                        2.363769   \n",
       "3483                     13.000000                       28.193479   \n",
       "5938                     48.666667                       18.802442   \n",
       "...                            ...                             ...   \n",
       "2894                      4.333333                        0.573444   \n",
       "3403                      5.200000                        1.178282   \n",
       "335                      15.500000                       11.655332   \n",
       "5324                      4.000000                        3.897425   \n",
       "340                       1.750000                        1.940518   \n",
       "\n",
       "      OperationalDemandYear  OperationalDemandMonth  \\\n",
       "411                    2023                       4   \n",
       "507                    2023                       4   \n",
       "1844                   2023                       4   \n",
       "3483                   2023                       4   \n",
       "5938                   2023                       4   \n",
       "...                     ...                     ...   \n",
       "2894                   2023                       4   \n",
       "3403                   2023                       4   \n",
       "335                    2023                       4   \n",
       "5324                   2023                       4   \n",
       "340                    2023                       4   \n",
       "\n",
       "      OperationalDemandDayofweek  OperationalDemandQuarter  \n",
       "411                            0                         2  \n",
       "507                            0                         2  \n",
       "1844                           0                         2  \n",
       "3483                           0                         2  \n",
       "5938                           0                         2  \n",
       "...                          ...                       ...  \n",
       "2894                           4                         2  \n",
       "3403                           4                         2  \n",
       "335                            5                         2  \n",
       "5324                           5                         2  \n",
       "340                            6                         2  \n",
       "\n",
       "[99 rows x 14 columns]"
      ]
     },
     "execution_count": 77,
     "metadata": {},
     "output_type": "execute_result"
    }
   ],
   "source": [
    "week1_df"
   ]
  },
  {
   "cell_type": "code",
   "execution_count": 78,
   "metadata": {},
   "outputs": [
    {
     "data": {
      "application/vnd.plotly.v1+json": {
       "config": {
        "plotlyServerURL": "https://plot.ly"
       },
       "data": [
        {
         "hovertemplate": "operationalDemandDate=%{x}<br>operationalDemandOpHoursSum=%{y}<extra></extra>",
         "legendgroup": "",
         "line": {
          "color": "#636efa",
          "dash": "solid"
         },
         "marker": {
          "symbol": "circle"
         },
         "mode": "lines",
         "name": "",
         "orientation": "v",
         "showlegend": false,
         "type": "scatter",
         "x": [
          "2023-04-03T00:00:00",
          "2023-04-03T00:00:00",
          "2023-04-03T00:00:00",
          "2023-04-03T00:00:00",
          "2023-04-03T00:00:00",
          "2023-04-03T00:00:00",
          "2023-04-04T00:00:00",
          "2023-04-04T00:00:00",
          "2023-04-04T00:00:00",
          "2023-04-04T00:00:00",
          "2023-04-05T00:00:00",
          "2023-04-05T00:00:00",
          "2023-04-05T00:00:00",
          "2023-04-05T00:00:00",
          "2023-04-05T00:00:00",
          "2023-04-05T00:00:00",
          "2023-04-06T00:00:00",
          "2023-04-06T00:00:00",
          "2023-04-07T00:00:00",
          "2023-04-07T00:00:00",
          "2023-04-07T00:00:00",
          "2023-04-07T00:00:00",
          "2023-04-07T00:00:00",
          "2023-04-08T00:00:00",
          "2023-04-09T00:00:00",
          "2023-04-09T00:00:00",
          "2023-04-09T00:00:00",
          "2023-04-09T00:00:00",
          "2023-04-10T00:00:00",
          "2023-04-10T00:00:00",
          "2023-04-11T00:00:00",
          "2023-04-11T00:00:00",
          "2023-04-11T00:00:00",
          "2023-04-11T00:00:00",
          "2023-04-11T00:00:00",
          "2023-04-12T00:00:00",
          "2023-04-12T00:00:00",
          "2023-04-12T00:00:00",
          "2023-04-12T00:00:00",
          "2023-04-13T00:00:00",
          "2023-04-13T00:00:00",
          "2023-04-13T00:00:00",
          "2023-04-13T00:00:00",
          "2023-04-13T00:00:00",
          "2023-04-14T00:00:00",
          "2023-04-14T00:00:00",
          "2023-04-16T00:00:00",
          "2023-04-17T00:00:00",
          "2023-04-17T00:00:00",
          "2023-04-17T00:00:00",
          "2023-04-17T00:00:00",
          "2023-04-17T00:00:00",
          "2023-04-18T00:00:00",
          "2023-04-18T00:00:00",
          "2023-04-18T00:00:00",
          "2023-04-18T00:00:00",
          "2023-04-19T00:00:00",
          "2023-04-19T00:00:00",
          "2023-04-19T00:00:00",
          "2023-04-19T00:00:00",
          "2023-04-19T00:00:00",
          "2023-04-19T00:00:00",
          "2023-04-19T00:00:00",
          "2023-04-20T00:00:00",
          "2023-04-20T00:00:00",
          "2023-04-20T00:00:00",
          "2023-04-20T00:00:00",
          "2023-04-20T00:00:00",
          "2023-04-21T00:00:00",
          "2023-04-21T00:00:00",
          "2023-04-21T00:00:00",
          "2023-04-21T00:00:00",
          "2023-04-22T00:00:00",
          "2023-04-22T00:00:00",
          "2023-04-22T00:00:00",
          "2023-04-22T00:00:00",
          "2023-04-22T00:00:00",
          "2023-04-23T00:00:00",
          "2023-04-24T00:00:00",
          "2023-04-24T00:00:00",
          "2023-04-24T00:00:00",
          "2023-04-24T00:00:00",
          "2023-04-24T00:00:00",
          "2023-04-25T00:00:00",
          "2023-04-25T00:00:00",
          "2023-04-25T00:00:00",
          "2023-04-25T00:00:00",
          "2023-04-26T00:00:00",
          "2023-04-26T00:00:00",
          "2023-04-26T00:00:00",
          "2023-04-26T00:00:00",
          "2023-04-27T00:00:00",
          "2023-04-27T00:00:00",
          "2023-04-28T00:00:00",
          "2023-04-28T00:00:00",
          "2023-04-28T00:00:00",
          "2023-04-29T00:00:00",
          "2023-04-29T00:00:00",
          "2023-04-30T00:00:00"
         ],
         "xaxis": "x",
         "y": [
          0.2,
          88.53,
          1.75,
          33.333333333333336,
          52.71666666666666,
          61.93333333333333,
          50.781666666666666,
          5.38,
          58.28833333333333,
          46.43166666666667,
          5.785,
          0,
          66.62333333333333,
          0.1,
          58.05333333333332,
          46.59666666666665,
          88.50833333333334,
          4.208333333333333,
          1.05,
          0,
          0.5,
          53.60833333333334,
          13.27,
          21.62,
          19.41333333333333,
          15.883333333333333,
          5.183333333333334,
          18.883333333333336,
          3.1833333333333336,
          28.8,
          8.733333333333334,
          0,
          50.09166666666667,
          30.73333333333333,
          54.806666666666665,
          2.5666666666666664,
          72.695,
          0.1183333333333333,
          12.316666666666668,
          53.888333333333335,
          1.4833333333333334,
          0,
          25.4,
          69.05333333333333,
          0,
          10.516666666666666,
          32.225,
          76.85499999999999,
          6.766666666666667,
          4.416666666666667,
          48.585,
          64.01833333333333,
          11.983333333333334,
          0,
          61.85,
          12.96833333333333,
          16.483333333333334,
          35.684999999999995,
          58.34333333333331,
          4.15,
          3.7666666666666666,
          0,
          50.81,
          55.89833333333334,
          0,
          3.033333333333333,
          98.01833333333332,
          19.7,
          49.655,
          8.45,
          2.033333333333333,
          5.95,
          42.120000000000005,
          0,
          23.62,
          9.883333333333333,
          9.283333333333331,
          0.6333333333333333,
          92.035,
          1.05,
          5.866666666666666,
          53.44,
          24.6,
          55.33833333333333,
          1.1166666666666667,
          2.5,
          69.77333333333334,
          0,
          84.70833333333334,
          0,
          0,
          57.27,
          48.95333333333333,
          0,
          2.033333333333333,
          1.8666666666666667,
          22.846666666666664,
          15.45,
          1.1666666666666663
         ],
         "yaxis": "y"
        }
       ],
       "layout": {
        "legend": {
         "tracegroupgap": 0
        },
        "margin": {
         "t": 60
        },
        "template": {
         "data": {
          "bar": [
           {
            "error_x": {
             "color": "#2a3f5f"
            },
            "error_y": {
             "color": "#2a3f5f"
            },
            "marker": {
             "line": {
              "color": "#E5ECF6",
              "width": 0.5
             },
             "pattern": {
              "fillmode": "overlay",
              "size": 10,
              "solidity": 0.2
             }
            },
            "type": "bar"
           }
          ],
          "barpolar": [
           {
            "marker": {
             "line": {
              "color": "#E5ECF6",
              "width": 0.5
             },
             "pattern": {
              "fillmode": "overlay",
              "size": 10,
              "solidity": 0.2
             }
            },
            "type": "barpolar"
           }
          ],
          "carpet": [
           {
            "aaxis": {
             "endlinecolor": "#2a3f5f",
             "gridcolor": "white",
             "linecolor": "white",
             "minorgridcolor": "white",
             "startlinecolor": "#2a3f5f"
            },
            "baxis": {
             "endlinecolor": "#2a3f5f",
             "gridcolor": "white",
             "linecolor": "white",
             "minorgridcolor": "white",
             "startlinecolor": "#2a3f5f"
            },
            "type": "carpet"
           }
          ],
          "choropleth": [
           {
            "colorbar": {
             "outlinewidth": 0,
             "ticks": ""
            },
            "type": "choropleth"
           }
          ],
          "contour": [
           {
            "colorbar": {
             "outlinewidth": 0,
             "ticks": ""
            },
            "colorscale": [
             [
              0,
              "#0d0887"
             ],
             [
              0.1111111111111111,
              "#46039f"
             ],
             [
              0.2222222222222222,
              "#7201a8"
             ],
             [
              0.3333333333333333,
              "#9c179e"
             ],
             [
              0.4444444444444444,
              "#bd3786"
             ],
             [
              0.5555555555555556,
              "#d8576b"
             ],
             [
              0.6666666666666666,
              "#ed7953"
             ],
             [
              0.7777777777777778,
              "#fb9f3a"
             ],
             [
              0.8888888888888888,
              "#fdca26"
             ],
             [
              1,
              "#f0f921"
             ]
            ],
            "type": "contour"
           }
          ],
          "contourcarpet": [
           {
            "colorbar": {
             "outlinewidth": 0,
             "ticks": ""
            },
            "type": "contourcarpet"
           }
          ],
          "heatmap": [
           {
            "colorbar": {
             "outlinewidth": 0,
             "ticks": ""
            },
            "colorscale": [
             [
              0,
              "#0d0887"
             ],
             [
              0.1111111111111111,
              "#46039f"
             ],
             [
              0.2222222222222222,
              "#7201a8"
             ],
             [
              0.3333333333333333,
              "#9c179e"
             ],
             [
              0.4444444444444444,
              "#bd3786"
             ],
             [
              0.5555555555555556,
              "#d8576b"
             ],
             [
              0.6666666666666666,
              "#ed7953"
             ],
             [
              0.7777777777777778,
              "#fb9f3a"
             ],
             [
              0.8888888888888888,
              "#fdca26"
             ],
             [
              1,
              "#f0f921"
             ]
            ],
            "type": "heatmap"
           }
          ],
          "heatmapgl": [
           {
            "colorbar": {
             "outlinewidth": 0,
             "ticks": ""
            },
            "colorscale": [
             [
              0,
              "#0d0887"
             ],
             [
              0.1111111111111111,
              "#46039f"
             ],
             [
              0.2222222222222222,
              "#7201a8"
             ],
             [
              0.3333333333333333,
              "#9c179e"
             ],
             [
              0.4444444444444444,
              "#bd3786"
             ],
             [
              0.5555555555555556,
              "#d8576b"
             ],
             [
              0.6666666666666666,
              "#ed7953"
             ],
             [
              0.7777777777777778,
              "#fb9f3a"
             ],
             [
              0.8888888888888888,
              "#fdca26"
             ],
             [
              1,
              "#f0f921"
             ]
            ],
            "type": "heatmapgl"
           }
          ],
          "histogram": [
           {
            "marker": {
             "pattern": {
              "fillmode": "overlay",
              "size": 10,
              "solidity": 0.2
             }
            },
            "type": "histogram"
           }
          ],
          "histogram2d": [
           {
            "colorbar": {
             "outlinewidth": 0,
             "ticks": ""
            },
            "colorscale": [
             [
              0,
              "#0d0887"
             ],
             [
              0.1111111111111111,
              "#46039f"
             ],
             [
              0.2222222222222222,
              "#7201a8"
             ],
             [
              0.3333333333333333,
              "#9c179e"
             ],
             [
              0.4444444444444444,
              "#bd3786"
             ],
             [
              0.5555555555555556,
              "#d8576b"
             ],
             [
              0.6666666666666666,
              "#ed7953"
             ],
             [
              0.7777777777777778,
              "#fb9f3a"
             ],
             [
              0.8888888888888888,
              "#fdca26"
             ],
             [
              1,
              "#f0f921"
             ]
            ],
            "type": "histogram2d"
           }
          ],
          "histogram2dcontour": [
           {
            "colorbar": {
             "outlinewidth": 0,
             "ticks": ""
            },
            "colorscale": [
             [
              0,
              "#0d0887"
             ],
             [
              0.1111111111111111,
              "#46039f"
             ],
             [
              0.2222222222222222,
              "#7201a8"
             ],
             [
              0.3333333333333333,
              "#9c179e"
             ],
             [
              0.4444444444444444,
              "#bd3786"
             ],
             [
              0.5555555555555556,
              "#d8576b"
             ],
             [
              0.6666666666666666,
              "#ed7953"
             ],
             [
              0.7777777777777778,
              "#fb9f3a"
             ],
             [
              0.8888888888888888,
              "#fdca26"
             ],
             [
              1,
              "#f0f921"
             ]
            ],
            "type": "histogram2dcontour"
           }
          ],
          "mesh3d": [
           {
            "colorbar": {
             "outlinewidth": 0,
             "ticks": ""
            },
            "type": "mesh3d"
           }
          ],
          "parcoords": [
           {
            "line": {
             "colorbar": {
              "outlinewidth": 0,
              "ticks": ""
             }
            },
            "type": "parcoords"
           }
          ],
          "pie": [
           {
            "automargin": true,
            "type": "pie"
           }
          ],
          "scatter": [
           {
            "fillpattern": {
             "fillmode": "overlay",
             "size": 10,
             "solidity": 0.2
            },
            "type": "scatter"
           }
          ],
          "scatter3d": [
           {
            "line": {
             "colorbar": {
              "outlinewidth": 0,
              "ticks": ""
             }
            },
            "marker": {
             "colorbar": {
              "outlinewidth": 0,
              "ticks": ""
             }
            },
            "type": "scatter3d"
           }
          ],
          "scattercarpet": [
           {
            "marker": {
             "colorbar": {
              "outlinewidth": 0,
              "ticks": ""
             }
            },
            "type": "scattercarpet"
           }
          ],
          "scattergeo": [
           {
            "marker": {
             "colorbar": {
              "outlinewidth": 0,
              "ticks": ""
             }
            },
            "type": "scattergeo"
           }
          ],
          "scattergl": [
           {
            "marker": {
             "colorbar": {
              "outlinewidth": 0,
              "ticks": ""
             }
            },
            "type": "scattergl"
           }
          ],
          "scattermapbox": [
           {
            "marker": {
             "colorbar": {
              "outlinewidth": 0,
              "ticks": ""
             }
            },
            "type": "scattermapbox"
           }
          ],
          "scatterpolar": [
           {
            "marker": {
             "colorbar": {
              "outlinewidth": 0,
              "ticks": ""
             }
            },
            "type": "scatterpolar"
           }
          ],
          "scatterpolargl": [
           {
            "marker": {
             "colorbar": {
              "outlinewidth": 0,
              "ticks": ""
             }
            },
            "type": "scatterpolargl"
           }
          ],
          "scatterternary": [
           {
            "marker": {
             "colorbar": {
              "outlinewidth": 0,
              "ticks": ""
             }
            },
            "type": "scatterternary"
           }
          ],
          "surface": [
           {
            "colorbar": {
             "outlinewidth": 0,
             "ticks": ""
            },
            "colorscale": [
             [
              0,
              "#0d0887"
             ],
             [
              0.1111111111111111,
              "#46039f"
             ],
             [
              0.2222222222222222,
              "#7201a8"
             ],
             [
              0.3333333333333333,
              "#9c179e"
             ],
             [
              0.4444444444444444,
              "#bd3786"
             ],
             [
              0.5555555555555556,
              "#d8576b"
             ],
             [
              0.6666666666666666,
              "#ed7953"
             ],
             [
              0.7777777777777778,
              "#fb9f3a"
             ],
             [
              0.8888888888888888,
              "#fdca26"
             ],
             [
              1,
              "#f0f921"
             ]
            ],
            "type": "surface"
           }
          ],
          "table": [
           {
            "cells": {
             "fill": {
              "color": "#EBF0F8"
             },
             "line": {
              "color": "white"
             }
            },
            "header": {
             "fill": {
              "color": "#C8D4E3"
             },
             "line": {
              "color": "white"
             }
            },
            "type": "table"
           }
          ]
         },
         "layout": {
          "annotationdefaults": {
           "arrowcolor": "#2a3f5f",
           "arrowhead": 0,
           "arrowwidth": 1
          },
          "autotypenumbers": "strict",
          "coloraxis": {
           "colorbar": {
            "outlinewidth": 0,
            "ticks": ""
           }
          },
          "colorscale": {
           "diverging": [
            [
             0,
             "#8e0152"
            ],
            [
             0.1,
             "#c51b7d"
            ],
            [
             0.2,
             "#de77ae"
            ],
            [
             0.3,
             "#f1b6da"
            ],
            [
             0.4,
             "#fde0ef"
            ],
            [
             0.5,
             "#f7f7f7"
            ],
            [
             0.6,
             "#e6f5d0"
            ],
            [
             0.7,
             "#b8e186"
            ],
            [
             0.8,
             "#7fbc41"
            ],
            [
             0.9,
             "#4d9221"
            ],
            [
             1,
             "#276419"
            ]
           ],
           "sequential": [
            [
             0,
             "#0d0887"
            ],
            [
             0.1111111111111111,
             "#46039f"
            ],
            [
             0.2222222222222222,
             "#7201a8"
            ],
            [
             0.3333333333333333,
             "#9c179e"
            ],
            [
             0.4444444444444444,
             "#bd3786"
            ],
            [
             0.5555555555555556,
             "#d8576b"
            ],
            [
             0.6666666666666666,
             "#ed7953"
            ],
            [
             0.7777777777777778,
             "#fb9f3a"
            ],
            [
             0.8888888888888888,
             "#fdca26"
            ],
            [
             1,
             "#f0f921"
            ]
           ],
           "sequentialminus": [
            [
             0,
             "#0d0887"
            ],
            [
             0.1111111111111111,
             "#46039f"
            ],
            [
             0.2222222222222222,
             "#7201a8"
            ],
            [
             0.3333333333333333,
             "#9c179e"
            ],
            [
             0.4444444444444444,
             "#bd3786"
            ],
            [
             0.5555555555555556,
             "#d8576b"
            ],
            [
             0.6666666666666666,
             "#ed7953"
            ],
            [
             0.7777777777777778,
             "#fb9f3a"
            ],
            [
             0.8888888888888888,
             "#fdca26"
            ],
            [
             1,
             "#f0f921"
            ]
           ]
          },
          "colorway": [
           "#636efa",
           "#EF553B",
           "#00cc96",
           "#ab63fa",
           "#FFA15A",
           "#19d3f3",
           "#FF6692",
           "#B6E880",
           "#FF97FF",
           "#FECB52"
          ],
          "font": {
           "color": "#2a3f5f"
          },
          "geo": {
           "bgcolor": "white",
           "lakecolor": "white",
           "landcolor": "#E5ECF6",
           "showlakes": true,
           "showland": true,
           "subunitcolor": "white"
          },
          "hoverlabel": {
           "align": "left"
          },
          "hovermode": "closest",
          "mapbox": {
           "style": "light"
          },
          "paper_bgcolor": "white",
          "plot_bgcolor": "#E5ECF6",
          "polar": {
           "angularaxis": {
            "gridcolor": "white",
            "linecolor": "white",
            "ticks": ""
           },
           "bgcolor": "#E5ECF6",
           "radialaxis": {
            "gridcolor": "white",
            "linecolor": "white",
            "ticks": ""
           }
          },
          "scene": {
           "xaxis": {
            "backgroundcolor": "#E5ECF6",
            "gridcolor": "white",
            "gridwidth": 2,
            "linecolor": "white",
            "showbackground": true,
            "ticks": "",
            "zerolinecolor": "white"
           },
           "yaxis": {
            "backgroundcolor": "#E5ECF6",
            "gridcolor": "white",
            "gridwidth": 2,
            "linecolor": "white",
            "showbackground": true,
            "ticks": "",
            "zerolinecolor": "white"
           },
           "zaxis": {
            "backgroundcolor": "#E5ECF6",
            "gridcolor": "white",
            "gridwidth": 2,
            "linecolor": "white",
            "showbackground": true,
            "ticks": "",
            "zerolinecolor": "white"
           }
          },
          "shapedefaults": {
           "line": {
            "color": "#2a3f5f"
           }
          },
          "ternary": {
           "aaxis": {
            "gridcolor": "white",
            "linecolor": "white",
            "ticks": ""
           },
           "baxis": {
            "gridcolor": "white",
            "linecolor": "white",
            "ticks": ""
           },
           "bgcolor": "#E5ECF6",
           "caxis": {
            "gridcolor": "white",
            "linecolor": "white",
            "ticks": ""
           }
          },
          "title": {
           "x": 0.05
          },
          "xaxis": {
           "automargin": true,
           "gridcolor": "white",
           "linecolor": "white",
           "ticks": "",
           "title": {
            "standoff": 15
           },
           "zerolinecolor": "white",
           "zerolinewidth": 2
          },
          "yaxis": {
           "automargin": true,
           "gridcolor": "white",
           "linecolor": "white",
           "ticks": "",
           "title": {
            "standoff": 15
           },
           "zerolinecolor": "white",
           "zerolinewidth": 2
          }
         }
        },
        "title": {
         "text": "Time Series Plot for the January 2023"
        },
        "xaxis": {
         "anchor": "y",
         "domain": [
          0,
          1
         ],
         "title": {
          "text": "Date"
         }
        },
        "yaxis": {
         "anchor": "x",
         "domain": [
          0,
          1
         ],
         "title": {
          "text": "operationalDemandOpHoursSum"
         }
        }
       }
      }
     },
     "metadata": {},
     "output_type": "display_data"
    }
   ],
   "source": [
    "import plotly.express as px\n",
    "\n",
    "#Line graphs to assess typical trend of operational hours within a week\n",
    "fig = px.line(week1_df, x='operationalDemandDate', y='operationalDemandOpHoursSum')\n",
    "\n",
    "#Appropiate axis labelling\n",
    "fig.update_xaxes(title_text='Date')\n",
    "fig.update_yaxes(title_text='operationalDemandOpHoursSum')\n",
    "\n",
    "#title labelling\n",
    "fig.update_layout(title='Time Series Plot for the January 2023')\n",
    "\n",
    "fig.show()\n"
   ]
  },
  {
   "cell_type": "markdown",
   "metadata": {},
   "source": [
    "# Box Plots for Date Time Analysis"
   ]
  },
  {
   "cell_type": "code",
   "execution_count": 79,
   "metadata": {},
   "outputs": [],
   "source": [
    "# Creating a function that allows us to plot operationalDemandOpHoursSum against a variety of differnt features \n",
    "def create_boxplots(column):\n",
    "  fig, ax = plt.subplots(figsize=(15, 12))\n",
    "  sns.boxplot(data=df, x=column, y='operationalDemandOpHoursSum')\n",
    "  ax.set_title(f'{column} hours')\n",
    "  plt.show()\n",
    "  return"
   ]
  },
  {
   "cell_type": "code",
   "execution_count": 80,
   "metadata": {},
   "outputs": [
    {
     "data": {
      "image/png": "[encoded data removed]",
      "text/plain": [
       "<Figure size 1500x1200 with 1 Axes>"
      ]
     },
     "metadata": {},
     "output_type": "display_data"
    }
   ],
   "source": [
    "# Comparing Operational Demand Year(Comparing how different years perform) against that of operationalDemandOpHoursSum for the EDA \n",
    "create_boxplots('OperationalDemandYear')"
   ]
  },
  {
   "cell_type": "code",
   "execution_count": 81,
   "metadata": {},
   "outputs": [
    {
     "data": {
      "image/png": "[encoded data removed]",
      "text/plain": [
       "<Figure size 1500x1200 with 1 Axes>"
      ]
     },
     "metadata": {},
     "output_type": "display_data"
    }
   ],
   "source": [
    "#assessing monthly variations of operational demand for our eda\n",
    "create_boxplots('OperationalDemandMonth')"
   ]
  },
  {
   "cell_type": "code",
   "execution_count": 82,
   "metadata": {},
   "outputs": [
    {
     "data": {
      "image/png": "[encoded data removed]",
      "text/plain": [
       "<Figure size 1500x1200 with 1 Axes>"
      ]
     },
     "metadata": {},
     "output_type": "display_data"
    }
   ],
   "source": [
    "#Daily distribution of operational hours within a week\n",
    "create_boxplots('OperationalDemandDayofweek')"
   ]
  },
  {
   "cell_type": "code",
   "execution_count": 83,
   "metadata": {},
   "outputs": [
    {
     "data": {
      "image/png": "[encoded data removed]",
      "text/plain": [
       "<Figure size 1500x1200 with 1 Axes>"
      ]
     },
     "metadata": {},
     "output_type": "display_data"
    }
   ],
   "source": [
    "## Comparing OperationalDemandQuarter(Splitting the year into 4 quarters) against that of operationalDemandOpHoursSum for the EDA \n",
    "create_boxplots('OperationalDemandQuarter')"
   ]
  },
  {
   "cell_type": "markdown",
   "metadata": {},
   "source": [
    "# Weekday Time Series Modelling "
   ]
  },
  {
   "cell_type": "code",
   "execution_count": 84,
   "metadata": {},
   "outputs": [],
   "source": [
    "#Filtered data set of train and test split everything before 1st October 2021 trained & everything after tested\n",
    "week_groupby_train = week_groupby.loc[week_groupby['operationalDemandDateWeekBeginDate'] < '2021-10-01']\n",
    "week_groupby_test = week_groupby.loc[week_groupby['operationalDemandDateWeekBeginDate'] >= '2021-10-01']"
   ]
  },
  {
   "cell_type": "code",
   "execution_count": 85,
   "metadata": {},
   "outputs": [
    {
     "data": {
      "text/html": [
       "<div>\n",
       "<style scoped>\n",
       "    .dataframe tbody tr th:only-of-type {\n",
       "        vertical-align: middle;\n",
       "    }\n",
       "\n",
       "    .dataframe tbody tr th {\n",
       "        vertical-align: top;\n",
       "    }\n",
       "\n",
       "    .dataframe thead th {\n",
       "        text-align: right;\n",
       "    }\n",
       "</style>\n",
       "<table border=\"1\" class=\"dataframe\">\n",
       "  <thead>\n",
       "    <tr style=\"text-align: right;\">\n",
       "      <th></th>\n",
       "      <th>operationalDemandDateWeekBeginDate</th>\n",
       "      <th>operationalDemandOpHoursSum</th>\n",
       "      <th>prev_week_1</th>\n",
       "      <th>prev_week_2</th>\n",
       "      <th>prev_week_3</th>\n",
       "      <th>prev_week_4</th>\n",
       "      <th>OperationalDemandYear</th>\n",
       "      <th>OperationalDemandMonth</th>\n",
       "      <th>OperationalDemandWeek</th>\n",
       "    </tr>\n",
       "  </thead>\n",
       "  <tbody>\n",
       "    <tr>\n",
       "      <th>4</th>\n",
       "      <td>2019-04-29 00:00:00+00:00</td>\n",
       "      <td>648.450000</td>\n",
       "      <td>346.100000</td>\n",
       "      <td>583.566667</td>\n",
       "      <td>501.683333</td>\n",
       "      <td>680.300000</td>\n",
       "      <td>2019</td>\n",
       "      <td>4</td>\n",
       "      <td>18</td>\n",
       "    </tr>\n",
       "    <tr>\n",
       "      <th>5</th>\n",
       "      <td>2019-05-06 00:00:00+00:00</td>\n",
       "      <td>524.566667</td>\n",
       "      <td>648.450000</td>\n",
       "      <td>346.100000</td>\n",
       "      <td>583.566667</td>\n",
       "      <td>501.683333</td>\n",
       "      <td>2019</td>\n",
       "      <td>5</td>\n",
       "      <td>19</td>\n",
       "    </tr>\n",
       "    <tr>\n",
       "      <th>6</th>\n",
       "      <td>2019-05-13 00:00:00+00:00</td>\n",
       "      <td>702.600000</td>\n",
       "      <td>524.566667</td>\n",
       "      <td>648.450000</td>\n",
       "      <td>346.100000</td>\n",
       "      <td>583.566667</td>\n",
       "      <td>2019</td>\n",
       "      <td>5</td>\n",
       "      <td>20</td>\n",
       "    </tr>\n",
       "    <tr>\n",
       "      <th>7</th>\n",
       "      <td>2019-05-20 00:00:00+00:00</td>\n",
       "      <td>599.333333</td>\n",
       "      <td>702.600000</td>\n",
       "      <td>524.566667</td>\n",
       "      <td>648.450000</td>\n",
       "      <td>346.100000</td>\n",
       "      <td>2019</td>\n",
       "      <td>5</td>\n",
       "      <td>21</td>\n",
       "    </tr>\n",
       "    <tr>\n",
       "      <th>8</th>\n",
       "      <td>2019-05-27 00:00:00+00:00</td>\n",
       "      <td>627.016667</td>\n",
       "      <td>599.333333</td>\n",
       "      <td>702.600000</td>\n",
       "      <td>524.566667</td>\n",
       "      <td>648.450000</td>\n",
       "      <td>2019</td>\n",
       "      <td>5</td>\n",
       "      <td>22</td>\n",
       "    </tr>\n",
       "    <tr>\n",
       "      <th>...</th>\n",
       "      <td>...</td>\n",
       "      <td>...</td>\n",
       "      <td>...</td>\n",
       "      <td>...</td>\n",
       "      <td>...</td>\n",
       "      <td>...</td>\n",
       "      <td>...</td>\n",
       "      <td>...</td>\n",
       "      <td>...</td>\n",
       "    </tr>\n",
       "    <tr>\n",
       "      <th>126</th>\n",
       "      <td>2021-08-30 00:00:00+00:00</td>\n",
       "      <td>567.416667</td>\n",
       "      <td>566.935000</td>\n",
       "      <td>508.650000</td>\n",
       "      <td>583.283333</td>\n",
       "      <td>479.501667</td>\n",
       "      <td>2021</td>\n",
       "      <td>8</td>\n",
       "      <td>35</td>\n",
       "    </tr>\n",
       "    <tr>\n",
       "      <th>127</th>\n",
       "      <td>2021-09-06 00:00:00+00:00</td>\n",
       "      <td>396.200000</td>\n",
       "      <td>567.416667</td>\n",
       "      <td>566.935000</td>\n",
       "      <td>508.650000</td>\n",
       "      <td>583.283333</td>\n",
       "      <td>2021</td>\n",
       "      <td>9</td>\n",
       "      <td>36</td>\n",
       "    </tr>\n",
       "    <tr>\n",
       "      <th>128</th>\n",
       "      <td>2021-09-13 00:00:00+00:00</td>\n",
       "      <td>507.883333</td>\n",
       "      <td>396.200000</td>\n",
       "      <td>567.416667</td>\n",
       "      <td>566.935000</td>\n",
       "      <td>508.650000</td>\n",
       "      <td>2021</td>\n",
       "      <td>9</td>\n",
       "      <td>37</td>\n",
       "    </tr>\n",
       "    <tr>\n",
       "      <th>129</th>\n",
       "      <td>2021-09-20 00:00:00+00:00</td>\n",
       "      <td>364.500000</td>\n",
       "      <td>507.883333</td>\n",
       "      <td>396.200000</td>\n",
       "      <td>567.416667</td>\n",
       "      <td>566.935000</td>\n",
       "      <td>2021</td>\n",
       "      <td>9</td>\n",
       "      <td>38</td>\n",
       "    </tr>\n",
       "    <tr>\n",
       "      <th>130</th>\n",
       "      <td>2021-09-27 00:00:00+00:00</td>\n",
       "      <td>541.683333</td>\n",
       "      <td>364.500000</td>\n",
       "      <td>507.883333</td>\n",
       "      <td>396.200000</td>\n",
       "      <td>567.416667</td>\n",
       "      <td>2021</td>\n",
       "      <td>9</td>\n",
       "      <td>39</td>\n",
       "    </tr>\n",
       "  </tbody>\n",
       "</table>\n",
       "<p>127 rows × 9 columns</p>\n",
       "</div>"
      ],
      "text/plain": [
       "    operationalDemandDateWeekBeginDate  operationalDemandOpHoursSum  \\\n",
       "4            2019-04-29 00:00:00+00:00                   648.450000   \n",
       "5            2019-05-06 00:00:00+00:00                   524.566667   \n",
       "6            2019-05-13 00:00:00+00:00                   702.600000   \n",
       "7            2019-05-20 00:00:00+00:00                   599.333333   \n",
       "8            2019-05-27 00:00:00+00:00                   627.016667   \n",
       "..                                 ...                          ...   \n",
       "126          2021-08-30 00:00:00+00:00                   567.416667   \n",
       "127          2021-09-06 00:00:00+00:00                   396.200000   \n",
       "128          2021-09-13 00:00:00+00:00                   507.883333   \n",
       "129          2021-09-20 00:00:00+00:00                   364.500000   \n",
       "130          2021-09-27 00:00:00+00:00                   541.683333   \n",
       "\n",
       "     prev_week_1  prev_week_2  prev_week_3  prev_week_4  \\\n",
       "4     346.100000   583.566667   501.683333   680.300000   \n",
       "5     648.450000   346.100000   583.566667   501.683333   \n",
       "6     524.566667   648.450000   346.100000   583.566667   \n",
       "7     702.600000   524.566667   648.450000   346.100000   \n",
       "8     599.333333   702.600000   524.566667   648.450000   \n",
       "..           ...          ...          ...          ...   \n",
       "126   566.935000   508.650000   583.283333   479.501667   \n",
       "127   567.416667   566.935000   508.650000   583.283333   \n",
       "128   396.200000   567.416667   566.935000   508.650000   \n",
       "129   507.883333   396.200000   567.416667   566.935000   \n",
       "130   364.500000   507.883333   396.200000   567.416667   \n",
       "\n",
       "     OperationalDemandYear  OperationalDemandMonth  OperationalDemandWeek  \n",
       "4                     2019                       4                     18  \n",
       "5                     2019                       5                     19  \n",
       "6                     2019                       5                     20  \n",
       "7                     2019                       5                     21  \n",
       "8                     2019                       5                     22  \n",
       "..                     ...                     ...                    ...  \n",
       "126                   2021                       8                     35  \n",
       "127                   2021                       9                     36  \n",
       "128                   2021                       9                     37  \n",
       "129                   2021                       9                     38  \n",
       "130                   2021                       9                     39  \n",
       "\n",
       "[127 rows x 9 columns]"
      ]
     },
     "execution_count": 85,
     "metadata": {},
     "output_type": "execute_result"
    }
   ],
   "source": [
    "week_groupby_train"
   ]
  },
  {
   "cell_type": "code",
   "execution_count": 86,
   "metadata": {},
   "outputs": [
    {
     "data": {
      "text/html": [
       "<div>\n",
       "<style scoped>\n",
       "    .dataframe tbody tr th:only-of-type {\n",
       "        vertical-align: middle;\n",
       "    }\n",
       "\n",
       "    .dataframe tbody tr th {\n",
       "        vertical-align: top;\n",
       "    }\n",
       "\n",
       "    .dataframe thead th {\n",
       "        text-align: right;\n",
       "    }\n",
       "</style>\n",
       "<table border=\"1\" class=\"dataframe\">\n",
       "  <thead>\n",
       "    <tr style=\"text-align: right;\">\n",
       "      <th></th>\n",
       "      <th>operationalDemandDateWeekBeginDate</th>\n",
       "      <th>operationalDemandOpHoursSum</th>\n",
       "      <th>prev_week_1</th>\n",
       "      <th>prev_week_2</th>\n",
       "      <th>prev_week_3</th>\n",
       "      <th>prev_week_4</th>\n",
       "      <th>OperationalDemandYear</th>\n",
       "      <th>OperationalDemandMonth</th>\n",
       "      <th>OperationalDemandWeek</th>\n",
       "    </tr>\n",
       "  </thead>\n",
       "  <tbody>\n",
       "    <tr>\n",
       "      <th>131</th>\n",
       "      <td>2021-10-04 00:00:00+00:00</td>\n",
       "      <td>673.315000</td>\n",
       "      <td>541.683333</td>\n",
       "      <td>364.500000</td>\n",
       "      <td>507.883333</td>\n",
       "      <td>396.200000</td>\n",
       "      <td>2021</td>\n",
       "      <td>10</td>\n",
       "      <td>40</td>\n",
       "    </tr>\n",
       "    <tr>\n",
       "      <th>132</th>\n",
       "      <td>2021-10-11 00:00:00+00:00</td>\n",
       "      <td>624.233333</td>\n",
       "      <td>673.315000</td>\n",
       "      <td>541.683333</td>\n",
       "      <td>364.500000</td>\n",
       "      <td>507.883333</td>\n",
       "      <td>2021</td>\n",
       "      <td>10</td>\n",
       "      <td>41</td>\n",
       "    </tr>\n",
       "    <tr>\n",
       "      <th>133</th>\n",
       "      <td>2021-10-18 00:00:00+00:00</td>\n",
       "      <td>379.433333</td>\n",
       "      <td>624.233333</td>\n",
       "      <td>673.315000</td>\n",
       "      <td>541.683333</td>\n",
       "      <td>364.500000</td>\n",
       "      <td>2021</td>\n",
       "      <td>10</td>\n",
       "      <td>42</td>\n",
       "    </tr>\n",
       "    <tr>\n",
       "      <th>134</th>\n",
       "      <td>2021-10-25 00:00:00+00:00</td>\n",
       "      <td>528.716667</td>\n",
       "      <td>379.433333</td>\n",
       "      <td>624.233333</td>\n",
       "      <td>673.315000</td>\n",
       "      <td>541.683333</td>\n",
       "      <td>2021</td>\n",
       "      <td>10</td>\n",
       "      <td>43</td>\n",
       "    </tr>\n",
       "    <tr>\n",
       "      <th>135</th>\n",
       "      <td>2021-11-01 00:00:00+00:00</td>\n",
       "      <td>386.083333</td>\n",
       "      <td>528.716667</td>\n",
       "      <td>379.433333</td>\n",
       "      <td>624.233333</td>\n",
       "      <td>673.315000</td>\n",
       "      <td>2021</td>\n",
       "      <td>11</td>\n",
       "      <td>44</td>\n",
       "    </tr>\n",
       "    <tr>\n",
       "      <th>...</th>\n",
       "      <td>...</td>\n",
       "      <td>...</td>\n",
       "      <td>...</td>\n",
       "      <td>...</td>\n",
       "      <td>...</td>\n",
       "      <td>...</td>\n",
       "      <td>...</td>\n",
       "      <td>...</td>\n",
       "      <td>...</td>\n",
       "    </tr>\n",
       "    <tr>\n",
       "      <th>247</th>\n",
       "      <td>2024-01-01 00:00:00+00:00</td>\n",
       "      <td>2.000000</td>\n",
       "      <td>47.683333</td>\n",
       "      <td>2.500000</td>\n",
       "      <td>2.516667</td>\n",
       "      <td>178.045000</td>\n",
       "      <td>2024</td>\n",
       "      <td>1</td>\n",
       "      <td>1</td>\n",
       "    </tr>\n",
       "    <tr>\n",
       "      <th>248</th>\n",
       "      <td>2024-01-08 00:00:00+00:00</td>\n",
       "      <td>0.500000</td>\n",
       "      <td>2.000000</td>\n",
       "      <td>47.683333</td>\n",
       "      <td>2.500000</td>\n",
       "      <td>2.516667</td>\n",
       "      <td>2024</td>\n",
       "      <td>1</td>\n",
       "      <td>2</td>\n",
       "    </tr>\n",
       "    <tr>\n",
       "      <th>249</th>\n",
       "      <td>2024-01-15 00:00:00+00:00</td>\n",
       "      <td>87.250000</td>\n",
       "      <td>0.500000</td>\n",
       "      <td>2.000000</td>\n",
       "      <td>47.683333</td>\n",
       "      <td>2.500000</td>\n",
       "      <td>2024</td>\n",
       "      <td>1</td>\n",
       "      <td>3</td>\n",
       "    </tr>\n",
       "    <tr>\n",
       "      <th>250</th>\n",
       "      <td>2024-01-22 00:00:00+00:00</td>\n",
       "      <td>5.633333</td>\n",
       "      <td>87.250000</td>\n",
       "      <td>0.500000</td>\n",
       "      <td>2.000000</td>\n",
       "      <td>47.683333</td>\n",
       "      <td>2024</td>\n",
       "      <td>1</td>\n",
       "      <td>4</td>\n",
       "    </tr>\n",
       "    <tr>\n",
       "      <th>251</th>\n",
       "      <td>2024-01-29 00:00:00+00:00</td>\n",
       "      <td>99.883333</td>\n",
       "      <td>5.633333</td>\n",
       "      <td>87.250000</td>\n",
       "      <td>0.500000</td>\n",
       "      <td>2.000000</td>\n",
       "      <td>2024</td>\n",
       "      <td>1</td>\n",
       "      <td>5</td>\n",
       "    </tr>\n",
       "  </tbody>\n",
       "</table>\n",
       "<p>120 rows × 9 columns</p>\n",
       "</div>"
      ],
      "text/plain": [
       "    operationalDemandDateWeekBeginDate  operationalDemandOpHoursSum  \\\n",
       "131          2021-10-04 00:00:00+00:00                   673.315000   \n",
       "132          2021-10-11 00:00:00+00:00                   624.233333   \n",
       "133          2021-10-18 00:00:00+00:00                   379.433333   \n",
       "134          2021-10-25 00:00:00+00:00                   528.716667   \n",
       "135          2021-11-01 00:00:00+00:00                   386.083333   \n",
       "..                                 ...                          ...   \n",
       "247          2024-01-01 00:00:00+00:00                     2.000000   \n",
       "248          2024-01-08 00:00:00+00:00                     0.500000   \n",
       "249          2024-01-15 00:00:00+00:00                    87.250000   \n",
       "250          2024-01-22 00:00:00+00:00                     5.633333   \n",
       "251          2024-01-29 00:00:00+00:00                    99.883333   \n",
       "\n",
       "     prev_week_1  prev_week_2  prev_week_3  prev_week_4  \\\n",
       "131   541.683333   364.500000   507.883333   396.200000   \n",
       "132   673.315000   541.683333   364.500000   507.883333   \n",
       "133   624.233333   673.315000   541.683333   364.500000   \n",
       "134   379.433333   624.233333   673.315000   541.683333   \n",
       "135   528.716667   379.433333   624.233333   673.315000   \n",
       "..           ...          ...          ...          ...   \n",
       "247    47.683333     2.500000     2.516667   178.045000   \n",
       "248     2.000000    47.683333     2.500000     2.516667   \n",
       "249     0.500000     2.000000    47.683333     2.500000   \n",
       "250    87.250000     0.500000     2.000000    47.683333   \n",
       "251     5.633333    87.250000     0.500000     2.000000   \n",
       "\n",
       "     OperationalDemandYear  OperationalDemandMonth  OperationalDemandWeek  \n",
       "131                   2021                      10                     40  \n",
       "132                   2021                      10                     41  \n",
       "133                   2021                      10                     42  \n",
       "134                   2021                      10                     43  \n",
       "135                   2021                      11                     44  \n",
       "..                     ...                     ...                    ...  \n",
       "247                   2024                       1                      1  \n",
       "248                   2024                       1                      2  \n",
       "249                   2024                       1                      3  \n",
       "250                   2024                       1                      4  \n",
       "251                   2024                       1                      5  \n",
       "\n",
       "[120 rows x 9 columns]"
      ]
     },
     "execution_count": 86,
     "metadata": {},
     "output_type": "execute_result"
    }
   ],
   "source": [
    "week_groupby_test"
   ]
  },
  {
   "cell_type": "code",
   "execution_count": 87,
   "metadata": {},
   "outputs": [],
   "source": [
    "# Features and response variable for week groupby for train set\n",
    "X_train = week_groupby_train[['OperationalDemandYear', 'OperationalDemandMonth','OperationalDemandWeek','prev_week_1', 'prev_week_2','prev_week_3','prev_week_4']]\n",
    "y_train = week_groupby_train[['operationalDemandOpHoursSum']]\n",
    "\n",
    "# # Features and response variable for weekend groupby for train set\n",
    "X_test = week_groupby_test[['OperationalDemandYear', 'OperationalDemandMonth','OperationalDemandWeek','prev_week_1', 'prev_week_2','prev_week_3','prev_week_4']]\n",
    "y_test = week_groupby_test[['operationalDemandOpHoursSum']]"
   ]
  },
  {
   "cell_type": "code",
   "execution_count": 88,
   "metadata": {},
   "outputs": [
    {
     "name": "stdout",
     "output_type": "stream",
     "text": [
      "[0]\tvalidation_0-mape:0.10537\tvalidation_1-mape:16.35401\n"
     ]
    },
    {
     "data": {
      "text/html": [
       "<style>#sk-container-id-2 {color: black;}#sk-container-id-2 pre{padding: 0;}#sk-container-id-2 div.sk-toggleable {background-color: white;}#sk-container-id-2 label.sk-toggleable__label {cursor: pointer;display: block;width: 100%;margin-bottom: 0;padding: 0.3em;box-sizing: border-box;text-align: center;}#sk-container-id-2 label.sk-toggleable__label-arrow:before {content: \"▸\";float: left;margin-right: 0.25em;color: #696969;}#sk-container-id-2 label.sk-toggleable__label-arrow:hover:before {color: black;}#sk-container-id-2 div.sk-estimator:hover label.sk-toggleable__label-arrow:before {color: black;}#sk-container-id-2 div.sk-toggleable__content {max-height: 0;max-width: 0;overflow: hidden;text-align: left;background-color: #f0f8ff;}#sk-container-id-2 div.sk-toggleable__content pre {margin: 0.2em;color: black;border-radius: 0.25em;background-color: #f0f8ff;}#sk-container-id-2 input.sk-toggleable__control:checked~div.sk-toggleable__content {max-height: 200px;max-width: 100%;overflow: auto;}#sk-container-id-2 input.sk-toggleable__control:checked~label.sk-toggleable__label-arrow:before {content: \"▾\";}#sk-container-id-2 div.sk-estimator input.sk-toggleable__control:checked~label.sk-toggleable__label {background-color: #d4ebff;}#sk-container-id-2 div.sk-label input.sk-toggleable__control:checked~label.sk-toggleable__label {background-color: #d4ebff;}#sk-container-id-2 input.sk-hidden--visually {border: 0;clip: rect(1px 1px 1px 1px);clip: rect(1px, 1px, 1px, 1px);height: 1px;margin: -1px;overflow: hidden;padding: 0;position: absolute;width: 1px;}#sk-container-id-2 div.sk-estimator {font-family: monospace;background-color: #f0f8ff;border: 1px dotted black;border-radius: 0.25em;box-sizing: border-box;margin-bottom: 0.5em;}#sk-container-id-2 div.sk-estimator:hover {background-color: #d4ebff;}#sk-container-id-2 div.sk-parallel-item::after {content: \"\";width: 100%;border-bottom: 1px solid gray;flex-grow: 1;}#sk-container-id-2 div.sk-label:hover label.sk-toggleable__label {background-color: #d4ebff;}#sk-container-id-2 div.sk-serial::before {content: \"\";position: absolute;border-left: 1px solid gray;box-sizing: border-box;top: 0;bottom: 0;left: 50%;z-index: 0;}#sk-container-id-2 div.sk-serial {display: flex;flex-direction: column;align-items: center;background-color: white;padding-right: 0.2em;padding-left: 0.2em;position: relative;}#sk-container-id-2 div.sk-item {position: relative;z-index: 1;}#sk-container-id-2 div.sk-parallel {display: flex;align-items: stretch;justify-content: center;background-color: white;position: relative;}#sk-container-id-2 div.sk-item::before, #sk-container-id-2 div.sk-parallel-item::before {content: \"\";position: absolute;border-left: 1px solid gray;box-sizing: border-box;top: 0;bottom: 0;left: 50%;z-index: -1;}#sk-container-id-2 div.sk-parallel-item {display: flex;flex-direction: column;z-index: 1;position: relative;background-color: white;}#sk-container-id-2 div.sk-parallel-item:first-child::after {align-self: flex-end;width: 50%;}#sk-container-id-2 div.sk-parallel-item:last-child::after {align-self: flex-start;width: 50%;}#sk-container-id-2 div.sk-parallel-item:only-child::after {width: 0;}#sk-container-id-2 div.sk-dashed-wrapped {border: 1px dashed gray;margin: 0 0.4em 0.5em 0.4em;box-sizing: border-box;padding-bottom: 0.4em;background-color: white;}#sk-container-id-2 div.sk-label label {font-family: monospace;font-weight: bold;display: inline-block;line-height: 1.2em;}#sk-container-id-2 div.sk-label-container {text-align: center;}#sk-container-id-2 div.sk-container {/* jupyter's `normalize.less` sets `[hidden] { display: none; }` but bootstrap.min.css set `[hidden] { display: none !important; }` so we also need the `!important` here to be able to override the default hidden behavior on the sphinx rendered scikit-learn.org. See: https://github.com/scikit-learn/scikit-learn/issues/21755 */display: inline-block !important;position: relative;}#sk-container-id-2 div.sk-text-repr-fallback {display: none;}</style><div id=\"sk-container-id-2\" class=\"sk-top-container\"><div class=\"sk-text-repr-fallback\"><pre>XGBRFRegressor(base_score=None, booster=None, callbacks=None,\n",
       "               colsample_bylevel=None, colsample_bytree=None, device=None,\n",
       "               early_stopping_rounds=None, enable_categorical=False,\n",
       "               eval_metric=None, feature_types=None, gamma=None,\n",
       "               grow_policy=None, importance_type=None,\n",
       "               interaction_constraints=None, max_bin=None,\n",
       "               max_cat_threshold=None, max_cat_to_onehot=None,\n",
       "               max_delta_step=None, max_depth=None, max_leaves=None,\n",
       "               min_child_weight=None, missing=nan, monotone_constraints=None,\n",
       "               multi_strategy=None, n_estimators=1000, n_jobs=None,\n",
       "               num_parallel_tree=None, objective=&#x27;reg:squarederror&#x27;,\n",
       "               random_state=None, reg_alpha=None, ...)</pre><b>In a Jupyter environment, please rerun this cell to show the HTML representation or trust the notebook. <br />On GitHub, the HTML representation is unable to render, please try loading this page with nbviewer.org.</b></div><div class=\"sk-container\" hidden><div class=\"sk-item\"><div class=\"sk-estimator sk-toggleable\"><input class=\"sk-toggleable__control sk-hidden--visually\" id=\"sk-estimator-id-2\" type=\"checkbox\" checked><label for=\"sk-estimator-id-2\" class=\"sk-toggleable__label sk-toggleable__label-arrow\">XGBRFRegressor</label><div class=\"sk-toggleable__content\"><pre>XGBRFRegressor(base_score=None, booster=None, callbacks=None,\n",
       "               colsample_bylevel=None, colsample_bytree=None, device=None,\n",
       "               early_stopping_rounds=None, enable_categorical=False,\n",
       "               eval_metric=None, feature_types=None, gamma=None,\n",
       "               grow_policy=None, importance_type=None,\n",
       "               interaction_constraints=None, max_bin=None,\n",
       "               max_cat_threshold=None, max_cat_to_onehot=None,\n",
       "               max_delta_step=None, max_depth=None, max_leaves=None,\n",
       "               min_child_weight=None, missing=nan, monotone_constraints=None,\n",
       "               multi_strategy=None, n_estimators=1000, n_jobs=None,\n",
       "               num_parallel_tree=None, objective=&#x27;reg:squarederror&#x27;,\n",
       "               random_state=None, reg_alpha=None, ...)</pre></div></div></div></div></div>"
      ],
      "text/plain": [
       "XGBRFRegressor(base_score=None, booster=None, callbacks=None,\n",
       "               colsample_bylevel=None, colsample_bytree=None, device=None,\n",
       "               early_stopping_rounds=None, enable_categorical=False,\n",
       "               eval_metric=None, feature_types=None, gamma=None,\n",
       "               grow_policy=None, importance_type=None,\n",
       "               interaction_constraints=None, max_bin=None,\n",
       "               max_cat_threshold=None, max_cat_to_onehot=None,\n",
       "               max_delta_step=None, max_depth=None, max_leaves=None,\n",
       "               min_child_weight=None, missing=nan, monotone_constraints=None,\n",
       "               multi_strategy=None, n_estimators=1000, n_jobs=None,\n",
       "               num_parallel_tree=None, objective='reg:squarederror',\n",
       "               random_state=None, reg_alpha=None, ...)"
      ]
     },
     "execution_count": 88,
     "metadata": {},
     "output_type": "execute_result"
    }
   ],
   "source": [
    "# Intitiation of XGB boost model\n",
    "reg = xgb.XGBRFRegressor(n_estimators=1000)\n",
    "reg.fit(X_train, y_train,\n",
    "        eval_set=[(X_train, y_train), (X_test, y_test)],\n",
    "        verbose=10, eval_metric = 'mape')"
   ]
  },
  {
   "cell_type": "code",
   "execution_count": 89,
   "metadata": {},
   "outputs": [],
   "source": [
    "# Creation of a variable outling the most significant features of the Weekday Data frame \n",
    "feature_importance = pd.DataFrame(data = reg.feature_importances_,\n",
    "                                  index= reg.feature_names_in_,\n",
    "                                  columns = ['importance'])                               "
   ]
  },
  {
   "cell_type": "code",
   "execution_count": 90,
   "metadata": {},
   "outputs": [
    {
     "data": {
      "text/plain": [
       "<Axes: title={'center': 'Feature Importance'}>"
      ]
     },
     "execution_count": 90,
     "metadata": {},
     "output_type": "execute_result"
    },
    {
     "data": {
      "image/png": "[encoded data removed]",
      "text/plain": [
       "<Figure size 1500x600 with 1 Axes>"
      ]
     },
     "metadata": {},
     "output_type": "display_data"
    }
   ],
   "source": [
    "# Visualising the most important features from within the Weekday datatframe \n",
    "# For this example, prev_week 2 is the most significant feature \n",
    "feature_importance.sort_values('importance').plot(kind= 'barh',title = \"Feature Importance\")"
   ]
  },
  {
   "cell_type": "markdown",
   "metadata": {},
   "source": [
    "# Forecasting"
   ]
  },
  {
   "cell_type": "code",
   "execution_count": 95,
   "metadata": {},
   "outputs": [
    {
     "name": "stderr",
     "output_type": "stream",
     "text": [
      "C:\\Users\\karth\\AppData\\Local\\Temp\\ipykernel_30400\\3268557887.py:2: SettingWithCopyWarning:\n",
      "\n",
      "\n",
      "A value is trying to be set on a copy of a slice from a DataFrame.\n",
      "Try using .loc[row_indexer,col_indexer] = value instead\n",
      "\n",
      "See the caveats in the documentation: https://pandas.pydata.org/pandas-docs/stable/user_guide/indexing.html#returning-a-view-versus-a-copy\n",
      "\n"
     ]
    }
   ],
   "source": [
    "# Utilising the model to make predictions on the test set\n",
    "week_groupby_test['prediction']= reg.predict(X_test)"
   ]
  },
  {
   "cell_type": "markdown",
   "metadata": {},
   "source": [
    "# Plots"
   ]
  },
  {
   "cell_type": "code",
   "execution_count": 92,
   "metadata": {},
   "outputs": [
    {
     "data": {
      "text/plain": [
       "<matplotlib.collections.PathCollection at 0x24b9fa37770>"
      ]
     },
     "execution_count": 92,
     "metadata": {},
     "output_type": "execute_result"
    },
    {
     "data": {
      "image/png": "[encoded data removed]",
      "text/plain": [
       "<Figure size 2500x1000 with 1 Axes>"
      ]
     },
     "metadata": {},
     "output_type": "display_data"
    }
   ],
   "source": [
    "#Actual residuals plotted against the predicition, axis can be misleading when interpretting the prediction\n",
    "f, ax = plt.subplots(figsize=(25, 10))\n",
    "ax.scatter(week_groupby_test['operationalDemandDateWeekBeginDate'], week_groupby_test['operationalDemandOpHoursSum'], color='r')\n",
    "ax.scatter(week_groupby_test['operationalDemandDateWeekBeginDate'], week_groupby_test['prediction'], color='b')"
   ]
  },
  {
   "cell_type": "code",
   "execution_count": 96,
   "metadata": {},
   "outputs": [
    {
     "ename": "TypeError",
     "evalue": "scatterplot() takes from 0 to 1 positional arguments but 2 were given",
     "output_type": "error",
     "traceback": [
      "\u001b[1;31m---------------------------------------------------------------------------\u001b[0m",
      "\u001b[1;31mTypeError\u001b[0m                                 Traceback (most recent call last)",
      "Cell \u001b[1;32mIn[96], line 2\u001b[0m\n\u001b[0;32m      1\u001b[0m \u001b[38;5;66;03m# Creating a scatter plot which shows the prediction against the actual operationalDemandOpsHoursSum\u001b[39;00m\n\u001b[1;32m----> 2\u001b[0m \u001b[43msns\u001b[49m\u001b[38;5;241;43m.\u001b[39;49m\u001b[43mscatterplot\u001b[49m\u001b[43m(\u001b[49m\u001b[43mweek_groupby_test\u001b[49m\u001b[43m[\u001b[49m\u001b[38;5;124;43m'\u001b[39;49m\u001b[38;5;124;43mprediction\u001b[39;49m\u001b[38;5;124;43m'\u001b[39;49m\u001b[43m]\u001b[49m\u001b[43m,\u001b[49m\u001b[43m \u001b[49m\u001b[43mweek_groupby_test\u001b[49m\u001b[43m[\u001b[49m\u001b[38;5;124;43m'\u001b[39;49m\u001b[38;5;124;43moperationalDemandOpHoursSum\u001b[39;49m\u001b[38;5;124;43m'\u001b[39;49m\u001b[43m]\u001b[49m\u001b[43m)\u001b[49m\n\u001b[0;32m      3\u001b[0m plt\u001b[38;5;241m.\u001b[39mplot([\u001b[38;5;241m0\u001b[39m, \u001b[38;5;241m200\u001b[39m], [\u001b[38;5;241m0\u001b[39m, \u001b[38;5;241m400\u001b[39m])\n",
      "\u001b[1;31mTypeError\u001b[0m: scatterplot() takes from 0 to 1 positional arguments but 2 were given"
     ]
    }
   ],
   "source": [
    "# Creating a scatter plot which shows the prediction against the actual operationalDemandOpsHoursSum\n",
    "sns.scatterplot(week_groupby_test['prediction'], week_groupby_test['operationalDemandOpHoursSum'])\n",
    "plt.plot([0, 200], [0, 400])"
   ]
  },
  {
   "cell_type": "markdown",
   "metadata": {},
   "source": [
    "# Model Evaluation "
   ]
  },
  {
   "cell_type": "code",
   "execution_count": 97,
   "metadata": {},
   "outputs": [
    {
     "data": {
      "text/plain": [
       "194.65576114127913"
      ]
     },
     "execution_count": 97,
     "metadata": {},
     "output_type": "execute_result"
    }
   ],
   "source": [
    "# Evaluating the mean squared error \n",
    "np.sqrt(mean_squared_error(week_groupby_test['operationalDemandOpHoursSum'], week_groupby_test['prediction']))"
   ]
  },
  {
   "cell_type": "code",
   "execution_count": 98,
   "metadata": {},
   "outputs": [
    {
     "data": {
      "text/plain": [
       "140.09922981092666"
      ]
     },
     "execution_count": 98,
     "metadata": {},
     "output_type": "execute_result"
    }
   ],
   "source": [
    "# Evaluating the mean absolute error\n",
    "from sklearn.metrics import mean_absolute_error\n",
    "mean_absolute_error(week_groupby_test['operationalDemandOpHoursSum'], week_groupby_test['prediction'])"
   ]
  },
  {
   "cell_type": "markdown",
   "metadata": {},
   "source": [
    "# Weekend Time Series Modelling"
   ]
  },
  {
   "cell_type": "code",
   "execution_count": 99,
   "metadata": {},
   "outputs": [
    {
     "data": {
      "text/html": [
       "<div>\n",
       "<style scoped>\n",
       "    .dataframe tbody tr th:only-of-type {\n",
       "        vertical-align: middle;\n",
       "    }\n",
       "\n",
       "    .dataframe tbody tr th {\n",
       "        vertical-align: top;\n",
       "    }\n",
       "\n",
       "    .dataframe thead th {\n",
       "        text-align: right;\n",
       "    }\n",
       "</style>\n",
       "<table border=\"1\" class=\"dataframe\">\n",
       "  <thead>\n",
       "    <tr style=\"text-align: right;\">\n",
       "      <th></th>\n",
       "      <th>operationalDemandDateWeekBeginDate</th>\n",
       "      <th>operationalDemandOpHoursSum</th>\n",
       "      <th>prev_week_1</th>\n",
       "      <th>prev_week_2</th>\n",
       "      <th>prev_week_3</th>\n",
       "      <th>prev_week_4</th>\n",
       "      <th>OperationalDemandYear</th>\n",
       "      <th>OperationalDemandMonth</th>\n",
       "      <th>OperationalDemandWeek</th>\n",
       "    </tr>\n",
       "  </thead>\n",
       "  <tbody>\n",
       "    <tr>\n",
       "      <th>4</th>\n",
       "      <td>2019-04-29 00:00:00+00:00</td>\n",
       "      <td>57.300000</td>\n",
       "      <td>38.583333</td>\n",
       "      <td>113.766667</td>\n",
       "      <td>79.333333</td>\n",
       "      <td>90.816667</td>\n",
       "      <td>2019</td>\n",
       "      <td>4</td>\n",
       "      <td>18</td>\n",
       "    </tr>\n",
       "    <tr>\n",
       "      <th>5</th>\n",
       "      <td>2019-05-06 00:00:00+00:00</td>\n",
       "      <td>138.316667</td>\n",
       "      <td>57.300000</td>\n",
       "      <td>38.583333</td>\n",
       "      <td>113.766667</td>\n",
       "      <td>79.333333</td>\n",
       "      <td>2019</td>\n",
       "      <td>5</td>\n",
       "      <td>19</td>\n",
       "    </tr>\n",
       "    <tr>\n",
       "      <th>6</th>\n",
       "      <td>2019-05-13 00:00:00+00:00</td>\n",
       "      <td>80.016667</td>\n",
       "      <td>138.316667</td>\n",
       "      <td>57.300000</td>\n",
       "      <td>38.583333</td>\n",
       "      <td>113.766667</td>\n",
       "      <td>2019</td>\n",
       "      <td>5</td>\n",
       "      <td>20</td>\n",
       "    </tr>\n",
       "    <tr>\n",
       "      <th>7</th>\n",
       "      <td>2019-05-20 00:00:00+00:00</td>\n",
       "      <td>43.333333</td>\n",
       "      <td>80.016667</td>\n",
       "      <td>138.316667</td>\n",
       "      <td>57.300000</td>\n",
       "      <td>38.583333</td>\n",
       "      <td>2019</td>\n",
       "      <td>5</td>\n",
       "      <td>21</td>\n",
       "    </tr>\n",
       "    <tr>\n",
       "      <th>8</th>\n",
       "      <td>2019-05-27 00:00:00+00:00</td>\n",
       "      <td>156.600000</td>\n",
       "      <td>43.333333</td>\n",
       "      <td>80.016667</td>\n",
       "      <td>138.316667</td>\n",
       "      <td>57.300000</td>\n",
       "      <td>2019</td>\n",
       "      <td>5</td>\n",
       "      <td>22</td>\n",
       "    </tr>\n",
       "    <tr>\n",
       "      <th>...</th>\n",
       "      <td>...</td>\n",
       "      <td>...</td>\n",
       "      <td>...</td>\n",
       "      <td>...</td>\n",
       "      <td>...</td>\n",
       "      <td>...</td>\n",
       "      <td>...</td>\n",
       "      <td>...</td>\n",
       "      <td>...</td>\n",
       "    </tr>\n",
       "    <tr>\n",
       "      <th>245</th>\n",
       "      <td>2023-12-18 00:00:00+00:00</td>\n",
       "      <td>11.250000</td>\n",
       "      <td>10.500000</td>\n",
       "      <td>1.250000</td>\n",
       "      <td>6.000000</td>\n",
       "      <td>6.000000</td>\n",
       "      <td>2023</td>\n",
       "      <td>12</td>\n",
       "      <td>51</td>\n",
       "    </tr>\n",
       "    <tr>\n",
       "      <th>246</th>\n",
       "      <td>2024-01-01 00:00:00+00:00</td>\n",
       "      <td>1.000000</td>\n",
       "      <td>11.250000</td>\n",
       "      <td>10.500000</td>\n",
       "      <td>1.250000</td>\n",
       "      <td>6.000000</td>\n",
       "      <td>2024</td>\n",
       "      <td>1</td>\n",
       "      <td>1</td>\n",
       "    </tr>\n",
       "    <tr>\n",
       "      <th>247</th>\n",
       "      <td>2024-01-08 00:00:00+00:00</td>\n",
       "      <td>1.000000</td>\n",
       "      <td>1.000000</td>\n",
       "      <td>11.250000</td>\n",
       "      <td>10.500000</td>\n",
       "      <td>1.250000</td>\n",
       "      <td>2024</td>\n",
       "      <td>1</td>\n",
       "      <td>2</td>\n",
       "    </tr>\n",
       "    <tr>\n",
       "      <th>248</th>\n",
       "      <td>2024-01-22 00:00:00+00:00</td>\n",
       "      <td>4.000000</td>\n",
       "      <td>1.000000</td>\n",
       "      <td>1.000000</td>\n",
       "      <td>11.250000</td>\n",
       "      <td>10.500000</td>\n",
       "      <td>2024</td>\n",
       "      <td>1</td>\n",
       "      <td>4</td>\n",
       "    </tr>\n",
       "    <tr>\n",
       "      <th>249</th>\n",
       "      <td>2024-01-29 00:00:00+00:00</td>\n",
       "      <td>1.000000</td>\n",
       "      <td>4.000000</td>\n",
       "      <td>1.000000</td>\n",
       "      <td>1.000000</td>\n",
       "      <td>11.250000</td>\n",
       "      <td>2024</td>\n",
       "      <td>1</td>\n",
       "      <td>5</td>\n",
       "    </tr>\n",
       "  </tbody>\n",
       "</table>\n",
       "<p>246 rows × 9 columns</p>\n",
       "</div>"
      ],
      "text/plain": [
       "    operationalDemandDateWeekBeginDate  operationalDemandOpHoursSum  \\\n",
       "4            2019-04-29 00:00:00+00:00                    57.300000   \n",
       "5            2019-05-06 00:00:00+00:00                   138.316667   \n",
       "6            2019-05-13 00:00:00+00:00                    80.016667   \n",
       "7            2019-05-20 00:00:00+00:00                    43.333333   \n",
       "8            2019-05-27 00:00:00+00:00                   156.600000   \n",
       "..                                 ...                          ...   \n",
       "245          2023-12-18 00:00:00+00:00                    11.250000   \n",
       "246          2024-01-01 00:00:00+00:00                     1.000000   \n",
       "247          2024-01-08 00:00:00+00:00                     1.000000   \n",
       "248          2024-01-22 00:00:00+00:00                     4.000000   \n",
       "249          2024-01-29 00:00:00+00:00                     1.000000   \n",
       "\n",
       "     prev_week_1  prev_week_2  prev_week_3  prev_week_4  \\\n",
       "4      38.583333   113.766667    79.333333    90.816667   \n",
       "5      57.300000    38.583333   113.766667    79.333333   \n",
       "6     138.316667    57.300000    38.583333   113.766667   \n",
       "7      80.016667   138.316667    57.300000    38.583333   \n",
       "8      43.333333    80.016667   138.316667    57.300000   \n",
       "..           ...          ...          ...          ...   \n",
       "245    10.500000     1.250000     6.000000     6.000000   \n",
       "246    11.250000    10.500000     1.250000     6.000000   \n",
       "247     1.000000    11.250000    10.500000     1.250000   \n",
       "248     1.000000     1.000000    11.250000    10.500000   \n",
       "249     4.000000     1.000000     1.000000    11.250000   \n",
       "\n",
       "     OperationalDemandYear  OperationalDemandMonth  OperationalDemandWeek  \n",
       "4                     2019                       4                     18  \n",
       "5                     2019                       5                     19  \n",
       "6                     2019                       5                     20  \n",
       "7                     2019                       5                     21  \n",
       "8                     2019                       5                     22  \n",
       "..                     ...                     ...                    ...  \n",
       "245                   2023                      12                     51  \n",
       "246                   2024                       1                      1  \n",
       "247                   2024                       1                      2  \n",
       "248                   2024                       1                      4  \n",
       "249                   2024                       1                      5  \n",
       "\n",
       "[246 rows x 9 columns]"
      ]
     },
     "execution_count": 99,
     "metadata": {},
     "output_type": "execute_result"
    }
   ],
   "source": [
    "weekend_groupby"
   ]
  },
  {
   "cell_type": "code",
   "execution_count": 100,
   "metadata": {},
   "outputs": [
    {
     "data": {
      "text/html": [
       "<div>\n",
       "<style scoped>\n",
       "    .dataframe tbody tr th:only-of-type {\n",
       "        vertical-align: middle;\n",
       "    }\n",
       "\n",
       "    .dataframe tbody tr th {\n",
       "        vertical-align: top;\n",
       "    }\n",
       "\n",
       "    .dataframe thead th {\n",
       "        text-align: right;\n",
       "    }\n",
       "</style>\n",
       "<table border=\"1\" class=\"dataframe\">\n",
       "  <thead>\n",
       "    <tr style=\"text-align: right;\">\n",
       "      <th></th>\n",
       "      <th>operationalDemandDateWeekBeginDate</th>\n",
       "      <th>operationalDemandOpHoursSum</th>\n",
       "      <th>prev_week_1</th>\n",
       "      <th>prev_week_2</th>\n",
       "      <th>prev_week_3</th>\n",
       "      <th>prev_week_4</th>\n",
       "      <th>OperationalDemandYear</th>\n",
       "      <th>OperationalDemandMonth</th>\n",
       "      <th>OperationalDemandWeek</th>\n",
       "    </tr>\n",
       "  </thead>\n",
       "  <tbody>\n",
       "    <tr>\n",
       "      <th>131</th>\n",
       "      <td>2021-10-04 00:00:00+00:00</td>\n",
       "      <td>102.816667</td>\n",
       "      <td>60.800000</td>\n",
       "      <td>54.300000</td>\n",
       "      <td>94.716667</td>\n",
       "      <td>89.266667</td>\n",
       "      <td>2021</td>\n",
       "      <td>10</td>\n",
       "      <td>40</td>\n",
       "    </tr>\n",
       "    <tr>\n",
       "      <th>132</th>\n",
       "      <td>2021-10-11 00:00:00+00:00</td>\n",
       "      <td>60.816667</td>\n",
       "      <td>102.816667</td>\n",
       "      <td>60.800000</td>\n",
       "      <td>54.300000</td>\n",
       "      <td>94.716667</td>\n",
       "      <td>2021</td>\n",
       "      <td>10</td>\n",
       "      <td>41</td>\n",
       "    </tr>\n",
       "    <tr>\n",
       "      <th>133</th>\n",
       "      <td>2021-10-18 00:00:00+00:00</td>\n",
       "      <td>62.283333</td>\n",
       "      <td>60.816667</td>\n",
       "      <td>102.816667</td>\n",
       "      <td>60.800000</td>\n",
       "      <td>54.300000</td>\n",
       "      <td>2021</td>\n",
       "      <td>10</td>\n",
       "      <td>42</td>\n",
       "    </tr>\n",
       "    <tr>\n",
       "      <th>134</th>\n",
       "      <td>2021-10-25 00:00:00+00:00</td>\n",
       "      <td>114.700000</td>\n",
       "      <td>62.283333</td>\n",
       "      <td>60.816667</td>\n",
       "      <td>102.816667</td>\n",
       "      <td>60.800000</td>\n",
       "      <td>2021</td>\n",
       "      <td>10</td>\n",
       "      <td>43</td>\n",
       "    </tr>\n",
       "    <tr>\n",
       "      <th>135</th>\n",
       "      <td>2021-11-01 00:00:00+00:00</td>\n",
       "      <td>67.333333</td>\n",
       "      <td>114.700000</td>\n",
       "      <td>62.283333</td>\n",
       "      <td>60.816667</td>\n",
       "      <td>102.816667</td>\n",
       "      <td>2021</td>\n",
       "      <td>11</td>\n",
       "      <td>44</td>\n",
       "    </tr>\n",
       "    <tr>\n",
       "      <th>...</th>\n",
       "      <td>...</td>\n",
       "      <td>...</td>\n",
       "      <td>...</td>\n",
       "      <td>...</td>\n",
       "      <td>...</td>\n",
       "      <td>...</td>\n",
       "      <td>...</td>\n",
       "      <td>...</td>\n",
       "      <td>...</td>\n",
       "    </tr>\n",
       "    <tr>\n",
       "      <th>245</th>\n",
       "      <td>2023-12-18 00:00:00+00:00</td>\n",
       "      <td>11.250000</td>\n",
       "      <td>10.500000</td>\n",
       "      <td>1.250000</td>\n",
       "      <td>6.000000</td>\n",
       "      <td>6.000000</td>\n",
       "      <td>2023</td>\n",
       "      <td>12</td>\n",
       "      <td>51</td>\n",
       "    </tr>\n",
       "    <tr>\n",
       "      <th>246</th>\n",
       "      <td>2024-01-01 00:00:00+00:00</td>\n",
       "      <td>1.000000</td>\n",
       "      <td>11.250000</td>\n",
       "      <td>10.500000</td>\n",
       "      <td>1.250000</td>\n",
       "      <td>6.000000</td>\n",
       "      <td>2024</td>\n",
       "      <td>1</td>\n",
       "      <td>1</td>\n",
       "    </tr>\n",
       "    <tr>\n",
       "      <th>247</th>\n",
       "      <td>2024-01-08 00:00:00+00:00</td>\n",
       "      <td>1.000000</td>\n",
       "      <td>1.000000</td>\n",
       "      <td>11.250000</td>\n",
       "      <td>10.500000</td>\n",
       "      <td>1.250000</td>\n",
       "      <td>2024</td>\n",
       "      <td>1</td>\n",
       "      <td>2</td>\n",
       "    </tr>\n",
       "    <tr>\n",
       "      <th>248</th>\n",
       "      <td>2024-01-22 00:00:00+00:00</td>\n",
       "      <td>4.000000</td>\n",
       "      <td>1.000000</td>\n",
       "      <td>1.000000</td>\n",
       "      <td>11.250000</td>\n",
       "      <td>10.500000</td>\n",
       "      <td>2024</td>\n",
       "      <td>1</td>\n",
       "      <td>4</td>\n",
       "    </tr>\n",
       "    <tr>\n",
       "      <th>249</th>\n",
       "      <td>2024-01-29 00:00:00+00:00</td>\n",
       "      <td>1.000000</td>\n",
       "      <td>4.000000</td>\n",
       "      <td>1.000000</td>\n",
       "      <td>1.000000</td>\n",
       "      <td>11.250000</td>\n",
       "      <td>2024</td>\n",
       "      <td>1</td>\n",
       "      <td>5</td>\n",
       "    </tr>\n",
       "  </tbody>\n",
       "</table>\n",
       "<p>119 rows × 9 columns</p>\n",
       "</div>"
      ],
      "text/plain": [
       "    operationalDemandDateWeekBeginDate  operationalDemandOpHoursSum  \\\n",
       "131          2021-10-04 00:00:00+00:00                   102.816667   \n",
       "132          2021-10-11 00:00:00+00:00                    60.816667   \n",
       "133          2021-10-18 00:00:00+00:00                    62.283333   \n",
       "134          2021-10-25 00:00:00+00:00                   114.700000   \n",
       "135          2021-11-01 00:00:00+00:00                    67.333333   \n",
       "..                                 ...                          ...   \n",
       "245          2023-12-18 00:00:00+00:00                    11.250000   \n",
       "246          2024-01-01 00:00:00+00:00                     1.000000   \n",
       "247          2024-01-08 00:00:00+00:00                     1.000000   \n",
       "248          2024-01-22 00:00:00+00:00                     4.000000   \n",
       "249          2024-01-29 00:00:00+00:00                     1.000000   \n",
       "\n",
       "     prev_week_1  prev_week_2  prev_week_3  prev_week_4  \\\n",
       "131    60.800000    54.300000    94.716667    89.266667   \n",
       "132   102.816667    60.800000    54.300000    94.716667   \n",
       "133    60.816667   102.816667    60.800000    54.300000   \n",
       "134    62.283333    60.816667   102.816667    60.800000   \n",
       "135   114.700000    62.283333    60.816667   102.816667   \n",
       "..           ...          ...          ...          ...   \n",
       "245    10.500000     1.250000     6.000000     6.000000   \n",
       "246    11.250000    10.500000     1.250000     6.000000   \n",
       "247     1.000000    11.250000    10.500000     1.250000   \n",
       "248     1.000000     1.000000    11.250000    10.500000   \n",
       "249     4.000000     1.000000     1.000000    11.250000   \n",
       "\n",
       "     OperationalDemandYear  OperationalDemandMonth  OperationalDemandWeek  \n",
       "131                   2021                      10                     40  \n",
       "132                   2021                      10                     41  \n",
       "133                   2021                      10                     42  \n",
       "134                   2021                      10                     43  \n",
       "135                   2021                      11                     44  \n",
       "..                     ...                     ...                    ...  \n",
       "245                   2023                      12                     51  \n",
       "246                   2024                       1                      1  \n",
       "247                   2024                       1                      2  \n",
       "248                   2024                       1                      4  \n",
       "249                   2024                       1                      5  \n",
       "\n",
       "[119 rows x 9 columns]"
      ]
     },
     "execution_count": 100,
     "metadata": {},
     "output_type": "execute_result"
    }
   ],
   "source": [
    "weekend_groupby.loc[weekend_groupby['operationalDemandDateWeekBeginDate'] >= '2021-10-01']"
   ]
  },
  {
   "cell_type": "code",
   "execution_count": 101,
   "metadata": {},
   "outputs": [],
   "source": [
    "#Filtered data set of train and test split everything before 1st October 2021 trained & everything after tested\n",
    "weekend_groupby_train = weekend_groupby.loc[weekend_groupby['operationalDemandDateWeekBeginDate'] < '2021-10-01']\n",
    "\n",
    "weekend_groupby_test = weekend_groupby.loc[weekend_groupby['operationalDemandDateWeekBeginDate'] >= '2021-10-01']"
   ]
  },
  {
   "cell_type": "code",
   "execution_count": 102,
   "metadata": {},
   "outputs": [],
   "source": [
    "# Specifying the columns that need to be inclueded with the X_train_weekend variable \n",
    "X_train_weekend = weekend_groupby_train[['OperationalDemandYear', 'OperationalDemandMonth','OperationalDemandWeek','prev_week_1', 'prev_week_2','prev_week_3','prev_week_4']]\n",
    "\n",
    "# Assigning the column from the original dataframe that needs to be assigned  as y_train_weekend\n",
    "y_train_weekend = weekend_groupby_train[['operationalDemandOpHoursSum']]\n",
    "\n",
    "# Specifying the columns that need to be included within the X_test_weekend and assigning it the variable of the same name\n",
    "X_test_weekend = weekend_groupby_test[['OperationalDemandYear', 'OperationalDemandMonth','OperationalDemandWeek','prev_week_1', 'prev_week_2','prev_week_3','prev_week_4']]\n",
    "\n",
    "# Assignin the column from the original dataframe that needs to be assigned to the variable y_test_weekend\n",
    "y_test_weekend = weekend_groupby_test[['operationalDemandOpHoursSum']]"
   ]
  },
  {
   "cell_type": "code",
   "execution_count": 103,
   "metadata": {},
   "outputs": [
    {
     "name": "stdout",
     "output_type": "stream",
     "text": [
      "[0]\tvalidation_0-mape:0.25072\tvalidation_1-mape:6.33156\n"
     ]
    },
    {
     "data": {
      "text/html": [
       "<style>#sk-container-id-3 {color: black;}#sk-container-id-3 pre{padding: 0;}#sk-container-id-3 div.sk-toggleable {background-color: white;}#sk-container-id-3 label.sk-toggleable__label {cursor: pointer;display: block;width: 100%;margin-bottom: 0;padding: 0.3em;box-sizing: border-box;text-align: center;}#sk-container-id-3 label.sk-toggleable__label-arrow:before {content: \"▸\";float: left;margin-right: 0.25em;color: #696969;}#sk-container-id-3 label.sk-toggleable__label-arrow:hover:before {color: black;}#sk-container-id-3 div.sk-estimator:hover label.sk-toggleable__label-arrow:before {color: black;}#sk-container-id-3 div.sk-toggleable__content {max-height: 0;max-width: 0;overflow: hidden;text-align: left;background-color: #f0f8ff;}#sk-container-id-3 div.sk-toggleable__content pre {margin: 0.2em;color: black;border-radius: 0.25em;background-color: #f0f8ff;}#sk-container-id-3 input.sk-toggleable__control:checked~div.sk-toggleable__content {max-height: 200px;max-width: 100%;overflow: auto;}#sk-container-id-3 input.sk-toggleable__control:checked~label.sk-toggleable__label-arrow:before {content: \"▾\";}#sk-container-id-3 div.sk-estimator input.sk-toggleable__control:checked~label.sk-toggleable__label {background-color: #d4ebff;}#sk-container-id-3 div.sk-label input.sk-toggleable__control:checked~label.sk-toggleable__label {background-color: #d4ebff;}#sk-container-id-3 input.sk-hidden--visually {border: 0;clip: rect(1px 1px 1px 1px);clip: rect(1px, 1px, 1px, 1px);height: 1px;margin: -1px;overflow: hidden;padding: 0;position: absolute;width: 1px;}#sk-container-id-3 div.sk-estimator {font-family: monospace;background-color: #f0f8ff;border: 1px dotted black;border-radius: 0.25em;box-sizing: border-box;margin-bottom: 0.5em;}#sk-container-id-3 div.sk-estimator:hover {background-color: #d4ebff;}#sk-container-id-3 div.sk-parallel-item::after {content: \"\";width: 100%;border-bottom: 1px solid gray;flex-grow: 1;}#sk-container-id-3 div.sk-label:hover label.sk-toggleable__label {background-color: #d4ebff;}#sk-container-id-3 div.sk-serial::before {content: \"\";position: absolute;border-left: 1px solid gray;box-sizing: border-box;top: 0;bottom: 0;left: 50%;z-index: 0;}#sk-container-id-3 div.sk-serial {display: flex;flex-direction: column;align-items: center;background-color: white;padding-right: 0.2em;padding-left: 0.2em;position: relative;}#sk-container-id-3 div.sk-item {position: relative;z-index: 1;}#sk-container-id-3 div.sk-parallel {display: flex;align-items: stretch;justify-content: center;background-color: white;position: relative;}#sk-container-id-3 div.sk-item::before, #sk-container-id-3 div.sk-parallel-item::before {content: \"\";position: absolute;border-left: 1px solid gray;box-sizing: border-box;top: 0;bottom: 0;left: 50%;z-index: -1;}#sk-container-id-3 div.sk-parallel-item {display: flex;flex-direction: column;z-index: 1;position: relative;background-color: white;}#sk-container-id-3 div.sk-parallel-item:first-child::after {align-self: flex-end;width: 50%;}#sk-container-id-3 div.sk-parallel-item:last-child::after {align-self: flex-start;width: 50%;}#sk-container-id-3 div.sk-parallel-item:only-child::after {width: 0;}#sk-container-id-3 div.sk-dashed-wrapped {border: 1px dashed gray;margin: 0 0.4em 0.5em 0.4em;box-sizing: border-box;padding-bottom: 0.4em;background-color: white;}#sk-container-id-3 div.sk-label label {font-family: monospace;font-weight: bold;display: inline-block;line-height: 1.2em;}#sk-container-id-3 div.sk-label-container {text-align: center;}#sk-container-id-3 div.sk-container {/* jupyter's `normalize.less` sets `[hidden] { display: none; }` but bootstrap.min.css set `[hidden] { display: none !important; }` so we also need the `!important` here to be able to override the default hidden behavior on the sphinx rendered scikit-learn.org. See: https://github.com/scikit-learn/scikit-learn/issues/21755 */display: inline-block !important;position: relative;}#sk-container-id-3 div.sk-text-repr-fallback {display: none;}</style><div id=\"sk-container-id-3\" class=\"sk-top-container\"><div class=\"sk-text-repr-fallback\"><pre>XGBRFRegressor(base_score=None, booster=None, callbacks=None,\n",
       "               colsample_bylevel=None, colsample_bytree=None, device=None,\n",
       "               early_stopping_rounds=None, enable_categorical=False,\n",
       "               eval_metric=None, feature_types=None, gamma=None,\n",
       "               grow_policy=None, importance_type=None,\n",
       "               interaction_constraints=None, max_bin=None,\n",
       "               max_cat_threshold=None, max_cat_to_onehot=None,\n",
       "               max_delta_step=None, max_depth=None, max_leaves=None,\n",
       "               min_child_weight=None, missing=nan, monotone_constraints=None,\n",
       "               multi_strategy=None, n_estimators=1000, n_jobs=None,\n",
       "               num_parallel_tree=None, objective=&#x27;reg:squarederror&#x27;,\n",
       "               random_state=None, reg_alpha=None, ...)</pre><b>In a Jupyter environment, please rerun this cell to show the HTML representation or trust the notebook. <br />On GitHub, the HTML representation is unable to render, please try loading this page with nbviewer.org.</b></div><div class=\"sk-container\" hidden><div class=\"sk-item\"><div class=\"sk-estimator sk-toggleable\"><input class=\"sk-toggleable__control sk-hidden--visually\" id=\"sk-estimator-id-3\" type=\"checkbox\" checked><label for=\"sk-estimator-id-3\" class=\"sk-toggleable__label sk-toggleable__label-arrow\">XGBRFRegressor</label><div class=\"sk-toggleable__content\"><pre>XGBRFRegressor(base_score=None, booster=None, callbacks=None,\n",
       "               colsample_bylevel=None, colsample_bytree=None, device=None,\n",
       "               early_stopping_rounds=None, enable_categorical=False,\n",
       "               eval_metric=None, feature_types=None, gamma=None,\n",
       "               grow_policy=None, importance_type=None,\n",
       "               interaction_constraints=None, max_bin=None,\n",
       "               max_cat_threshold=None, max_cat_to_onehot=None,\n",
       "               max_delta_step=None, max_depth=None, max_leaves=None,\n",
       "               min_child_weight=None, missing=nan, monotone_constraints=None,\n",
       "               multi_strategy=None, n_estimators=1000, n_jobs=None,\n",
       "               num_parallel_tree=None, objective=&#x27;reg:squarederror&#x27;,\n",
       "               random_state=None, reg_alpha=None, ...)</pre></div></div></div></div></div>"
      ],
      "text/plain": [
       "XGBRFRegressor(base_score=None, booster=None, callbacks=None,\n",
       "               colsample_bylevel=None, colsample_bytree=None, device=None,\n",
       "               early_stopping_rounds=None, enable_categorical=False,\n",
       "               eval_metric=None, feature_types=None, gamma=None,\n",
       "               grow_policy=None, importance_type=None,\n",
       "               interaction_constraints=None, max_bin=None,\n",
       "               max_cat_threshold=None, max_cat_to_onehot=None,\n",
       "               max_delta_step=None, max_depth=None, max_leaves=None,\n",
       "               min_child_weight=None, missing=nan, monotone_constraints=None,\n",
       "               multi_strategy=None, n_estimators=1000, n_jobs=None,\n",
       "               num_parallel_tree=None, objective='reg:squarederror',\n",
       "               random_state=None, reg_alpha=None, ...)"
      ]
     },
     "execution_count": 103,
     "metadata": {},
     "output_type": "execute_result"
    }
   ],
   "source": [
    "# Applying the XGB Regressor for the weekend calcauting MAPE values\n",
    "reg_weekend = xgb.XGBRFRegressor(n_estimators=1000)\n",
    "reg_weekend.fit(X_train_weekend, y_train_weekend,\n",
    "                eval_set=[(X_train_weekend, y_train_weekend), (X_test_weekend, y_test_weekend)],\n",
    "                verbose=10, eval_metric = 'mape')"
   ]
  },
  {
   "cell_type": "code",
   "execution_count": 104,
   "metadata": {},
   "outputs": [],
   "source": [
    "# Creation of a feature importance variable which will outline the features with the most significan in this dataframe\n",
    "feature_importance_weekend = pd.DataFrame(data = reg_weekend.feature_importances_,\n",
    "                                          index= reg_weekend.feature_names_in_,\n",
    "                                          columns = ['importance'])      "
   ]
  },
  {
   "cell_type": "code",
   "execution_count": 105,
   "metadata": {},
   "outputs": [
    {
     "data": {
      "text/plain": [
       "<Axes: title={'center': 'Feature Importance'}>"
      ]
     },
     "execution_count": 105,
     "metadata": {},
     "output_type": "execute_result"
    },
    {
     "data": {
      "image/png": "[encoded data removed]",
      "text/plain": [
       "<Figure size 1500x600 with 1 Axes>"
      ]
     },
     "metadata": {},
     "output_type": "display_data"
    }
   ],
   "source": [
    "# Calculating the feature importance for Weekend\n",
    "# From here we can see that data from the previous 2 weeks is the most significant \n",
    "feature_importance_weekend.sort_values('importance').plot(kind= 'barh',title = \"Feature Importance\")"
   ]
  },
  {
   "cell_type": "code",
   "execution_count": 106,
   "metadata": {},
   "outputs": [
    {
     "name": "stderr",
     "output_type": "stream",
     "text": [
      "C:\\Users\\karth\\AppData\\Local\\Temp\\ipykernel_30400\\3367861097.py:2: SettingWithCopyWarning:\n",
      "\n",
      "\n",
      "A value is trying to be set on a copy of a slice from a DataFrame.\n",
      "Try using .loc[row_indexer,col_indexer] = value instead\n",
      "\n",
      "See the caveats in the documentation: https://pandas.pydata.org/pandas-docs/stable/user_guide/indexing.html#returning-a-view-versus-a-copy\n",
      "\n"
     ]
    }
   ],
   "source": [
    "# Applying the model\n",
    "weekend_groupby_test['prediction']= reg_weekend.predict(X_test_weekend)"
   ]
  },
  {
   "cell_type": "code",
   "execution_count": 107,
   "metadata": {},
   "outputs": [
    {
     "data": {
      "text/html": [
       "<div>\n",
       "<style scoped>\n",
       "    .dataframe tbody tr th:only-of-type {\n",
       "        vertical-align: middle;\n",
       "    }\n",
       "\n",
       "    .dataframe tbody tr th {\n",
       "        vertical-align: top;\n",
       "    }\n",
       "\n",
       "    .dataframe thead th {\n",
       "        text-align: right;\n",
       "    }\n",
       "</style>\n",
       "<table border=\"1\" class=\"dataframe\">\n",
       "  <thead>\n",
       "    <tr style=\"text-align: right;\">\n",
       "      <th></th>\n",
       "      <th>operationalDemandDateWeekBeginDate</th>\n",
       "      <th>operationalDemandOpHoursSum</th>\n",
       "      <th>prev_week_1</th>\n",
       "      <th>prev_week_2</th>\n",
       "      <th>prev_week_3</th>\n",
       "      <th>prev_week_4</th>\n",
       "      <th>OperationalDemandYear</th>\n",
       "      <th>OperationalDemandMonth</th>\n",
       "      <th>OperationalDemandWeek</th>\n",
       "      <th>prediction</th>\n",
       "    </tr>\n",
       "  </thead>\n",
       "  <tbody>\n",
       "    <tr>\n",
       "      <th>131</th>\n",
       "      <td>2021-10-04 00:00:00+00:00</td>\n",
       "      <td>102.816667</td>\n",
       "      <td>60.800000</td>\n",
       "      <td>54.300000</td>\n",
       "      <td>94.716667</td>\n",
       "      <td>89.266667</td>\n",
       "      <td>2021</td>\n",
       "      <td>10</td>\n",
       "      <td>40</td>\n",
       "      <td>89.585518</td>\n",
       "    </tr>\n",
       "    <tr>\n",
       "      <th>132</th>\n",
       "      <td>2021-10-11 00:00:00+00:00</td>\n",
       "      <td>60.816667</td>\n",
       "      <td>102.816667</td>\n",
       "      <td>60.800000</td>\n",
       "      <td>54.300000</td>\n",
       "      <td>94.716667</td>\n",
       "      <td>2021</td>\n",
       "      <td>10</td>\n",
       "      <td>41</td>\n",
       "      <td>108.756653</td>\n",
       "    </tr>\n",
       "    <tr>\n",
       "      <th>133</th>\n",
       "      <td>2021-10-18 00:00:00+00:00</td>\n",
       "      <td>62.283333</td>\n",
       "      <td>60.816667</td>\n",
       "      <td>102.816667</td>\n",
       "      <td>60.800000</td>\n",
       "      <td>54.300000</td>\n",
       "      <td>2021</td>\n",
       "      <td>10</td>\n",
       "      <td>42</td>\n",
       "      <td>100.425552</td>\n",
       "    </tr>\n",
       "    <tr>\n",
       "      <th>134</th>\n",
       "      <td>2021-10-25 00:00:00+00:00</td>\n",
       "      <td>114.700000</td>\n",
       "      <td>62.283333</td>\n",
       "      <td>60.816667</td>\n",
       "      <td>102.816667</td>\n",
       "      <td>60.800000</td>\n",
       "      <td>2021</td>\n",
       "      <td>10</td>\n",
       "      <td>43</td>\n",
       "      <td>85.567459</td>\n",
       "    </tr>\n",
       "    <tr>\n",
       "      <th>135</th>\n",
       "      <td>2021-11-01 00:00:00+00:00</td>\n",
       "      <td>67.333333</td>\n",
       "      <td>114.700000</td>\n",
       "      <td>62.283333</td>\n",
       "      <td>60.816667</td>\n",
       "      <td>102.816667</td>\n",
       "      <td>2021</td>\n",
       "      <td>11</td>\n",
       "      <td>44</td>\n",
       "      <td>108.220009</td>\n",
       "    </tr>\n",
       "    <tr>\n",
       "      <th>...</th>\n",
       "      <td>...</td>\n",
       "      <td>...</td>\n",
       "      <td>...</td>\n",
       "      <td>...</td>\n",
       "      <td>...</td>\n",
       "      <td>...</td>\n",
       "      <td>...</td>\n",
       "      <td>...</td>\n",
       "      <td>...</td>\n",
       "      <td>...</td>\n",
       "    </tr>\n",
       "    <tr>\n",
       "      <th>245</th>\n",
       "      <td>2023-12-18 00:00:00+00:00</td>\n",
       "      <td>11.250000</td>\n",
       "      <td>10.500000</td>\n",
       "      <td>1.250000</td>\n",
       "      <td>6.000000</td>\n",
       "      <td>6.000000</td>\n",
       "      <td>2023</td>\n",
       "      <td>12</td>\n",
       "      <td>51</td>\n",
       "      <td>129.045715</td>\n",
       "    </tr>\n",
       "    <tr>\n",
       "      <th>246</th>\n",
       "      <td>2024-01-01 00:00:00+00:00</td>\n",
       "      <td>1.000000</td>\n",
       "      <td>11.250000</td>\n",
       "      <td>10.500000</td>\n",
       "      <td>1.250000</td>\n",
       "      <td>6.000000</td>\n",
       "      <td>2024</td>\n",
       "      <td>1</td>\n",
       "      <td>1</td>\n",
       "      <td>140.342926</td>\n",
       "    </tr>\n",
       "    <tr>\n",
       "      <th>247</th>\n",
       "      <td>2024-01-08 00:00:00+00:00</td>\n",
       "      <td>1.000000</td>\n",
       "      <td>1.000000</td>\n",
       "      <td>11.250000</td>\n",
       "      <td>10.500000</td>\n",
       "      <td>1.250000</td>\n",
       "      <td>2024</td>\n",
       "      <td>1</td>\n",
       "      <td>2</td>\n",
       "      <td>140.733093</td>\n",
       "    </tr>\n",
       "    <tr>\n",
       "      <th>248</th>\n",
       "      <td>2024-01-22 00:00:00+00:00</td>\n",
       "      <td>4.000000</td>\n",
       "      <td>1.000000</td>\n",
       "      <td>1.000000</td>\n",
       "      <td>11.250000</td>\n",
       "      <td>10.500000</td>\n",
       "      <td>2024</td>\n",
       "      <td>1</td>\n",
       "      <td>4</td>\n",
       "      <td>141.149948</td>\n",
       "    </tr>\n",
       "    <tr>\n",
       "      <th>249</th>\n",
       "      <td>2024-01-29 00:00:00+00:00</td>\n",
       "      <td>1.000000</td>\n",
       "      <td>4.000000</td>\n",
       "      <td>1.000000</td>\n",
       "      <td>1.000000</td>\n",
       "      <td>11.250000</td>\n",
       "      <td>2024</td>\n",
       "      <td>1</td>\n",
       "      <td>5</td>\n",
       "      <td>141.545258</td>\n",
       "    </tr>\n",
       "  </tbody>\n",
       "</table>\n",
       "<p>119 rows × 10 columns</p>\n",
       "</div>"
      ],
      "text/plain": [
       "    operationalDemandDateWeekBeginDate  operationalDemandOpHoursSum  \\\n",
       "131          2021-10-04 00:00:00+00:00                   102.816667   \n",
       "132          2021-10-11 00:00:00+00:00                    60.816667   \n",
       "133          2021-10-18 00:00:00+00:00                    62.283333   \n",
       "134          2021-10-25 00:00:00+00:00                   114.700000   \n",
       "135          2021-11-01 00:00:00+00:00                    67.333333   \n",
       "..                                 ...                          ...   \n",
       "245          2023-12-18 00:00:00+00:00                    11.250000   \n",
       "246          2024-01-01 00:00:00+00:00                     1.000000   \n",
       "247          2024-01-08 00:00:00+00:00                     1.000000   \n",
       "248          2024-01-22 00:00:00+00:00                     4.000000   \n",
       "249          2024-01-29 00:00:00+00:00                     1.000000   \n",
       "\n",
       "     prev_week_1  prev_week_2  prev_week_3  prev_week_4  \\\n",
       "131    60.800000    54.300000    94.716667    89.266667   \n",
       "132   102.816667    60.800000    54.300000    94.716667   \n",
       "133    60.816667   102.816667    60.800000    54.300000   \n",
       "134    62.283333    60.816667   102.816667    60.800000   \n",
       "135   114.700000    62.283333    60.816667   102.816667   \n",
       "..           ...          ...          ...          ...   \n",
       "245    10.500000     1.250000     6.000000     6.000000   \n",
       "246    11.250000    10.500000     1.250000     6.000000   \n",
       "247     1.000000    11.250000    10.500000     1.250000   \n",
       "248     1.000000     1.000000    11.250000    10.500000   \n",
       "249     4.000000     1.000000     1.000000    11.250000   \n",
       "\n",
       "     OperationalDemandYear  OperationalDemandMonth  OperationalDemandWeek  \\\n",
       "131                   2021                      10                     40   \n",
       "132                   2021                      10                     41   \n",
       "133                   2021                      10                     42   \n",
       "134                   2021                      10                     43   \n",
       "135                   2021                      11                     44   \n",
       "..                     ...                     ...                    ...   \n",
       "245                   2023                      12                     51   \n",
       "246                   2024                       1                      1   \n",
       "247                   2024                       1                      2   \n",
       "248                   2024                       1                      4   \n",
       "249                   2024                       1                      5   \n",
       "\n",
       "     prediction  \n",
       "131   89.585518  \n",
       "132  108.756653  \n",
       "133  100.425552  \n",
       "134   85.567459  \n",
       "135  108.220009  \n",
       "..          ...  \n",
       "245  129.045715  \n",
       "246  140.342926  \n",
       "247  140.733093  \n",
       "248  141.149948  \n",
       "249  141.545258  \n",
       "\n",
       "[119 rows x 10 columns]"
      ]
     },
     "execution_count": 107,
     "metadata": {},
     "output_type": "execute_result"
    }
   ],
   "source": [
    "weekend_groupby_test"
   ]
  },
  {
   "cell_type": "markdown",
   "metadata": {},
   "source": [
    "# Weekend Visuals"
   ]
  },
  {
   "cell_type": "code",
   "execution_count": 108,
   "metadata": {},
   "outputs": [
    {
     "data": {
      "text/plain": [
       "<matplotlib.collections.PathCollection at 0x24ba165e6c0>"
      ]
     },
     "execution_count": 108,
     "metadata": {},
     "output_type": "execute_result"
    },
    {
     "data": {
      "image/png": "[encoded data removed]",
      "text/plain": [
       "<Figure size 2500x1000 with 1 Axes>"
      ]
     },
     "metadata": {},
     "output_type": "display_data"
    }
   ],
   "source": [
    "#Actual residuals plotted against the predicition, axis can be misleading when interpretting the prediction\n",
    "f, ax = plt.subplots(figsize=(25, 10))\n",
    "ax.scatter(weekend_groupby_test['operationalDemandDateWeekBeginDate'], weekend_groupby_test['operationalDemandOpHoursSum'], color='r')\n",
    "ax.scatter(weekend_groupby_test['operationalDemandDateWeekBeginDate'], weekend_groupby_test['prediction'], color='b')"
   ]
  },
  {
   "cell_type": "code",
   "execution_count": 109,
   "metadata": {},
   "outputs": [
    {
     "ename": "TypeError",
     "evalue": "scatterplot() takes from 0 to 1 positional arguments but 2 were given",
     "output_type": "error",
     "traceback": [
      "\u001b[1;31m---------------------------------------------------------------------------\u001b[0m",
      "\u001b[1;31mTypeError\u001b[0m                                 Traceback (most recent call last)",
      "Cell \u001b[1;32mIn[109], line 2\u001b[0m\n\u001b[0;32m      1\u001b[0m \u001b[38;5;66;03m# Scatter plot on the Weekened Groupbyplotting the prediction against OperationDemand OPs Hours\u001b[39;00m\n\u001b[1;32m----> 2\u001b[0m \u001b[43msns\u001b[49m\u001b[38;5;241;43m.\u001b[39;49m\u001b[43mscatterplot\u001b[49m\u001b[43m(\u001b[49m\u001b[43mweekend_groupby_test\u001b[49m\u001b[43m[\u001b[49m\u001b[38;5;124;43m'\u001b[39;49m\u001b[38;5;124;43mprediction\u001b[39;49m\u001b[38;5;124;43m'\u001b[39;49m\u001b[43m]\u001b[49m\u001b[43m,\u001b[49m\u001b[43m \u001b[49m\u001b[43mweekend_groupby_test\u001b[49m\u001b[43m[\u001b[49m\u001b[38;5;124;43m'\u001b[39;49m\u001b[38;5;124;43moperationalDemandOpHoursSum\u001b[39;49m\u001b[38;5;124;43m'\u001b[39;49m\u001b[43m]\u001b[49m\u001b[43m)\u001b[49m\n\u001b[0;32m      3\u001b[0m plt\u001b[38;5;241m.\u001b[39mplot([\u001b[38;5;241m0\u001b[39m, \u001b[38;5;241m100\u001b[39m], [\u001b[38;5;241m0\u001b[39m, \u001b[38;5;241m100\u001b[39m])\n",
      "\u001b[1;31mTypeError\u001b[0m: scatterplot() takes from 0 to 1 positional arguments but 2 were given"
     ]
    }
   ],
   "source": [
    "# Scatter plot on the Weekened Groupbyplotting the prediction against OperationDemand OPs Hours\n",
    "sns.scatterplot(weekend_groupby_test['prediction'], weekend_groupby_test['operationalDemandOpHoursSum'])\n",
    "plt.plot([0, 100], [0, 100])"
   ]
  },
  {
   "cell_type": "code",
   "execution_count": 110,
   "metadata": {},
   "outputs": [
    {
     "data": {
      "text/plain": [
       "60.45354336254462"
      ]
     },
     "execution_count": 110,
     "metadata": {},
     "output_type": "execute_result"
    }
   ],
   "source": [
    "# Calcaulting the mean squared error\n",
    "np.sqrt(mean_squared_error(weekend_groupby_test['operationalDemandOpHoursSum'], weekend_groupby_test['prediction']))"
   ]
  },
  {
   "cell_type": "code",
   "execution_count": 111,
   "metadata": {},
   "outputs": [
    {
     "data": {
      "text/plain": [
       "46.945032906839494"
      ]
     },
     "execution_count": 111,
     "metadata": {},
     "output_type": "execute_result"
    }
   ],
   "source": [
    "# Calcaulting the mean absolute error \n",
    "from sklearn.metrics import mean_absolute_error\n",
    "mean_absolute_error(weekend_groupby_test['operationalDemandOpHoursSum'], weekend_groupby_test['prediction'])"
   ]
  },
  {
   "cell_type": "code",
   "execution_count": null,
   "metadata": {},
   "outputs": [],
   "source": []
  }
 ],
 "metadata": {
  "kernelspec": {
   "display_name": "Python 3",
   "language": "python",
   "name": "python3"
  },
  "language_info": {
   "codemirror_mode": {
    "name": "ipython",
    "version": 3
   },
   "file_extension": ".py",
   "mimetype": "text/x-python",
   "name": "python",
   "nbconvert_exporter": "python",
   "pygments_lexer": "ipython3",
   "version": "3.12.0"
  }
 },
 "nbformat": 4,
 "nbformat_minor": 2
}
