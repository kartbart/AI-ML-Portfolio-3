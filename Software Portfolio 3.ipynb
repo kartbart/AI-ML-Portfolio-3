{
 "cells": [
  {
   "cell_type": "markdown",
   "metadata": {},
   "source": [
    "# Imports"
   ]
  },
  {
   "cell_type": "code",
   "execution_count": 2,
   "metadata": {},
   "outputs": [],
   "source": [
    "import pandas as pd\n",
    "import numpy as np \n",
    "import matplotlib.pyplot as plt \n",
    "import xgboost as xgb\n",
    "import warnings\n",
    "warnings.simplefilter(\"ignore\", UserWarning)\n",
    "import seaborn as sns\n",
    "from sklearn.metrics import mean_squared_error, mean_absolute_percentage_error"
   ]
  },
  {
   "cell_type": "markdown",
   "metadata": {},
   "source": [
    "# Read the dataframe"
   ]
  },
  {
   "cell_type": "code",
   "execution_count": 3,
   "metadata": {},
   "outputs": [],
   "source": [
    "file_path = r\"C:\\Users\\karth\\Downloads\\operational_demand.csv\"\n",
    "df = pd.read_csv(file_path)"
   ]
  },
  {
   "cell_type": "markdown",
   "metadata": {},
   "source": [
    "# Data Cleaning & Manipulation"
   ]
  },
  {
   "cell_type": "code",
   "execution_count": 4,
   "metadata": {},
   "outputs": [],
   "source": [
    "df = df.drop(['awbiMetadataKeyHash', 'awbiMetadataChangeHash','awbiMetadataCreateDateTime',\n",
    "                                'awbiMetadataLoadYear','awbiMetadataLoadMonth','awbiMetadataLoadDay',\n",
    "                                'awbiMetadataLoadHour','awbiMetadataLoadDateTime'], axis=1)\n",
    "df = df.reset_index(drop=True)"
   ]
  },
  {
   "cell_type": "code",
   "execution_count": 5,
   "metadata": {},
   "outputs": [
    {
     "name": "stdout",
     "output_type": "stream",
     "text": [
      "Unique values in operationalDemandWorkCentreGroup:  1\n",
      "Value counts in operationalDemandWorkCentreGroup:  operationalDemandWorkCentreGroup\n",
      "493    6035\n",
      "Name: count, dtype: int64\n"
     ]
    }
   ],
   "source": [
    "unique_value = df['operationalDemandWorkCentreGroup'].nunique()\n",
    "print(\"Unique values in operationalDemandWorkCentreGroup: \", unique_value)\n",
    "\n",
    "value_counts = df['operationalDemandWorkCentreGroup'].value_counts()\n",
    "print(\"Value counts in operationalDemandWorkCentreGroup: \", value_counts)"
   ]
  },
  {
   "cell_type": "code",
   "execution_count": 6,
   "metadata": {},
   "outputs": [
    {
     "data": {
      "text/plain": [
       "operationalDemandDate                  object\n",
       "operationalDemandOrderTypeGroup        object\n",
       "operationalDemandProcess               object\n",
       "operationalDemandWorkCentreGroup        int64\n",
       "operationalDemandOpHoursCount           int64\n",
       "operationalDemandOpHoursSum           float64\n",
       "operationalDemandDateSid                int64\n",
       "operationalDemandDateWeekBeginDate     object\n",
       "operationalDemandSumZeroedRe          float64\n",
       "operationalDemandOpTravelHours        float64\n",
       "dtype: object"
      ]
     },
     "execution_count": 6,
     "metadata": {},
     "output_type": "execute_result"
    }
   ],
   "source": [
    "df.dtypes"
   ]
  },
  {
   "cell_type": "code",
   "execution_count": 7,
   "metadata": {},
   "outputs": [],
   "source": [
    "# Changing the operationalDemandDate column to a date time format allowing us to grab features from the date when required\n",
    "df['operationalDemandDate'] = pd.to_datetime(df['operationalDemandDate'])\n",
    "\n",
    "#Changing the columns below to a string/flot data type respecriveely to allow for data manipulation\n",
    "df['operationalDemandWorkCentreGroup'] = df['operationalDemandWorkCentreGroup'].astype(str)\n",
    "df['operationalDemandDateSid'] = df['operationalDemandDateSid'].astype(str)\n",
    "df['operationalDemandOpTravelHours'] = df['operationalDemandOpTravelHours'].astype(float)"
   ]
  },
  {
   "cell_type": "code",
   "execution_count": 8,
   "metadata": {},
   "outputs": [],
   "source": [
    "#Sorting the dates in an ascending order\n",
    "df = df.sort_values(by=['operationalDemandDateWeekBeginDate','operationalDemandDate'], ascending= True)"
   ]
  },
  {
   "cell_type": "code",
   "execution_count": 9,
   "metadata": {},
   "outputs": [
    {
     "data": {
      "text/html": [
       "<div>\n",
       "<style scoped>\n",
       "    .dataframe tbody tr th:only-of-type {\n",
       "        vertical-align: middle;\n",
       "    }\n",
       "\n",
       "    .dataframe tbody tr th {\n",
       "        vertical-align: top;\n",
       "    }\n",
       "\n",
       "    .dataframe thead th {\n",
       "        text-align: right;\n",
       "    }\n",
       "</style>\n",
       "<table border=\"1\" class=\"dataframe\">\n",
       "  <thead>\n",
       "    <tr style=\"text-align: right;\">\n",
       "      <th></th>\n",
       "      <th>operationalDemandDate</th>\n",
       "      <th>operationalDemandOrderTypeGroup</th>\n",
       "      <th>operationalDemandProcess</th>\n",
       "      <th>operationalDemandWorkCentreGroup</th>\n",
       "      <th>operationalDemandOpHoursCount</th>\n",
       "      <th>operationalDemandOpHoursSum</th>\n",
       "      <th>operationalDemandDateSid</th>\n",
       "      <th>operationalDemandDateWeekBeginDate</th>\n",
       "      <th>operationalDemandSumZeroedRe</th>\n",
       "      <th>operationalDemandOpTravelHours</th>\n",
       "      <th>OperationalDemandYear</th>\n",
       "      <th>OperationalDemandMonth</th>\n",
       "      <th>OperationalDemandDayofweek</th>\n",
       "      <th>OperationalDemandQuarter</th>\n",
       "    </tr>\n",
       "  </thead>\n",
       "  <tbody>\n",
       "    <tr>\n",
       "      <th>1158</th>\n",
       "      <td>2019-04-01</td>\n",
       "      <td>PLANNED</td>\n",
       "      <td>COLLECTION</td>\n",
       "      <td>493</td>\n",
       "      <td>140</td>\n",
       "      <td>83.700000</td>\n",
       "      <td>20190401</td>\n",
       "      <td>2019-04-01T00:00:00.000+0000</td>\n",
       "      <td>47.266667</td>\n",
       "      <td>54.224462</td>\n",
       "      <td>2019</td>\n",
       "      <td>4</td>\n",
       "      <td>0</td>\n",
       "      <td>2</td>\n",
       "    </tr>\n",
       "    <tr>\n",
       "      <th>4735</th>\n",
       "      <td>2019-04-01</td>\n",
       "      <td>PLANNED</td>\n",
       "      <td>TREATMENT</td>\n",
       "      <td>493</td>\n",
       "      <td>30</td>\n",
       "      <td>80.800000</td>\n",
       "      <td>20190401</td>\n",
       "      <td>2019-04-01T00:00:00.000+0000</td>\n",
       "      <td>47.666667</td>\n",
       "      <td>13.086870</td>\n",
       "      <td>2019</td>\n",
       "      <td>4</td>\n",
       "      <td>0</td>\n",
       "      <td>2</td>\n",
       "    </tr>\n",
       "    <tr>\n",
       "      <th>5039</th>\n",
       "      <td>2019-04-01</td>\n",
       "      <td>REACTIVE</td>\n",
       "      <td>MAINTENANCE</td>\n",
       "      <td>493</td>\n",
       "      <td>39</td>\n",
       "      <td>87.066667</td>\n",
       "      <td>20190401</td>\n",
       "      <td>2019-04-01T00:00:00.000+0000</td>\n",
       "      <td>59.500000</td>\n",
       "      <td>21.249216</td>\n",
       "      <td>2019</td>\n",
       "      <td>4</td>\n",
       "      <td>0</td>\n",
       "      <td>2</td>\n",
       "    </tr>\n",
       "    <tr>\n",
       "      <th>2338</th>\n",
       "      <td>2019-04-02</td>\n",
       "      <td>PLANNED</td>\n",
       "      <td>COLLECTION</td>\n",
       "      <td>493</td>\n",
       "      <td>1</td>\n",
       "      <td>0.500000</td>\n",
       "      <td>20190402</td>\n",
       "      <td>2019-04-01T00:00:00.000+0000</td>\n",
       "      <td>0.416667</td>\n",
       "      <td>0.238611</td>\n",
       "      <td>2019</td>\n",
       "      <td>4</td>\n",
       "      <td>1</td>\n",
       "      <td>2</td>\n",
       "    </tr>\n",
       "    <tr>\n",
       "      <th>3217</th>\n",
       "      <td>2019-04-02</td>\n",
       "      <td>REACTIVE</td>\n",
       "      <td>COLLECTION</td>\n",
       "      <td>493</td>\n",
       "      <td>20</td>\n",
       "      <td>38.233333</td>\n",
       "      <td>20190402</td>\n",
       "      <td>2019-04-01T00:00:00.000+0000</td>\n",
       "      <td>26.333333</td>\n",
       "      <td>8.394569</td>\n",
       "      <td>2019</td>\n",
       "      <td>4</td>\n",
       "      <td>1</td>\n",
       "      <td>2</td>\n",
       "    </tr>\n",
       "    <tr>\n",
       "      <th>...</th>\n",
       "      <td>...</td>\n",
       "      <td>...</td>\n",
       "      <td>...</td>\n",
       "      <td>...</td>\n",
       "      <td>...</td>\n",
       "      <td>...</td>\n",
       "      <td>...</td>\n",
       "      <td>...</td>\n",
       "      <td>...</td>\n",
       "      <td>...</td>\n",
       "      <td>...</td>\n",
       "      <td>...</td>\n",
       "      <td>...</td>\n",
       "      <td>...</td>\n",
       "    </tr>\n",
       "    <tr>\n",
       "      <th>3400</th>\n",
       "      <td>2024-01-29</td>\n",
       "      <td>PLANNED</td>\n",
       "      <td>COLLECTION</td>\n",
       "      <td>493</td>\n",
       "      <td>1</td>\n",
       "      <td>2.000000</td>\n",
       "      <td>20240129</td>\n",
       "      <td>2024-01-29T00:00:00.000+0000</td>\n",
       "      <td>0.000000</td>\n",
       "      <td>0.587613</td>\n",
       "      <td>2024</td>\n",
       "      <td>1</td>\n",
       "      <td>0</td>\n",
       "      <td>1</td>\n",
       "    </tr>\n",
       "    <tr>\n",
       "      <th>6028</th>\n",
       "      <td>2024-01-29</td>\n",
       "      <td>PLANNED</td>\n",
       "      <td>MAINTENANCE</td>\n",
       "      <td>493</td>\n",
       "      <td>129</td>\n",
       "      <td>118.083333</td>\n",
       "      <td>20240129</td>\n",
       "      <td>2024-01-29T00:00:00.000+0000</td>\n",
       "      <td>0.000000</td>\n",
       "      <td>67.171177</td>\n",
       "      <td>2024</td>\n",
       "      <td>1</td>\n",
       "      <td>0</td>\n",
       "      <td>1</td>\n",
       "    </tr>\n",
       "    <tr>\n",
       "      <th>254</th>\n",
       "      <td>2024-02-01</td>\n",
       "      <td>PLANNED</td>\n",
       "      <td>COLLECTION</td>\n",
       "      <td>493</td>\n",
       "      <td>120</td>\n",
       "      <td>86.883333</td>\n",
       "      <td>20240201</td>\n",
       "      <td>2024-01-29T00:00:00.000+0000</td>\n",
       "      <td>0.000000</td>\n",
       "      <td>70.513571</td>\n",
       "      <td>2024</td>\n",
       "      <td>2</td>\n",
       "      <td>3</td>\n",
       "      <td>1</td>\n",
       "    </tr>\n",
       "    <tr>\n",
       "      <th>5305</th>\n",
       "      <td>2024-02-01</td>\n",
       "      <td>PLANNED</td>\n",
       "      <td>MAINTENANCE</td>\n",
       "      <td>493</td>\n",
       "      <td>11</td>\n",
       "      <td>11.000000</td>\n",
       "      <td>20240201</td>\n",
       "      <td>2024-01-29T00:00:00.000+0000</td>\n",
       "      <td>0.000000</td>\n",
       "      <td>5.727775</td>\n",
       "      <td>2024</td>\n",
       "      <td>2</td>\n",
       "      <td>3</td>\n",
       "      <td>1</td>\n",
       "    </tr>\n",
       "    <tr>\n",
       "      <th>5252</th>\n",
       "      <td>2024-02-04</td>\n",
       "      <td>PLANNED</td>\n",
       "      <td>MAINTENANCE</td>\n",
       "      <td>493</td>\n",
       "      <td>2</td>\n",
       "      <td>1.000000</td>\n",
       "      <td>20240204</td>\n",
       "      <td>2024-01-29T00:00:00.000+0000</td>\n",
       "      <td>0.000000</td>\n",
       "      <td>1.041414</td>\n",
       "      <td>2024</td>\n",
       "      <td>2</td>\n",
       "      <td>6</td>\n",
       "      <td>1</td>\n",
       "    </tr>\n",
       "  </tbody>\n",
       "</table>\n",
       "<p>6035 rows × 14 columns</p>\n",
       "</div>"
      ],
      "text/plain": [
       "     operationalDemandDate operationalDemandOrderTypeGroup  \\\n",
       "1158            2019-04-01                         PLANNED   \n",
       "4735            2019-04-01                         PLANNED   \n",
       "5039            2019-04-01                        REACTIVE   \n",
       "2338            2019-04-02                         PLANNED   \n",
       "3217            2019-04-02                        REACTIVE   \n",
       "...                    ...                             ...   \n",
       "3400            2024-01-29                         PLANNED   \n",
       "6028            2024-01-29                         PLANNED   \n",
       "254             2024-02-01                         PLANNED   \n",
       "5305            2024-02-01                         PLANNED   \n",
       "5252            2024-02-04                         PLANNED   \n",
       "\n",
       "     operationalDemandProcess operationalDemandWorkCentreGroup  \\\n",
       "1158               COLLECTION                              493   \n",
       "4735                TREATMENT                              493   \n",
       "5039              MAINTENANCE                              493   \n",
       "2338               COLLECTION                              493   \n",
       "3217               COLLECTION                              493   \n",
       "...                       ...                              ...   \n",
       "3400               COLLECTION                              493   \n",
       "6028              MAINTENANCE                              493   \n",
       "254                COLLECTION                              493   \n",
       "5305              MAINTENANCE                              493   \n",
       "5252              MAINTENANCE                              493   \n",
       "\n",
       "      operationalDemandOpHoursCount  operationalDemandOpHoursSum  \\\n",
       "1158                            140                    83.700000   \n",
       "4735                             30                    80.800000   \n",
       "5039                             39                    87.066667   \n",
       "2338                              1                     0.500000   \n",
       "3217                             20                    38.233333   \n",
       "...                             ...                          ...   \n",
       "3400                              1                     2.000000   \n",
       "6028                            129                   118.083333   \n",
       "254                             120                    86.883333   \n",
       "5305                             11                    11.000000   \n",
       "5252                              2                     1.000000   \n",
       "\n",
       "     operationalDemandDateSid operationalDemandDateWeekBeginDate  \\\n",
       "1158                 20190401       2019-04-01T00:00:00.000+0000   \n",
       "4735                 20190401       2019-04-01T00:00:00.000+0000   \n",
       "5039                 20190401       2019-04-01T00:00:00.000+0000   \n",
       "2338                 20190402       2019-04-01T00:00:00.000+0000   \n",
       "3217                 20190402       2019-04-01T00:00:00.000+0000   \n",
       "...                       ...                                ...   \n",
       "3400                 20240129       2024-01-29T00:00:00.000+0000   \n",
       "6028                 20240129       2024-01-29T00:00:00.000+0000   \n",
       "254                  20240201       2024-01-29T00:00:00.000+0000   \n",
       "5305                 20240201       2024-01-29T00:00:00.000+0000   \n",
       "5252                 20240204       2024-01-29T00:00:00.000+0000   \n",
       "\n",
       "      operationalDemandSumZeroedRe  operationalDemandOpTravelHours  \\\n",
       "1158                     47.266667                       54.224462   \n",
       "4735                     47.666667                       13.086870   \n",
       "5039                     59.500000                       21.249216   \n",
       "2338                      0.416667                        0.238611   \n",
       "3217                     26.333333                        8.394569   \n",
       "...                            ...                             ...   \n",
       "3400                      0.000000                        0.587613   \n",
       "6028                      0.000000                       67.171177   \n",
       "254                       0.000000                       70.513571   \n",
       "5305                      0.000000                        5.727775   \n",
       "5252                      0.000000                        1.041414   \n",
       "\n",
       "      OperationalDemandYear  OperationalDemandMonth  \\\n",
       "1158                   2019                       4   \n",
       "4735                   2019                       4   \n",
       "5039                   2019                       4   \n",
       "2338                   2019                       4   \n",
       "3217                   2019                       4   \n",
       "...                     ...                     ...   \n",
       "3400                   2024                       1   \n",
       "6028                   2024                       1   \n",
       "254                    2024                       2   \n",
       "5305                   2024                       2   \n",
       "5252                   2024                       2   \n",
       "\n",
       "      OperationalDemandDayofweek  OperationalDemandQuarter  \n",
       "1158                           0                         2  \n",
       "4735                           0                         2  \n",
       "5039                           0                         2  \n",
       "2338                           1                         2  \n",
       "3217                           1                         2  \n",
       "...                          ...                       ...  \n",
       "3400                           0                         1  \n",
       "6028                           0                         1  \n",
       "254                            3                         1  \n",
       "5305                           3                         1  \n",
       "5252                           6                         1  \n",
       "\n",
       "[6035 rows x 14 columns]"
      ]
     },
     "execution_count": 9,
     "metadata": {},
     "output_type": "execute_result"
    }
   ],
   "source": [
    "# Making use of the dt.year/month etc repectively to create a new column in the dataset which stores only the year/month of the operationalDemandDate\n",
    "df['OperationalDemandYear'] = df['operationalDemandDate'].dt.year\n",
    "df['OperationalDemandMonth'] = df['operationalDemandDate'].dt.month\n",
    "df['OperationalDemandDayofweek'] = df['operationalDemandDate'].dt.day_of_week\n",
    "df['OperationalDemandQuarter'] = df['operationalDemandDate'].dt.quarter\n",
    "df"
   ]
  },
  {
   "cell_type": "markdown",
   "metadata": {},
   "source": [
    "- **For OperationalDemandDayofweek**\n",
    "- Monday = 0\n",
    "- Tuesday = 1\n",
    "- Wednesday = 2\n",
    "- Thursday = 3\n",
    "- Friday = 4\n",
    "- Saturday = 5\n",
    "- Sunday = 6"
   ]
  },
  {
   "cell_type": "code",
   "execution_count": 10,
   "metadata": {},
   "outputs": [
    {
     "name": "stdout",
     "output_type": "stream",
     "text": [
      "The minimum date from when the forecasting data starts is:  2019-04-01 00:00:00\n",
      "The maximum date from when the forecasting data ends is:  2024-02-04 00:00:00\n"
     ]
    }
   ],
   "source": [
    "#Looking at the minimum date from when the forecasting data starts\n",
    "print(\"The minimum date from when the forecasting data starts is: \", df['operationalDemandDate'].min())\n",
    "\n",
    "#Looking at the minimum date from when the forecasting data ends\n",
    "print(\"The maximum date from when the forecasting data ends is: \", df['operationalDemandDate'].max())"
   ]
  },
  {
   "cell_type": "markdown",
   "metadata": {},
   "source": [
    "# Handling the outliers"
   ]
  },
  {
   "cell_type": "code",
   "execution_count": 11,
   "metadata": {},
   "outputs": [],
   "source": [
    "#USing standard anomaly detection of q1/q3 +- 1.5 * IQR to identify outliers and improve the predictability of models\n",
    "\n",
    "#Upper and Lower Quartiles for the flow data to identify IQR\n",
    "q1_hours = df['operationalDemandOpHoursSum'].quantile(0.25)\n",
    "q3_hours = df['operationalDemandOpHoursSum'].quantile(0.75)\n",
    "\n",
    "#IQR and Upper and lower bounds to catch outliers \n",
    "iqr_hours = q3_hours - q1_hours\n",
    "lower_bound_hours = q1_hours - 1.5 * iqr_hours\n",
    "upper_bound_hours = q3_hours + 1.5 * iqr_hours\n",
    "\n",
    "\n",
    "#Filtered Data frame to apply boundaries to values for each site and for the respective feature and response variables\n",
    "df = df[\n",
    "    (df['operationalDemandOpHoursSum'] >= lower_bound_hours) & (df['operationalDemandOpHoursSum'] <= upper_bound_hours)]"
   ]
  },
  {
   "cell_type": "markdown",
   "metadata": {},
   "source": [
    "# Differntiating Weekday/Weekened"
   ]
  },
  {
   "cell_type": "code",
   "execution_count": 12,
   "metadata": {},
   "outputs": [
    {
     "data": {
      "text/plain": [
       "array([0, 1, 2, 3, 4])"
      ]
     },
     "execution_count": 12,
     "metadata": {},
     "output_type": "execute_result"
    }
   ],
   "source": [
    "# Filtering a weekday df to only contain days from mon - fri\n",
    "weekday_df = df[df['OperationalDemandDayofweek'].isin([0, 1, 2, 3, 4])]\n",
    "weekday_df['OperationalDemandDayofweek'].unique()"
   ]
  },
  {
   "cell_type": "markdown",
   "metadata": {},
   "source": [
    "# Weekened Manipulation "
   ]
  },
  {
   "cell_type": "code",
   "execution_count": 13,
   "metadata": {},
   "outputs": [
    {
     "data": {
      "text/html": [
       "<div>\n",
       "<style scoped>\n",
       "    .dataframe tbody tr th:only-of-type {\n",
       "        vertical-align: middle;\n",
       "    }\n",
       "\n",
       "    .dataframe tbody tr th {\n",
       "        vertical-align: top;\n",
       "    }\n",
       "\n",
       "    .dataframe thead th {\n",
       "        text-align: right;\n",
       "    }\n",
       "</style>\n",
       "<table border=\"1\" class=\"dataframe\">\n",
       "  <thead>\n",
       "    <tr style=\"text-align: right;\">\n",
       "      <th></th>\n",
       "      <th>operationalDemandDate</th>\n",
       "      <th>operationalDemandOrderTypeGroup</th>\n",
       "      <th>operationalDemandProcess</th>\n",
       "      <th>operationalDemandWorkCentreGroup</th>\n",
       "      <th>operationalDemandOpHoursCount</th>\n",
       "      <th>operationalDemandOpHoursSum</th>\n",
       "      <th>operationalDemandDateSid</th>\n",
       "      <th>operationalDemandDateWeekBeginDate</th>\n",
       "      <th>operationalDemandSumZeroedRe</th>\n",
       "      <th>operationalDemandOpTravelHours</th>\n",
       "      <th>OperationalDemandYear</th>\n",
       "      <th>OperationalDemandMonth</th>\n",
       "      <th>OperationalDemandDayofweek</th>\n",
       "      <th>OperationalDemandQuarter</th>\n",
       "    </tr>\n",
       "  </thead>\n",
       "  <tbody>\n",
       "    <tr>\n",
       "      <th>1812</th>\n",
       "      <td>2019-04-06</td>\n",
       "      <td>REACTIVE</td>\n",
       "      <td>?</td>\n",
       "      <td>493</td>\n",
       "      <td>1</td>\n",
       "      <td>0.416667</td>\n",
       "      <td>20190406</td>\n",
       "      <td>2019-04-01T00:00:00.000+0000</td>\n",
       "      <td>1.416667</td>\n",
       "      <td>0.596775</td>\n",
       "      <td>2019</td>\n",
       "      <td>4</td>\n",
       "      <td>5</td>\n",
       "      <td>2</td>\n",
       "    </tr>\n",
       "    <tr>\n",
       "      <th>4362</th>\n",
       "      <td>2019-04-06</td>\n",
       "      <td>REACTIVE</td>\n",
       "      <td>TREATMENT</td>\n",
       "      <td>493</td>\n",
       "      <td>9</td>\n",
       "      <td>10.333333</td>\n",
       "      <td>20190406</td>\n",
       "      <td>2019-04-01T00:00:00.000+0000</td>\n",
       "      <td>4.916667</td>\n",
       "      <td>2.705398</td>\n",
       "      <td>2019</td>\n",
       "      <td>4</td>\n",
       "      <td>5</td>\n",
       "      <td>2</td>\n",
       "    </tr>\n",
       "    <tr>\n",
       "      <th>1299</th>\n",
       "      <td>2019-04-07</td>\n",
       "      <td>REACTIVE</td>\n",
       "      <td>?</td>\n",
       "      <td>493</td>\n",
       "      <td>5</td>\n",
       "      <td>5.166667</td>\n",
       "      <td>20190407</td>\n",
       "      <td>2019-04-01T00:00:00.000+0000</td>\n",
       "      <td>6.666667</td>\n",
       "      <td>2.983873</td>\n",
       "      <td>2019</td>\n",
       "      <td>4</td>\n",
       "      <td>6</td>\n",
       "      <td>2</td>\n",
       "    </tr>\n",
       "    <tr>\n",
       "      <th>2297</th>\n",
       "      <td>2019-04-07</td>\n",
       "      <td>PLANNED</td>\n",
       "      <td>MAINTENANCE</td>\n",
       "      <td>493</td>\n",
       "      <td>2</td>\n",
       "      <td>5.533333</td>\n",
       "      <td>20190407</td>\n",
       "      <td>2019-04-01T00:00:00.000+0000</td>\n",
       "      <td>2.000000</td>\n",
       "      <td>2.146389</td>\n",
       "      <td>2019</td>\n",
       "      <td>4</td>\n",
       "      <td>6</td>\n",
       "      <td>2</td>\n",
       "    </tr>\n",
       "    <tr>\n",
       "      <th>3402</th>\n",
       "      <td>2019-04-07</td>\n",
       "      <td>REACTIVE</td>\n",
       "      <td>COLLECTION</td>\n",
       "      <td>493</td>\n",
       "      <td>15</td>\n",
       "      <td>32.516667</td>\n",
       "      <td>20190407</td>\n",
       "      <td>2019-04-01T00:00:00.000+0000</td>\n",
       "      <td>16.500000</td>\n",
       "      <td>7.100452</td>\n",
       "      <td>2019</td>\n",
       "      <td>4</td>\n",
       "      <td>6</td>\n",
       "      <td>2</td>\n",
       "    </tr>\n",
       "    <tr>\n",
       "      <th>...</th>\n",
       "      <td>...</td>\n",
       "      <td>...</td>\n",
       "      <td>...</td>\n",
       "      <td>...</td>\n",
       "      <td>...</td>\n",
       "      <td>...</td>\n",
       "      <td>...</td>\n",
       "      <td>...</td>\n",
       "      <td>...</td>\n",
       "      <td>...</td>\n",
       "      <td>...</td>\n",
       "      <td>...</td>\n",
       "      <td>...</td>\n",
       "      <td>...</td>\n",
       "    </tr>\n",
       "    <tr>\n",
       "      <th>5924</th>\n",
       "      <td>2023-12-24</td>\n",
       "      <td>PLANNED</td>\n",
       "      <td>TREATMENT</td>\n",
       "      <td>493</td>\n",
       "      <td>18</td>\n",
       "      <td>9.000000</td>\n",
       "      <td>20231224</td>\n",
       "      <td>2023-12-18T00:00:00.000+0000</td>\n",
       "      <td>0.000000</td>\n",
       "      <td>17.457164</td>\n",
       "      <td>2023</td>\n",
       "      <td>12</td>\n",
       "      <td>6</td>\n",
       "      <td>4</td>\n",
       "    </tr>\n",
       "    <tr>\n",
       "      <th>625</th>\n",
       "      <td>2024-01-06</td>\n",
       "      <td>PLANNED</td>\n",
       "      <td>COLLECTION</td>\n",
       "      <td>493</td>\n",
       "      <td>1</td>\n",
       "      <td>1.000000</td>\n",
       "      <td>20240106</td>\n",
       "      <td>2024-01-01T00:00:00.000+0000</td>\n",
       "      <td>0.000000</td>\n",
       "      <td>0.587613</td>\n",
       "      <td>2024</td>\n",
       "      <td>1</td>\n",
       "      <td>5</td>\n",
       "      <td>1</td>\n",
       "    </tr>\n",
       "    <tr>\n",
       "      <th>5765</th>\n",
       "      <td>2024-01-14</td>\n",
       "      <td>PLANNED</td>\n",
       "      <td>COLLECTION</td>\n",
       "      <td>493</td>\n",
       "      <td>2</td>\n",
       "      <td>1.000000</td>\n",
       "      <td>20240114</td>\n",
       "      <td>2024-01-08T00:00:00.000+0000</td>\n",
       "      <td>0.000000</td>\n",
       "      <td>1.175226</td>\n",
       "      <td>2024</td>\n",
       "      <td>1</td>\n",
       "      <td>6</td>\n",
       "      <td>1</td>\n",
       "    </tr>\n",
       "    <tr>\n",
       "      <th>4363</th>\n",
       "      <td>2024-01-28</td>\n",
       "      <td>PLANNED</td>\n",
       "      <td>COLLECTION</td>\n",
       "      <td>493</td>\n",
       "      <td>1</td>\n",
       "      <td>4.000000</td>\n",
       "      <td>20240128</td>\n",
       "      <td>2024-01-22T00:00:00.000+0000</td>\n",
       "      <td>0.000000</td>\n",
       "      <td>0.587613</td>\n",
       "      <td>2024</td>\n",
       "      <td>1</td>\n",
       "      <td>6</td>\n",
       "      <td>1</td>\n",
       "    </tr>\n",
       "    <tr>\n",
       "      <th>5252</th>\n",
       "      <td>2024-02-04</td>\n",
       "      <td>PLANNED</td>\n",
       "      <td>MAINTENANCE</td>\n",
       "      <td>493</td>\n",
       "      <td>2</td>\n",
       "      <td>1.000000</td>\n",
       "      <td>20240204</td>\n",
       "      <td>2024-01-29T00:00:00.000+0000</td>\n",
       "      <td>0.000000</td>\n",
       "      <td>1.041414</td>\n",
       "      <td>2024</td>\n",
       "      <td>2</td>\n",
       "      <td>6</td>\n",
       "      <td>1</td>\n",
       "    </tr>\n",
       "  </tbody>\n",
       "</table>\n",
       "<p>1484 rows × 14 columns</p>\n",
       "</div>"
      ],
      "text/plain": [
       "     operationalDemandDate operationalDemandOrderTypeGroup  \\\n",
       "1812            2019-04-06                        REACTIVE   \n",
       "4362            2019-04-06                        REACTIVE   \n",
       "1299            2019-04-07                        REACTIVE   \n",
       "2297            2019-04-07                         PLANNED   \n",
       "3402            2019-04-07                        REACTIVE   \n",
       "...                    ...                             ...   \n",
       "5924            2023-12-24                         PLANNED   \n",
       "625             2024-01-06                         PLANNED   \n",
       "5765            2024-01-14                         PLANNED   \n",
       "4363            2024-01-28                         PLANNED   \n",
       "5252            2024-02-04                         PLANNED   \n",
       "\n",
       "     operationalDemandProcess operationalDemandWorkCentreGroup  \\\n",
       "1812                        ?                              493   \n",
       "4362                TREATMENT                              493   \n",
       "1299                        ?                              493   \n",
       "2297              MAINTENANCE                              493   \n",
       "3402               COLLECTION                              493   \n",
       "...                       ...                              ...   \n",
       "5924                TREATMENT                              493   \n",
       "625                COLLECTION                              493   \n",
       "5765               COLLECTION                              493   \n",
       "4363               COLLECTION                              493   \n",
       "5252              MAINTENANCE                              493   \n",
       "\n",
       "      operationalDemandOpHoursCount  operationalDemandOpHoursSum  \\\n",
       "1812                              1                     0.416667   \n",
       "4362                              9                    10.333333   \n",
       "1299                              5                     5.166667   \n",
       "2297                              2                     5.533333   \n",
       "3402                             15                    32.516667   \n",
       "...                             ...                          ...   \n",
       "5924                             18                     9.000000   \n",
       "625                               1                     1.000000   \n",
       "5765                              2                     1.000000   \n",
       "4363                              1                     4.000000   \n",
       "5252                              2                     1.000000   \n",
       "\n",
       "     operationalDemandDateSid operationalDemandDateWeekBeginDate  \\\n",
       "1812                 20190406       2019-04-01T00:00:00.000+0000   \n",
       "4362                 20190406       2019-04-01T00:00:00.000+0000   \n",
       "1299                 20190407       2019-04-01T00:00:00.000+0000   \n",
       "2297                 20190407       2019-04-01T00:00:00.000+0000   \n",
       "3402                 20190407       2019-04-01T00:00:00.000+0000   \n",
       "...                       ...                                ...   \n",
       "5924                 20231224       2023-12-18T00:00:00.000+0000   \n",
       "625                  20240106       2024-01-01T00:00:00.000+0000   \n",
       "5765                 20240114       2024-01-08T00:00:00.000+0000   \n",
       "4363                 20240128       2024-01-22T00:00:00.000+0000   \n",
       "5252                 20240204       2024-01-29T00:00:00.000+0000   \n",
       "\n",
       "      operationalDemandSumZeroedRe  operationalDemandOpTravelHours  \\\n",
       "1812                      1.416667                        0.596775   \n",
       "4362                      4.916667                        2.705398   \n",
       "1299                      6.666667                        2.983873   \n",
       "2297                      2.000000                        2.146389   \n",
       "3402                     16.500000                        7.100452   \n",
       "...                            ...                             ...   \n",
       "5924                      0.000000                       17.457164   \n",
       "625                       0.000000                        0.587613   \n",
       "5765                      0.000000                        1.175226   \n",
       "4363                      0.000000                        0.587613   \n",
       "5252                      0.000000                        1.041414   \n",
       "\n",
       "      OperationalDemandYear  OperationalDemandMonth  \\\n",
       "1812                   2019                       4   \n",
       "4362                   2019                       4   \n",
       "1299                   2019                       4   \n",
       "2297                   2019                       4   \n",
       "3402                   2019                       4   \n",
       "...                     ...                     ...   \n",
       "5924                   2023                      12   \n",
       "625                    2024                       1   \n",
       "5765                   2024                       1   \n",
       "4363                   2024                       1   \n",
       "5252                   2024                       2   \n",
       "\n",
       "      OperationalDemandDayofweek  OperationalDemandQuarter  \n",
       "1812                           5                         2  \n",
       "4362                           5                         2  \n",
       "1299                           6                         2  \n",
       "2297                           6                         2  \n",
       "3402                           6                         2  \n",
       "...                          ...                       ...  \n",
       "5924                           6                         4  \n",
       "625                            5                         1  \n",
       "5765                           6                         1  \n",
       "4363                           6                         1  \n",
       "5252                           6                         1  \n",
       "\n",
       "[1484 rows x 14 columns]"
      ]
     },
     "execution_count": 13,
     "metadata": {},
     "output_type": "execute_result"
    }
   ],
   "source": [
    "# Weeknd data set to only include sat - sun\n",
    "weekend_df = df[df['OperationalDemandDayofweek'].isin([5, 6])]\n",
    "weekend_df"
   ]
  },
  {
   "cell_type": "code",
   "execution_count": 14,
   "metadata": {},
   "outputs": [
    {
     "data": {
      "text/html": [
       "<div>\n",
       "<style scoped>\n",
       "    .dataframe tbody tr th:only-of-type {\n",
       "        vertical-align: middle;\n",
       "    }\n",
       "\n",
       "    .dataframe tbody tr th {\n",
       "        vertical-align: top;\n",
       "    }\n",
       "\n",
       "    .dataframe thead th {\n",
       "        text-align: right;\n",
       "    }\n",
       "</style>\n",
       "<table border=\"1\" class=\"dataframe\">\n",
       "  <thead>\n",
       "    <tr style=\"text-align: right;\">\n",
       "      <th></th>\n",
       "      <th>operationalDemandDateWeekBeginDate</th>\n",
       "      <th>operationalDemandOpHoursSum</th>\n",
       "    </tr>\n",
       "  </thead>\n",
       "  <tbody>\n",
       "    <tr>\n",
       "      <th>0</th>\n",
       "      <td>2019-04-01T00:00:00.000+0000</td>\n",
       "      <td>90.816667</td>\n",
       "    </tr>\n",
       "    <tr>\n",
       "      <th>1</th>\n",
       "      <td>2019-04-08T00:00:00.000+0000</td>\n",
       "      <td>79.333333</td>\n",
       "    </tr>\n",
       "    <tr>\n",
       "      <th>2</th>\n",
       "      <td>2019-04-15T00:00:00.000+0000</td>\n",
       "      <td>113.766667</td>\n",
       "    </tr>\n",
       "    <tr>\n",
       "      <th>3</th>\n",
       "      <td>2019-04-22T00:00:00.000+0000</td>\n",
       "      <td>38.583333</td>\n",
       "    </tr>\n",
       "    <tr>\n",
       "      <th>4</th>\n",
       "      <td>2019-04-29T00:00:00.000+0000</td>\n",
       "      <td>57.300000</td>\n",
       "    </tr>\n",
       "    <tr>\n",
       "      <th>...</th>\n",
       "      <td>...</td>\n",
       "      <td>...</td>\n",
       "    </tr>\n",
       "    <tr>\n",
       "      <th>245</th>\n",
       "      <td>2023-12-18T00:00:00.000+0000</td>\n",
       "      <td>11.250000</td>\n",
       "    </tr>\n",
       "    <tr>\n",
       "      <th>246</th>\n",
       "      <td>2024-01-01T00:00:00.000+0000</td>\n",
       "      <td>1.000000</td>\n",
       "    </tr>\n",
       "    <tr>\n",
       "      <th>247</th>\n",
       "      <td>2024-01-08T00:00:00.000+0000</td>\n",
       "      <td>1.000000</td>\n",
       "    </tr>\n",
       "    <tr>\n",
       "      <th>248</th>\n",
       "      <td>2024-01-22T00:00:00.000+0000</td>\n",
       "      <td>4.000000</td>\n",
       "    </tr>\n",
       "    <tr>\n",
       "      <th>249</th>\n",
       "      <td>2024-01-29T00:00:00.000+0000</td>\n",
       "      <td>1.000000</td>\n",
       "    </tr>\n",
       "  </tbody>\n",
       "</table>\n",
       "<p>250 rows × 2 columns</p>\n",
       "</div>"
      ],
      "text/plain": [
       "    operationalDemandDateWeekBeginDate  operationalDemandOpHoursSum\n",
       "0         2019-04-01T00:00:00.000+0000                    90.816667\n",
       "1         2019-04-08T00:00:00.000+0000                    79.333333\n",
       "2         2019-04-15T00:00:00.000+0000                   113.766667\n",
       "3         2019-04-22T00:00:00.000+0000                    38.583333\n",
       "4         2019-04-29T00:00:00.000+0000                    57.300000\n",
       "..                                 ...                          ...\n",
       "245       2023-12-18T00:00:00.000+0000                    11.250000\n",
       "246       2024-01-01T00:00:00.000+0000                     1.000000\n",
       "247       2024-01-08T00:00:00.000+0000                     1.000000\n",
       "248       2024-01-22T00:00:00.000+0000                     4.000000\n",
       "249       2024-01-29T00:00:00.000+0000                     1.000000\n",
       "\n",
       "[250 rows x 2 columns]"
      ]
     },
     "execution_count": 14,
     "metadata": {},
     "output_type": "execute_result"
    }
   ],
   "source": [
    "# Weekend groupby in which we get a sum of hours for the weekend\n",
    "weekend_groupby = weekend_df.groupby('operationalDemandDateWeekBeginDate')['operationalDemandOpHoursSum'].sum().reset_index()\n",
    "weekend_groupby"
   ]
  },
  {
   "cell_type": "code",
   "execution_count": 16,
   "metadata": {},
   "outputs": [],
   "source": [
    "# Shift function to create date time features in which we can utlise previous weeks data as covariates to predict workload \n",
    "def shift_function(df,new_column_name,shift):\n",
    "  df[new_column_name] = df['operationalDemandOpHoursSum'].shift(shift)\n",
    "  \n",
    "# Shift function to create previous week's features for the weekend \n",
    "shift_1_weekend = shift_function(weekend_groupby, 'prev_week_1', 1)\n",
    "shift_2_weekend = shift_function(weekend_groupby, 'prev_week_2', 2)\n",
    "shift_3_weekend = shift_function(weekend_groupby, 'prev_week_3', 3)\n",
    "shift_4_weekend = shift_function(weekend_groupby, 'prev_week_4', 4)"
   ]
  },
  {
   "cell_type": "code",
   "execution_count": 17,
   "metadata": {},
   "outputs": [],
   "source": [
    "# dropping na's as a result of the shift function\n",
    "weekend_groupby = weekend_groupby.dropna(axis=0)"
   ]
  },
  {
   "cell_type": "code",
   "execution_count": 18,
   "metadata": {},
   "outputs": [
    {
     "name": "stderr",
     "output_type": "stream",
     "text": [
      "C:\\Users\\karth\\AppData\\Local\\Temp\\ipykernel_16284\\2529061735.py:3: SettingWithCopyWarning: \n",
      "A value is trying to be set on a copy of a slice from a DataFrame.\n",
      "Try using .loc[row_indexer,col_indexer] = value instead\n",
      "\n",
      "See the caveats in the documentation: https://pandas.pydata.org/pandas-docs/stable/user_guide/indexing.html#returning-a-view-versus-a-copy\n",
      "  weekend_groupby['operationalDemandDateWeekBeginDate'] = pd.to_datetime(weekend_groupby['operationalDemandDateWeekBeginDate'])\n",
      "C:\\Users\\karth\\AppData\\Local\\Temp\\ipykernel_16284\\2529061735.py:4: SettingWithCopyWarning: \n",
      "A value is trying to be set on a copy of a slice from a DataFrame.\n",
      "Try using .loc[row_indexer,col_indexer] = value instead\n",
      "\n",
      "See the caveats in the documentation: https://pandas.pydata.org/pandas-docs/stable/user_guide/indexing.html#returning-a-view-versus-a-copy\n",
      "  weekend_groupby['OperationalDemandYear'] = weekend_groupby['operationalDemandDateWeekBeginDate'].dt.year\n",
      "C:\\Users\\karth\\AppData\\Local\\Temp\\ipykernel_16284\\2529061735.py:5: SettingWithCopyWarning: \n",
      "A value is trying to be set on a copy of a slice from a DataFrame.\n",
      "Try using .loc[row_indexer,col_indexer] = value instead\n",
      "\n",
      "See the caveats in the documentation: https://pandas.pydata.org/pandas-docs/stable/user_guide/indexing.html#returning-a-view-versus-a-copy\n",
      "  weekend_groupby['OperationalDemandMonth'] = weekend_groupby['operationalDemandDateWeekBeginDate'].dt.month\n",
      "C:\\Users\\karth\\AppData\\Local\\Temp\\ipykernel_16284\\2529061735.py:6: SettingWithCopyWarning: \n",
      "A value is trying to be set on a copy of a slice from a DataFrame.\n",
      "Try using .loc[row_indexer,col_indexer] = value instead\n",
      "\n",
      "See the caveats in the documentation: https://pandas.pydata.org/pandas-docs/stable/user_guide/indexing.html#returning-a-view-versus-a-copy\n",
      "  weekend_groupby['OperationalDemandWeek'] = weekend_groupby['operationalDemandDateWeekBeginDate'].dt.isocalendar().week\n"
     ]
    }
   ],
   "source": [
    "# extracting date time featuresfor covariates within the prediction\n",
    "\n",
    "weekend_groupby['operationalDemandDateWeekBeginDate'] = pd.to_datetime(weekend_groupby['operationalDemandDateWeekBeginDate'])\n",
    "weekend_groupby['OperationalDemandYear'] = weekend_groupby['operationalDemandDateWeekBeginDate'].dt.year\n",
    "weekend_groupby['OperationalDemandMonth'] = weekend_groupby['operationalDemandDateWeekBeginDate'].dt.month\n",
    "weekend_groupby['OperationalDemandWeek'] = weekend_groupby['operationalDemandDateWeekBeginDate'].dt.isocalendar().week"
   ]
  },
  {
   "cell_type": "markdown",
   "metadata": {},
   "source": [
    "# Weekday Manipulation"
   ]
  },
  {
   "cell_type": "code",
   "execution_count": 19,
   "metadata": {},
   "outputs": [
    {
     "data": {
      "text/html": [
       "<div>\n",
       "<style scoped>\n",
       "    .dataframe tbody tr th:only-of-type {\n",
       "        vertical-align: middle;\n",
       "    }\n",
       "\n",
       "    .dataframe tbody tr th {\n",
       "        vertical-align: top;\n",
       "    }\n",
       "\n",
       "    .dataframe thead th {\n",
       "        text-align: right;\n",
       "    }\n",
       "</style>\n",
       "<table border=\"1\" class=\"dataframe\">\n",
       "  <thead>\n",
       "    <tr style=\"text-align: right;\">\n",
       "      <th></th>\n",
       "      <th>operationalDemandDateWeekBeginDate</th>\n",
       "      <th>operationalDemandOpHoursSum</th>\n",
       "    </tr>\n",
       "  </thead>\n",
       "  <tbody>\n",
       "    <tr>\n",
       "      <th>0</th>\n",
       "      <td>2019-04-01T00:00:00.000+0000</td>\n",
       "      <td>680.300000</td>\n",
       "    </tr>\n",
       "    <tr>\n",
       "      <th>1</th>\n",
       "      <td>2019-04-08T00:00:00.000+0000</td>\n",
       "      <td>501.683333</td>\n",
       "    </tr>\n",
       "    <tr>\n",
       "      <th>2</th>\n",
       "      <td>2019-04-15T00:00:00.000+0000</td>\n",
       "      <td>583.566667</td>\n",
       "    </tr>\n",
       "    <tr>\n",
       "      <th>3</th>\n",
       "      <td>2019-04-22T00:00:00.000+0000</td>\n",
       "      <td>346.100000</td>\n",
       "    </tr>\n",
       "    <tr>\n",
       "      <th>4</th>\n",
       "      <td>2019-04-29T00:00:00.000+0000</td>\n",
       "      <td>648.450000</td>\n",
       "    </tr>\n",
       "    <tr>\n",
       "      <th>...</th>\n",
       "      <td>...</td>\n",
       "      <td>...</td>\n",
       "    </tr>\n",
       "    <tr>\n",
       "      <th>247</th>\n",
       "      <td>2024-01-01T00:00:00.000+0000</td>\n",
       "      <td>2.000000</td>\n",
       "    </tr>\n",
       "    <tr>\n",
       "      <th>248</th>\n",
       "      <td>2024-01-08T00:00:00.000+0000</td>\n",
       "      <td>0.500000</td>\n",
       "    </tr>\n",
       "    <tr>\n",
       "      <th>249</th>\n",
       "      <td>2024-01-15T00:00:00.000+0000</td>\n",
       "      <td>87.250000</td>\n",
       "    </tr>\n",
       "    <tr>\n",
       "      <th>250</th>\n",
       "      <td>2024-01-22T00:00:00.000+0000</td>\n",
       "      <td>5.633333</td>\n",
       "    </tr>\n",
       "    <tr>\n",
       "      <th>251</th>\n",
       "      <td>2024-01-29T00:00:00.000+0000</td>\n",
       "      <td>99.883333</td>\n",
       "    </tr>\n",
       "  </tbody>\n",
       "</table>\n",
       "<p>251 rows × 2 columns</p>\n",
       "</div>"
      ],
      "text/plain": [
       "    operationalDemandDateWeekBeginDate  operationalDemandOpHoursSum\n",
       "0         2019-04-01T00:00:00.000+0000                   680.300000\n",
       "1         2019-04-08T00:00:00.000+0000                   501.683333\n",
       "2         2019-04-15T00:00:00.000+0000                   583.566667\n",
       "3         2019-04-22T00:00:00.000+0000                   346.100000\n",
       "4         2019-04-29T00:00:00.000+0000                   648.450000\n",
       "..                                 ...                          ...\n",
       "247       2024-01-01T00:00:00.000+0000                     2.000000\n",
       "248       2024-01-08T00:00:00.000+0000                     0.500000\n",
       "249       2024-01-15T00:00:00.000+0000                    87.250000\n",
       "250       2024-01-22T00:00:00.000+0000                     5.633333\n",
       "251       2024-01-29T00:00:00.000+0000                    99.883333\n",
       "\n",
       "[251 rows x 2 columns]"
      ]
     },
     "execution_count": 19,
     "metadata": {},
     "output_type": "execute_result"
    }
   ],
   "source": [
    "# grouping by the week and the operational demand sum to get a sum for the week\n",
    "week_groupby = weekday_df.groupby('operationalDemandDateWeekBeginDate')['operationalDemandOpHoursSum'].sum().reset_index()\n",
    "\n",
    "# Alligning the dates for both week and weekend to ensure both df's have the same date time frame\n",
    "week_groupby = week_groupby.drop(index=236, axis=1)\n",
    "week_groupby"
   ]
  },
  {
   "cell_type": "markdown",
   "metadata": {},
   "source": [
    "# Shift Function for Week"
   ]
  },
  {
   "cell_type": "code",
   "execution_count": 20,
   "metadata": {},
   "outputs": [],
   "source": [
    "\n",
    "\n",
    "# previous week's data ranging from week 1 - 4\n",
    "shift_1_week = shift_function(week_groupby, 'prev_week_1', 1)\n",
    "shift_2_week = shift_function(week_groupby, 'prev_week_2', 2)\n",
    "shift_3_week = shift_function(week_groupby, 'prev_week_3', 3)\n",
    "shift_4_week = shift_function(week_groupby, 'prev_week_4', 4)"
   ]
  },
  {
   "cell_type": "code",
   "execution_count": 21,
   "metadata": {},
   "outputs": [],
   "source": [
    "# The shift function creates na within the df in which need to be dropped\n",
    "week_groupby = week_groupby.dropna(axis=0)"
   ]
  },
  {
   "cell_type": "code",
   "execution_count": 22,
   "metadata": {},
   "outputs": [
    {
     "name": "stderr",
     "output_type": "stream",
     "text": [
      "C:\\Users\\karth\\AppData\\Local\\Temp\\ipykernel_16284\\1355344860.py:1: SettingWithCopyWarning: \n",
      "A value is trying to be set on a copy of a slice from a DataFrame.\n",
      "Try using .loc[row_indexer,col_indexer] = value instead\n",
      "\n",
      "See the caveats in the documentation: https://pandas.pydata.org/pandas-docs/stable/user_guide/indexing.html#returning-a-view-versus-a-copy\n",
      "  week_groupby['operationalDemandDateWeekBeginDate'] = pd.to_datetime(week_groupby['operationalDemandDateWeekBeginDate'])\n",
      "C:\\Users\\karth\\AppData\\Local\\Temp\\ipykernel_16284\\1355344860.py:2: SettingWithCopyWarning: \n",
      "A value is trying to be set on a copy of a slice from a DataFrame.\n",
      "Try using .loc[row_indexer,col_indexer] = value instead\n",
      "\n",
      "See the caveats in the documentation: https://pandas.pydata.org/pandas-docs/stable/user_guide/indexing.html#returning-a-view-versus-a-copy\n",
      "  week_groupby['OperationalDemandYear'] = week_groupby['operationalDemandDateWeekBeginDate'].dt.year\n",
      "C:\\Users\\karth\\AppData\\Local\\Temp\\ipykernel_16284\\1355344860.py:3: SettingWithCopyWarning: \n",
      "A value is trying to be set on a copy of a slice from a DataFrame.\n",
      "Try using .loc[row_indexer,col_indexer] = value instead\n",
      "\n",
      "See the caveats in the documentation: https://pandas.pydata.org/pandas-docs/stable/user_guide/indexing.html#returning-a-view-versus-a-copy\n",
      "  week_groupby['OperationalDemandMonth'] = week_groupby['operationalDemandDateWeekBeginDate'].dt.month\n",
      "C:\\Users\\karth\\AppData\\Local\\Temp\\ipykernel_16284\\1355344860.py:4: SettingWithCopyWarning: \n",
      "A value is trying to be set on a copy of a slice from a DataFrame.\n",
      "Try using .loc[row_indexer,col_indexer] = value instead\n",
      "\n",
      "See the caveats in the documentation: https://pandas.pydata.org/pandas-docs/stable/user_guide/indexing.html#returning-a-view-versus-a-copy\n",
      "  week_groupby['OperationalDemandWeek'] = week_groupby['operationalDemandDateWeekBeginDate'].dt.isocalendar().week\n"
     ]
    }
   ],
   "source": [
    "week_groupby['operationalDemandDateWeekBeginDate'] = pd.to_datetime(week_groupby['operationalDemandDateWeekBeginDate'])\n",
    "week_groupby['OperationalDemandYear'] = week_groupby['operationalDemandDateWeekBeginDate'].dt.year\n",
    "week_groupby['OperationalDemandMonth'] = week_groupby['operationalDemandDateWeekBeginDate'].dt.month\n",
    "week_groupby['OperationalDemandWeek'] = week_groupby['operationalDemandDateWeekBeginDate'].dt.isocalendar().week"
   ]
  },
  {
   "cell_type": "markdown",
   "metadata": {},
   "source": [
    "# EDA"
   ]
  },
  {
   "cell_type": "code",
   "execution_count": 23,
   "metadata": {},
   "outputs": [
    {
     "data": {
      "text/plain": [
       "[Text(0.5, 1.0, 'Operational demand time series plot')]"
      ]
     },
     "execution_count": 23,
     "metadata": {},
     "output_type": "execute_result"
    },
    {
     "data": {
      "image/png": "[encoded data removed]",
      "text/plain": [
       "<Figure size 1500x600 with 1 Axes>"
      ]
     },
     "metadata": {},
     "output_type": "display_data"
    }
   ],
   "source": [
    "#time series plot for operational hours from start to end\n",
    "\n",
    "#Week commencing on the x-axis\n",
    "x = df['operationalDemandDateWeekBeginDate']\n",
    "\n",
    "#total hours for the week\n",
    "y = df['operationalDemandOpHoursSum']\n",
    "\n",
    "#Seaborn timeseries plot\n",
    "\n",
    "#Seaborn timeseries plot\n",
    "sns.set(rc={\"figure.figsize\":(15, 6)})\n",
    "sns.lineplot(x='operationalDemandDateWeekBeginDate', y='operationalDemandOpHoursSum', data=df, linewidth=3, color='purple',\n",
    "             linestyle='solid').set(title='Operational demand time series plot')"
   ]
  },
  {
   "cell_type": "code",
   "execution_count": 24,
   "metadata": {},
   "outputs": [
    {
     "data": {
      "image/png": "[encoded data removed]",
      "text/plain": [
       "<Figure size 1500x500 with 1 Axes>"
      ]
     },
     "metadata": {},
     "output_type": "display_data"
    }
   ],
   "source": [
    "#Filtered data set of train and test split everything before 1st October 2021 trained & everything after tested\n",
    "train = df.loc[df['operationalDemandDateWeekBeginDate'] < '2021-10-01']\n",
    "test = df.loc[df['operationalDemandDateWeekBeginDate'] >= '2021-10-01']\n",
    "\n",
    "#Creation of a new filtered dataframe for train and test splits creates and index for the new df, if not accounted for the plot will include the index \n",
    "train.reset_index(drop=True, inplace=True)\n",
    "test.reset_index(drop=True, inplace=True)\n",
    "\n",
    "#Creation of plots and subplots to plot train and test sets on different axis \n",
    "fig, ax = plt.subplots(figsize=(15, 5))\n",
    "train.plot(x='operationalDemandDateWeekBeginDate', y='operationalDemandOpHoursSum', ax=ax, label='Training Set', title='Data Train/Test Split')\n",
    "test.plot(x='operationalDemandDateWeekBeginDate', y='operationalDemandOpHoursSum', ax=ax, label='Test Set')\n",
    "ax.axvline('2021-10-01', color='black', ls='--')\n",
    "ax.legend(['Training Set', 'Test Set'])\n",
    "plt.show()\n"
   ]
  },
  {
   "cell_type": "code",
   "execution_count": 25,
   "metadata": {},
   "outputs": [
    {
     "data": {
      "text/plain": [
       "operationalDemandDate                          2019-04-01 00:00:00\n",
       "operationalDemandOrderTypeGroup                                  ?\n",
       "operationalDemandProcess                                         ?\n",
       "operationalDemandWorkCentreGroup                               493\n",
       "operationalDemandOpHoursCount                                    1\n",
       "operationalDemandOpHoursSum                                    0.0\n",
       "operationalDemandDateSid                                  20190401\n",
       "operationalDemandDateWeekBeginDate    2019-04-01T00:00:00.000+0000\n",
       "operationalDemandSumZeroedRe                                   0.0\n",
       "operationalDemandOpTravelHours                            0.000278\n",
       "OperationalDemandYear                                         2019\n",
       "OperationalDemandMonth                                           1\n",
       "OperationalDemandDayofweek                                       0\n",
       "OperationalDemandQuarter                                         1\n",
       "dtype: object"
      ]
     },
     "execution_count": 25,
     "metadata": {},
     "output_type": "execute_result"
    }
   ],
   "source": [
    "#Looking at the minimum date from when the forecasting data starts\n",
    "train.min()"
   ]
  },
  {
   "cell_type": "markdown",
   "metadata": {},
   "source": [
    "# Time Series split for a month of data"
   ]
  },
  {
   "cell_type": "code",
   "execution_count": 40,
   "metadata": {},
   "outputs": [],
   "source": [
    "#Applying time series eda to assess behaviour within a week on data\n",
    "month1_df = df.loc[(df['operationalDemandDateWeekBeginDate'] >= '2023-04-01') & \n",
    "                              (df['operationalDemandDateWeekBeginDate'] < '2023-05-01') &\n",
    "                              (df['operationalDemandDate'] >=  '2023-04-01') & \n",
    "                              (df['operationalDemandDate'] <= '2023-05-01')]"
   ]
  },
  {
   "cell_type": "code",
   "execution_count": 41,
   "metadata": {},
   "outputs": [],
   "source": [
    "# Sorting the values in the df by the columns in ascending order \n",
    "month1_df = month1_df.sort_values(by=['operationalDemandDateWeekBeginDate', 'operationalDemandDate'], ascending=True)"
   ]
  },
  {
   "cell_type": "code",
   "execution_count": 42,
   "metadata": {},
   "outputs": [
    {
     "data": {
      "text/html": [
       "<div>\n",
       "<style scoped>\n",
       "    .dataframe tbody tr th:only-of-type {\n",
       "        vertical-align: middle;\n",
       "    }\n",
       "\n",
       "    .dataframe tbody tr th {\n",
       "        vertical-align: top;\n",
       "    }\n",
       "\n",
       "    .dataframe thead th {\n",
       "        text-align: right;\n",
       "    }\n",
       "</style>\n",
       "<table border=\"1\" class=\"dataframe\">\n",
       "  <thead>\n",
       "    <tr style=\"text-align: right;\">\n",
       "      <th></th>\n",
       "      <th>operationalDemandDate</th>\n",
       "      <th>operationalDemandOrderTypeGroup</th>\n",
       "      <th>operationalDemandProcess</th>\n",
       "      <th>operationalDemandWorkCentreGroup</th>\n",
       "      <th>operationalDemandOpHoursCount</th>\n",
       "      <th>operationalDemandOpHoursSum</th>\n",
       "      <th>operationalDemandDateSid</th>\n",
       "      <th>operationalDemandDateWeekBeginDate</th>\n",
       "      <th>operationalDemandSumZeroedRe</th>\n",
       "      <th>operationalDemandOpTravelHours</th>\n",
       "      <th>OperationalDemandYear</th>\n",
       "      <th>OperationalDemandMonth</th>\n",
       "      <th>OperationalDemandDayofweek</th>\n",
       "      <th>OperationalDemandQuarter</th>\n",
       "    </tr>\n",
       "  </thead>\n",
       "  <tbody>\n",
       "    <tr>\n",
       "      <th>411</th>\n",
       "      <td>2023-04-03</td>\n",
       "      <td>PLANNED</td>\n",
       "      <td>COLLECTION</td>\n",
       "      <td>493</td>\n",
       "      <td>4</td>\n",
       "      <td>0.200000</td>\n",
       "      <td>20230403</td>\n",
       "      <td>2023-04-03T00:00:00.000+0000</td>\n",
       "      <td>0.166667</td>\n",
       "      <td>2.350452</td>\n",
       "      <td>2023</td>\n",
       "      <td>4</td>\n",
       "      <td>0</td>\n",
       "      <td>2</td>\n",
       "    </tr>\n",
       "    <tr>\n",
       "      <th>507</th>\n",
       "      <td>2023-04-03</td>\n",
       "      <td>PLANNED</td>\n",
       "      <td>MAINTENANCE</td>\n",
       "      <td>493</td>\n",
       "      <td>44</td>\n",
       "      <td>88.530000</td>\n",
       "      <td>20230403</td>\n",
       "      <td>2023-04-03T00:00:00.000+0000</td>\n",
       "      <td>40.833333</td>\n",
       "      <td>20.340621</td>\n",
       "      <td>2023</td>\n",
       "      <td>4</td>\n",
       "      <td>0</td>\n",
       "      <td>2</td>\n",
       "    </tr>\n",
       "    <tr>\n",
       "      <th>1844</th>\n",
       "      <td>2023-04-03</td>\n",
       "      <td>REACTIVE</td>\n",
       "      <td>?</td>\n",
       "      <td>493</td>\n",
       "      <td>7</td>\n",
       "      <td>1.750000</td>\n",
       "      <td>20230403</td>\n",
       "      <td>2023-04-03T00:00:00.000+0000</td>\n",
       "      <td>1.083333</td>\n",
       "      <td>2.363769</td>\n",
       "      <td>2023</td>\n",
       "      <td>4</td>\n",
       "      <td>0</td>\n",
       "      <td>2</td>\n",
       "    </tr>\n",
       "    <tr>\n",
       "      <th>3483</th>\n",
       "      <td>2023-04-03</td>\n",
       "      <td>REACTIVE</td>\n",
       "      <td>TREATMENT</td>\n",
       "      <td>493</td>\n",
       "      <td>23</td>\n",
       "      <td>33.333333</td>\n",
       "      <td>20230403</td>\n",
       "      <td>2023-04-03T00:00:00.000+0000</td>\n",
       "      <td>13.000000</td>\n",
       "      <td>28.193479</td>\n",
       "      <td>2023</td>\n",
       "      <td>4</td>\n",
       "      <td>0</td>\n",
       "      <td>2</td>\n",
       "    </tr>\n",
       "    <tr>\n",
       "      <th>5938</th>\n",
       "      <td>2023-04-03</td>\n",
       "      <td>PLANNED</td>\n",
       "      <td>TREATMENT</td>\n",
       "      <td>493</td>\n",
       "      <td>32</td>\n",
       "      <td>52.716667</td>\n",
       "      <td>20230403</td>\n",
       "      <td>2023-04-03T00:00:00.000+0000</td>\n",
       "      <td>48.666667</td>\n",
       "      <td>18.802442</td>\n",
       "      <td>2023</td>\n",
       "      <td>4</td>\n",
       "      <td>0</td>\n",
       "      <td>2</td>\n",
       "    </tr>\n",
       "    <tr>\n",
       "      <th>...</th>\n",
       "      <td>...</td>\n",
       "      <td>...</td>\n",
       "      <td>...</td>\n",
       "      <td>...</td>\n",
       "      <td>...</td>\n",
       "      <td>...</td>\n",
       "      <td>...</td>\n",
       "      <td>...</td>\n",
       "      <td>...</td>\n",
       "      <td>...</td>\n",
       "      <td>...</td>\n",
       "      <td>...</td>\n",
       "      <td>...</td>\n",
       "      <td>...</td>\n",
       "    </tr>\n",
       "    <tr>\n",
       "      <th>2894</th>\n",
       "      <td>2023-04-28</td>\n",
       "      <td>REACTIVE</td>\n",
       "      <td>?</td>\n",
       "      <td>493</td>\n",
       "      <td>4</td>\n",
       "      <td>2.033333</td>\n",
       "      <td>20230428</td>\n",
       "      <td>2023-04-24T00:00:00.000+0000</td>\n",
       "      <td>4.333333</td>\n",
       "      <td>0.573444</td>\n",
       "      <td>2023</td>\n",
       "      <td>4</td>\n",
       "      <td>4</td>\n",
       "      <td>2</td>\n",
       "    </tr>\n",
       "    <tr>\n",
       "      <th>3403</th>\n",
       "      <td>2023-04-28</td>\n",
       "      <td>PLANNED</td>\n",
       "      <td>COLLECTION</td>\n",
       "      <td>493</td>\n",
       "      <td>4</td>\n",
       "      <td>1.866667</td>\n",
       "      <td>20230428</td>\n",
       "      <td>2023-04-24T00:00:00.000+0000</td>\n",
       "      <td>5.200000</td>\n",
       "      <td>1.178282</td>\n",
       "      <td>2023</td>\n",
       "      <td>4</td>\n",
       "      <td>4</td>\n",
       "      <td>2</td>\n",
       "    </tr>\n",
       "    <tr>\n",
       "      <th>335</th>\n",
       "      <td>2023-04-29</td>\n",
       "      <td>PLANNED</td>\n",
       "      <td>TREATMENT</td>\n",
       "      <td>493</td>\n",
       "      <td>16</td>\n",
       "      <td>22.846667</td>\n",
       "      <td>20230429</td>\n",
       "      <td>2023-04-24T00:00:00.000+0000</td>\n",
       "      <td>15.500000</td>\n",
       "      <td>11.655332</td>\n",
       "      <td>2023</td>\n",
       "      <td>4</td>\n",
       "      <td>5</td>\n",
       "      <td>2</td>\n",
       "    </tr>\n",
       "    <tr>\n",
       "      <th>5324</th>\n",
       "      <td>2023-04-29</td>\n",
       "      <td>REACTIVE</td>\n",
       "      <td>TREATMENT</td>\n",
       "      <td>493</td>\n",
       "      <td>7</td>\n",
       "      <td>15.450000</td>\n",
       "      <td>20230429</td>\n",
       "      <td>2023-04-24T00:00:00.000+0000</td>\n",
       "      <td>4.000000</td>\n",
       "      <td>3.897425</td>\n",
       "      <td>2023</td>\n",
       "      <td>4</td>\n",
       "      <td>5</td>\n",
       "      <td>2</td>\n",
       "    </tr>\n",
       "    <tr>\n",
       "      <th>340</th>\n",
       "      <td>2023-04-30</td>\n",
       "      <td>PLANNED</td>\n",
       "      <td>TREATMENT</td>\n",
       "      <td>493</td>\n",
       "      <td>3</td>\n",
       "      <td>1.166667</td>\n",
       "      <td>20230430</td>\n",
       "      <td>2023-04-24T00:00:00.000+0000</td>\n",
       "      <td>1.750000</td>\n",
       "      <td>1.940518</td>\n",
       "      <td>2023</td>\n",
       "      <td>4</td>\n",
       "      <td>6</td>\n",
       "      <td>2</td>\n",
       "    </tr>\n",
       "  </tbody>\n",
       "</table>\n",
       "<p>99 rows × 14 columns</p>\n",
       "</div>"
      ],
      "text/plain": [
       "     operationalDemandDate operationalDemandOrderTypeGroup  \\\n",
       "411             2023-04-03                         PLANNED   \n",
       "507             2023-04-03                         PLANNED   \n",
       "1844            2023-04-03                        REACTIVE   \n",
       "3483            2023-04-03                        REACTIVE   \n",
       "5938            2023-04-03                         PLANNED   \n",
       "...                    ...                             ...   \n",
       "2894            2023-04-28                        REACTIVE   \n",
       "3403            2023-04-28                         PLANNED   \n",
       "335             2023-04-29                         PLANNED   \n",
       "5324            2023-04-29                        REACTIVE   \n",
       "340             2023-04-30                         PLANNED   \n",
       "\n",
       "     operationalDemandProcess operationalDemandWorkCentreGroup  \\\n",
       "411                COLLECTION                              493   \n",
       "507               MAINTENANCE                              493   \n",
       "1844                        ?                              493   \n",
       "3483                TREATMENT                              493   \n",
       "5938                TREATMENT                              493   \n",
       "...                       ...                              ...   \n",
       "2894                        ?                              493   \n",
       "3403               COLLECTION                              493   \n",
       "335                 TREATMENT                              493   \n",
       "5324                TREATMENT                              493   \n",
       "340                 TREATMENT                              493   \n",
       "\n",
       "      operationalDemandOpHoursCount  operationalDemandOpHoursSum  \\\n",
       "411                               4                     0.200000   \n",
       "507                              44                    88.530000   \n",
       "1844                              7                     1.750000   \n",
       "3483                             23                    33.333333   \n",
       "5938                             32                    52.716667   \n",
       "...                             ...                          ...   \n",
       "2894                              4                     2.033333   \n",
       "3403                              4                     1.866667   \n",
       "335                              16                    22.846667   \n",
       "5324                              7                    15.450000   \n",
       "340                               3                     1.166667   \n",
       "\n",
       "     operationalDemandDateSid operationalDemandDateWeekBeginDate  \\\n",
       "411                  20230403       2023-04-03T00:00:00.000+0000   \n",
       "507                  20230403       2023-04-03T00:00:00.000+0000   \n",
       "1844                 20230403       2023-04-03T00:00:00.000+0000   \n",
       "3483                 20230403       2023-04-03T00:00:00.000+0000   \n",
       "5938                 20230403       2023-04-03T00:00:00.000+0000   \n",
       "...                       ...                                ...   \n",
       "2894                 20230428       2023-04-24T00:00:00.000+0000   \n",
       "3403                 20230428       2023-04-24T00:00:00.000+0000   \n",
       "335                  20230429       2023-04-24T00:00:00.000+0000   \n",
       "5324                 20230429       2023-04-24T00:00:00.000+0000   \n",
       "340                  20230430       2023-04-24T00:00:00.000+0000   \n",
       "\n",
       "      operationalDemandSumZeroedRe  operationalDemandOpTravelHours  \\\n",
       "411                       0.166667                        2.350452   \n",
       "507                      40.833333                       20.340621   \n",
       "1844                      1.083333                        2.363769   \n",
       "3483                     13.000000                       28.193479   \n",
       "5938                     48.666667                       18.802442   \n",
       "...                            ...                             ...   \n",
       "2894                      4.333333                        0.573444   \n",
       "3403                      5.200000                        1.178282   \n",
       "335                      15.500000                       11.655332   \n",
       "5324                      4.000000                        3.897425   \n",
       "340                       1.750000                        1.940518   \n",
       "\n",
       "      OperationalDemandYear  OperationalDemandMonth  \\\n",
       "411                    2023                       4   \n",
       "507                    2023                       4   \n",
       "1844                   2023                       4   \n",
       "3483                   2023                       4   \n",
       "5938                   2023                       4   \n",
       "...                     ...                     ...   \n",
       "2894                   2023                       4   \n",
       "3403                   2023                       4   \n",
       "335                    2023                       4   \n",
       "5324                   2023                       4   \n",
       "340                    2023                       4   \n",
       "\n",
       "      OperationalDemandDayofweek  OperationalDemandQuarter  \n",
       "411                            0                         2  \n",
       "507                            0                         2  \n",
       "1844                           0                         2  \n",
       "3483                           0                         2  \n",
       "5938                           0                         2  \n",
       "...                          ...                       ...  \n",
       "2894                           4                         2  \n",
       "3403                           4                         2  \n",
       "335                            5                         2  \n",
       "5324                           5                         2  \n",
       "340                            6                         2  \n",
       "\n",
       "[99 rows x 14 columns]"
      ]
     },
     "execution_count": 42,
     "metadata": {},
     "output_type": "execute_result"
    }
   ],
   "source": [
    "month1_df"
   ]
  },
  {
   "cell_type": "code",
   "execution_count": 43,
   "metadata": {},
   "outputs": [
    {
     "data": {
      "application/vnd.plotly.v1+json": {
       "config": {
        "plotlyServerURL": "https://plot.ly"
       },
       "data": [
        {
         "hovertemplate": "operationalDemandDate=%{x}<br>operationalDemandOpHoursSum=%{y}<extra></extra>",
         "legendgroup": "",
         "line": {
          "color": "#636efa",
          "dash": "solid"
         },
         "marker": {
          "symbol": "circle"
         },
         "mode": "lines",
         "name": "",
         "orientation": "v",
         "showlegend": false,
         "type": "scatter",
         "x": [
          "2023-04-03T00:00:00",
          "2023-04-03T00:00:00",
          "2023-04-03T00:00:00",
          "2023-04-03T00:00:00",
          "2023-04-03T00:00:00",
          "2023-04-03T00:00:00",
          "2023-04-04T00:00:00",
          "2023-04-04T00:00:00",
          "2023-04-04T00:00:00",
          "2023-04-04T00:00:00",
          "2023-04-05T00:00:00",
          "2023-04-05T00:00:00",
          "2023-04-05T00:00:00",
          "2023-04-05T00:00:00",
          "2023-04-05T00:00:00",
          "2023-04-05T00:00:00",
          "2023-04-06T00:00:00",
          "2023-04-06T00:00:00",
          "2023-04-07T00:00:00",
          "2023-04-07T00:00:00",
          "2023-04-07T00:00:00",
          "2023-04-07T00:00:00",
          "2023-04-07T00:00:00",
          "2023-04-08T00:00:00",
          "2023-04-09T00:00:00",
          "2023-04-09T00:00:00",
          "2023-04-09T00:00:00",
          "2023-04-09T00:00:00",
          "2023-04-10T00:00:00",
          "2023-04-10T00:00:00",
          "2023-04-11T00:00:00",
          "2023-04-11T00:00:00",
          "2023-04-11T00:00:00",
          "2023-04-11T00:00:00",
          "2023-04-11T00:00:00",
          "2023-04-12T00:00:00",
          "2023-04-12T00:00:00",
          "2023-04-12T00:00:00",
          "2023-04-12T00:00:00",
          "2023-04-13T00:00:00",
          "2023-04-13T00:00:00",
          "2023-04-13T00:00:00",
          "2023-04-13T00:00:00",
          "2023-04-13T00:00:00",
          "2023-04-14T00:00:00",
          "2023-04-14T00:00:00",
          "2023-04-16T00:00:00",
          "2023-04-17T00:00:00",
          "2023-04-17T00:00:00",
          "2023-04-17T00:00:00",
          "2023-04-17T00:00:00",
          "2023-04-17T00:00:00",
          "2023-04-18T00:00:00",
          "2023-04-18T00:00:00",
          "2023-04-18T00:00:00",
          "2023-04-18T00:00:00",
          "2023-04-19T00:00:00",
          "2023-04-19T00:00:00",
          "2023-04-19T00:00:00",
          "2023-04-19T00:00:00",
          "2023-04-19T00:00:00",
          "2023-04-19T00:00:00",
          "2023-04-19T00:00:00",
          "2023-04-20T00:00:00",
          "2023-04-20T00:00:00",
          "2023-04-20T00:00:00",
          "2023-04-20T00:00:00",
          "2023-04-20T00:00:00",
          "2023-04-21T00:00:00",
          "2023-04-21T00:00:00",
          "2023-04-21T00:00:00",
          "2023-04-21T00:00:00",
          "2023-04-22T00:00:00",
          "2023-04-22T00:00:00",
          "2023-04-22T00:00:00",
          "2023-04-22T00:00:00",
          "2023-04-22T00:00:00",
          "2023-04-23T00:00:00",
          "2023-04-24T00:00:00",
          "2023-04-24T00:00:00",
          "2023-04-24T00:00:00",
          "2023-04-24T00:00:00",
          "2023-04-24T00:00:00",
          "2023-04-25T00:00:00",
          "2023-04-25T00:00:00",
          "2023-04-25T00:00:00",
          "2023-04-25T00:00:00",
          "2023-04-26T00:00:00",
          "2023-04-26T00:00:00",
          "2023-04-26T00:00:00",
          "2023-04-26T00:00:00",
          "2023-04-27T00:00:00",
          "2023-04-27T00:00:00",
          "2023-04-28T00:00:00",
          "2023-04-28T00:00:00",
          "2023-04-28T00:00:00",
          "2023-04-29T00:00:00",
          "2023-04-29T00:00:00",
          "2023-04-30T00:00:00"
         ],
         "xaxis": "x",
         "y": [
          0.2,
          88.53,
          1.75,
          33.333333333333336,
          52.71666666666666,
          61.93333333333333,
          50.781666666666666,
          5.38,
          58.28833333333333,
          46.43166666666667,
          5.785,
          0,
          66.62333333333333,
          0.1,
          58.05333333333332,
          46.59666666666665,
          88.50833333333334,
          4.208333333333333,
          1.05,
          0,
          0.5,
          53.60833333333334,
          13.27,
          21.62,
          19.41333333333333,
          15.883333333333333,
          5.183333333333334,
          18.883333333333336,
          3.1833333333333336,
          28.8,
          8.733333333333334,
          0,
          50.09166666666667,
          30.73333333333333,
          54.806666666666665,
          2.5666666666666664,
          72.695,
          0.1183333333333333,
          12.316666666666668,
          53.888333333333335,
          1.4833333333333334,
          0,
          25.4,
          69.05333333333333,
          0,
          10.516666666666666,
          32.225,
          76.85499999999999,
          6.766666666666667,
          4.416666666666667,
          48.585,
          64.01833333333333,
          11.983333333333334,
          0,
          61.85,
          12.96833333333333,
          16.483333333333334,
          35.684999999999995,
          58.34333333333331,
          4.15,
          3.7666666666666666,
          0,
          50.81,
          55.89833333333334,
          0,
          3.033333333333333,
          98.01833333333332,
          19.7,
          49.655,
          8.45,
          2.033333333333333,
          5.95,
          42.120000000000005,
          0,
          23.62,
          9.883333333333333,
          9.283333333333331,
          0.6333333333333333,
          92.035,
          1.05,
          5.866666666666666,
          53.44,
          24.6,
          55.33833333333333,
          1.1166666666666667,
          2.5,
          69.77333333333334,
          0,
          84.70833333333334,
          0,
          0,
          57.27,
          48.95333333333333,
          0,
          2.033333333333333,
          1.8666666666666667,
          22.846666666666664,
          15.45,
          1.1666666666666663
         ],
         "yaxis": "y"
        }
       ],
       "layout": {
        "legend": {
         "tracegroupgap": 0
        },
        "margin": {
         "t": 60
        },
        "template": {
         "data": {
          "bar": [
           {
            "error_x": {
             "color": "#2a3f5f"
            },
            "error_y": {
             "color": "#2a3f5f"
            },
            "marker": {
             "line": {
              "color": "#E5ECF6",
              "width": 0.5
             },
             "pattern": {
              "fillmode": "overlay",
              "size": 10,
              "solidity": 0.2
             }
            },
            "type": "bar"
           }
          ],
          "barpolar": [
           {
            "marker": {
             "line": {
              "color": "#E5ECF6",
              "width": 0.5
             },
             "pattern": {
              "fillmode": "overlay",
              "size": 10,
              "solidity": 0.2
             }
            },
            "type": "barpolar"
           }
          ],
          "carpet": [
           {
            "aaxis": {
             "endlinecolor": "#2a3f5f",
             "gridcolor": "white",
             "linecolor": "white",
             "minorgridcolor": "white",
             "startlinecolor": "#2a3f5f"
            },
            "baxis": {
             "endlinecolor": "#2a3f5f",
             "gridcolor": "white",
             "linecolor": "white",
             "minorgridcolor": "white",
             "startlinecolor": "#2a3f5f"
            },
            "type": "carpet"
           }
          ],
          "choropleth": [
           {
            "colorbar": {
             "outlinewidth": 0,
             "ticks": ""
            },
            "type": "choropleth"
           }
          ],
          "contour": [
           {
            "colorbar": {
             "outlinewidth": 0,
             "ticks": ""
            },
            "colorscale": [
             [
              0,
              "#0d0887"
             ],
             [
              0.1111111111111111,
              "#46039f"
             ],
             [
              0.2222222222222222,
              "#7201a8"
             ],
             [
              0.3333333333333333,
              "#9c179e"
             ],
             [
              0.4444444444444444,
              "#bd3786"
             ],
             [
              0.5555555555555556,
              "#d8576b"
             ],
             [
              0.6666666666666666,
              "#ed7953"
             ],
             [
              0.7777777777777778,
              "#fb9f3a"
             ],
             [
              0.8888888888888888,
              "#fdca26"
             ],
             [
              1,
              "#f0f921"
             ]
            ],
            "type": "contour"
           }
          ],
          "contourcarpet": [
           {
            "colorbar": {
             "outlinewidth": 0,
             "ticks": ""
            },
            "type": "contourcarpet"
           }
          ],
          "heatmap": [
           {
            "colorbar": {
             "outlinewidth": 0,
             "ticks": ""
            },
            "colorscale": [
             [
              0,
              "#0d0887"
             ],
             [
              0.1111111111111111,
              "#46039f"
             ],
             [
              0.2222222222222222,
              "#7201a8"
             ],
             [
              0.3333333333333333,
              "#9c179e"
             ],
             [
              0.4444444444444444,
              "#bd3786"
             ],
             [
              0.5555555555555556,
              "#d8576b"
             ],
             [
              0.6666666666666666,
              "#ed7953"
             ],
             [
              0.7777777777777778,
              "#fb9f3a"
             ],
             [
              0.8888888888888888,
              "#fdca26"
             ],
             [
              1,
              "#f0f921"
             ]
            ],
            "type": "heatmap"
           }
          ],
          "heatmapgl": [
           {
            "colorbar": {
             "outlinewidth": 0,
             "ticks": ""
            },
            "colorscale": [
             [
              0,
              "#0d0887"
             ],
             [
              0.1111111111111111,
              "#46039f"
             ],
             [
              0.2222222222222222,
              "#7201a8"
             ],
             [
              0.3333333333333333,
              "#9c179e"
             ],
             [
              0.4444444444444444,
              "#bd3786"
             ],
             [
              0.5555555555555556,
              "#d8576b"
             ],
             [
              0.6666666666666666,
              "#ed7953"
             ],
             [
              0.7777777777777778,
              "#fb9f3a"
             ],
             [
              0.8888888888888888,
              "#fdca26"
             ],
             [
              1,
              "#f0f921"
             ]
            ],
            "type": "heatmapgl"
           }
          ],
          "histogram": [
           {
            "marker": {
             "pattern": {
              "fillmode": "overlay",
              "size": 10,
              "solidity": 0.2
             }
            },
            "type": "histogram"
           }
          ],
          "histogram2d": [
           {
            "colorbar": {
             "outlinewidth": 0,
             "ticks": ""
            },
            "colorscale": [
             [
              0,
              "#0d0887"
             ],
             [
              0.1111111111111111,
              "#46039f"
             ],
             [
              0.2222222222222222,
              "#7201a8"
             ],
             [
              0.3333333333333333,
              "#9c179e"
             ],
             [
              0.4444444444444444,
              "#bd3786"
             ],
             [
              0.5555555555555556,
              "#d8576b"
             ],
             [
              0.6666666666666666,
              "#ed7953"
             ],
             [
              0.7777777777777778,
              "#fb9f3a"
             ],
             [
              0.8888888888888888,
              "#fdca26"
             ],
             [
              1,
              "#f0f921"
             ]
            ],
            "type": "histogram2d"
           }
          ],
          "histogram2dcontour": [
           {
            "colorbar": {
             "outlinewidth": 0,
             "ticks": ""
            },
            "colorscale": [
             [
              0,
              "#0d0887"
             ],
             [
              0.1111111111111111,
              "#46039f"
             ],
             [
              0.2222222222222222,
              "#7201a8"
             ],
             [
              0.3333333333333333,
              "#9c179e"
             ],
             [
              0.4444444444444444,
              "#bd3786"
             ],
             [
              0.5555555555555556,
              "#d8576b"
             ],
             [
              0.6666666666666666,
              "#ed7953"
             ],
             [
              0.7777777777777778,
              "#fb9f3a"
             ],
             [
              0.8888888888888888,
              "#fdca26"
             ],
             [
              1,
              "#f0f921"
             ]
            ],
            "type": "histogram2dcontour"
           }
          ],
          "mesh3d": [
           {
            "colorbar": {
             "outlinewidth": 0,
             "ticks": ""
            },
            "type": "mesh3d"
           }
          ],
          "parcoords": [
           {
            "line": {
             "colorbar": {
              "outlinewidth": 0,
              "ticks": ""
             }
            },
            "type": "parcoords"
           }
          ],
          "pie": [
           {
            "automargin": true,
            "type": "pie"
           }
          ],
          "scatter": [
           {
            "fillpattern": {
             "fillmode": "overlay",
             "size": 10,
             "solidity": 0.2
            },
            "type": "scatter"
           }
          ],
          "scatter3d": [
           {
            "line": {
             "colorbar": {
              "outlinewidth": 0,
              "ticks": ""
             }
            },
            "marker": {
             "colorbar": {
              "outlinewidth": 0,
              "ticks": ""
             }
            },
            "type": "scatter3d"
           }
          ],
          "scattercarpet": [
           {
            "marker": {
             "colorbar": {
              "outlinewidth": 0,
              "ticks": ""
             }
            },
            "type": "scattercarpet"
           }
          ],
          "scattergeo": [
           {
            "marker": {
             "colorbar": {
              "outlinewidth": 0,
              "ticks": ""
             }
            },
            "type": "scattergeo"
           }
          ],
          "scattergl": [
           {
            "marker": {
             "colorbar": {
              "outlinewidth": 0,
              "ticks": ""
             }
            },
            "type": "scattergl"
           }
          ],
          "scattermapbox": [
           {
            "marker": {
             "colorbar": {
              "outlinewidth": 0,
              "ticks": ""
             }
            },
            "type": "scattermapbox"
           }
          ],
          "scatterpolar": [
           {
            "marker": {
             "colorbar": {
              "outlinewidth": 0,
              "ticks": ""
             }
            },
            "type": "scatterpolar"
           }
          ],
          "scatterpolargl": [
           {
            "marker": {
             "colorbar": {
              "outlinewidth": 0,
              "ticks": ""
             }
            },
            "type": "scatterpolargl"
           }
          ],
          "scatterternary": [
           {
            "marker": {
             "colorbar": {
              "outlinewidth": 0,
              "ticks": ""
             }
            },
            "type": "scatterternary"
           }
          ],
          "surface": [
           {
            "colorbar": {
             "outlinewidth": 0,
             "ticks": ""
            },
            "colorscale": [
             [
              0,
              "#0d0887"
             ],
             [
              0.1111111111111111,
              "#46039f"
             ],
             [
              0.2222222222222222,
              "#7201a8"
             ],
             [
              0.3333333333333333,
              "#9c179e"
             ],
             [
              0.4444444444444444,
              "#bd3786"
             ],
             [
              0.5555555555555556,
              "#d8576b"
             ],
             [
              0.6666666666666666,
              "#ed7953"
             ],
             [
              0.7777777777777778,
              "#fb9f3a"
             ],
             [
              0.8888888888888888,
              "#fdca26"
             ],
             [
              1,
              "#f0f921"
             ]
            ],
            "type": "surface"
           }
          ],
          "table": [
           {
            "cells": {
             "fill": {
              "color": "#EBF0F8"
             },
             "line": {
              "color": "white"
             }
            },
            "header": {
             "fill": {
              "color": "#C8D4E3"
             },
             "line": {
              "color": "white"
             }
            },
            "type": "table"
           }
          ]
         },
         "layout": {
          "annotationdefaults": {
           "arrowcolor": "#2a3f5f",
           "arrowhead": 0,
           "arrowwidth": 1
          },
          "autotypenumbers": "strict",
          "coloraxis": {
           "colorbar": {
            "outlinewidth": 0,
            "ticks": ""
           }
          },
          "colorscale": {
           "diverging": [
            [
             0,
             "#8e0152"
            ],
            [
             0.1,
             "#c51b7d"
            ],
            [
             0.2,
             "#de77ae"
            ],
            [
             0.3,
             "#f1b6da"
            ],
            [
             0.4,
             "#fde0ef"
            ],
            [
             0.5,
             "#f7f7f7"
            ],
            [
             0.6,
             "#e6f5d0"
            ],
            [
             0.7,
             "#b8e186"
            ],
            [
             0.8,
             "#7fbc41"
            ],
            [
             0.9,
             "#4d9221"
            ],
            [
             1,
             "#276419"
            ]
           ],
           "sequential": [
            [
             0,
             "#0d0887"
            ],
            [
             0.1111111111111111,
             "#46039f"
            ],
            [
             0.2222222222222222,
             "#7201a8"
            ],
            [
             0.3333333333333333,
             "#9c179e"
            ],
            [
             0.4444444444444444,
             "#bd3786"
            ],
            [
             0.5555555555555556,
             "#d8576b"
            ],
            [
             0.6666666666666666,
             "#ed7953"
            ],
            [
             0.7777777777777778,
             "#fb9f3a"
            ],
            [
             0.8888888888888888,
             "#fdca26"
            ],
            [
             1,
             "#f0f921"
            ]
           ],
           "sequentialminus": [
            [
             0,
             "#0d0887"
            ],
            [
             0.1111111111111111,
             "#46039f"
            ],
            [
             0.2222222222222222,
             "#7201a8"
            ],
            [
             0.3333333333333333,
             "#9c179e"
            ],
            [
             0.4444444444444444,
             "#bd3786"
            ],
            [
             0.5555555555555556,
             "#d8576b"
            ],
            [
             0.6666666666666666,
             "#ed7953"
            ],
            [
             0.7777777777777778,
             "#fb9f3a"
            ],
            [
             0.8888888888888888,
             "#fdca26"
            ],
            [
             1,
             "#f0f921"
            ]
           ]
          },
          "colorway": [
           "#636efa",
           "#EF553B",
           "#00cc96",
           "#ab63fa",
           "#FFA15A",
           "#19d3f3",
           "#FF6692",
           "#B6E880",
           "#FF97FF",
           "#FECB52"
          ],
          "font": {
           "color": "#2a3f5f"
          },
          "geo": {
           "bgcolor": "white",
           "lakecolor": "white",
           "landcolor": "#E5ECF6",
           "showlakes": true,
           "showland": true,
           "subunitcolor": "white"
          },
          "hoverlabel": {
           "align": "left"
          },
          "hovermode": "closest",
          "mapbox": {
           "style": "light"
          },
          "paper_bgcolor": "white",
          "plot_bgcolor": "#E5ECF6",
          "polar": {
           "angularaxis": {
            "gridcolor": "white",
            "linecolor": "white",
            "ticks": ""
           },
           "bgcolor": "#E5ECF6",
           "radialaxis": {
            "gridcolor": "white",
            "linecolor": "white",
            "ticks": ""
           }
          },
          "scene": {
           "xaxis": {
            "backgroundcolor": "#E5ECF6",
            "gridcolor": "white",
            "gridwidth": 2,
            "linecolor": "white",
            "showbackground": true,
            "ticks": "",
            "zerolinecolor": "white"
           },
           "yaxis": {
            "backgroundcolor": "#E5ECF6",
            "gridcolor": "white",
            "gridwidth": 2,
            "linecolor": "white",
            "showbackground": true,
            "ticks": "",
            "zerolinecolor": "white"
           },
           "zaxis": {
            "backgroundcolor": "#E5ECF6",
            "gridcolor": "white",
            "gridwidth": 2,
            "linecolor": "white",
            "showbackground": true,
            "ticks": "",
            "zerolinecolor": "white"
           }
          },
          "shapedefaults": {
           "line": {
            "color": "#2a3f5f"
           }
          },
          "ternary": {
           "aaxis": {
            "gridcolor": "white",
            "linecolor": "white",
            "ticks": ""
           },
           "baxis": {
            "gridcolor": "white",
            "linecolor": "white",
            "ticks": ""
           },
           "bgcolor": "#E5ECF6",
           "caxis": {
            "gridcolor": "white",
            "linecolor": "white",
            "ticks": ""
           }
          },
          "title": {
           "x": 0.05
          },
          "xaxis": {
           "automargin": true,
           "gridcolor": "white",
           "linecolor": "white",
           "ticks": "",
           "title": {
            "standoff": 15
           },
           "zerolinecolor": "white",
           "zerolinewidth": 2
          },
          "yaxis": {
           "automargin": true,
           "gridcolor": "white",
           "linecolor": "white",
           "ticks": "",
           "title": {
            "standoff": 15
           },
           "zerolinecolor": "white",
           "zerolinewidth": 2
          }
         }
        },
        "title": {
         "text": "Time Series Plot for the January 2023"
        },
        "xaxis": {
         "anchor": "y",
         "domain": [
          0,
          1
         ],
         "title": {
          "text": "Date"
         }
        },
        "yaxis": {
         "anchor": "x",
         "domain": [
          0,
          1
         ],
         "title": {
          "text": "operationalDemandOpHoursSum"
         }
        }
       }
      }
     },
     "metadata": {},
     "output_type": "display_data"
    }
   ],
   "source": [
    "import plotly.express as px\n",
    "\n",
    "#Line graphs to assess typical trend of operational hours within a week\n",
    "fig = px.line(month1_df, x='operationalDemandDate', y='operationalDemandOpHoursSum')\n",
    "\n",
    "#Appropiate axis labelling\n",
    "fig.update_xaxes(title_text='Date')\n",
    "fig.update_yaxes(title_text='operationalDemandOpHoursSum')\n",
    "\n",
    "#title labelling\n",
    "fig.update_layout(title='Time Series Plot for the January 2023')\n",
    "\n",
    "fig.show()\n"
   ]
  },
  {
   "cell_type": "code",
   "execution_count": null,
   "metadata": {},
   "outputs": [],
   "source": []
  }
 ],
 "metadata": {
  "kernelspec": {
   "display_name": "Python 3",
   "language": "python",
   "name": "python3"
  },
  "language_info": {
   "codemirror_mode": {
    "name": "ipython",
    "version": 3
   },
   "file_extension": ".py",
   "mimetype": "text/x-python",
   "name": "python",
   "nbconvert_exporter": "python",
   "pygments_lexer": "ipython3",
   "version": "3.12.0"
  }
 },
 "nbformat": 4,
 "nbformat_minor": 2
}
